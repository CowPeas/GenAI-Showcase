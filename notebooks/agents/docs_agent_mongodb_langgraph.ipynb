{
 "cells": [
  {
   "cell_type": "markdown",
   "id": "826797b9-adf9-4bfb-b238-84a584fa9da1",
   "metadata": {},
   "source": [
    "# Building a technical documentation agent with MongoDB, Gemini, and LangGraph"
   ]
  },
  {
   "cell_type": "markdown",
   "id": "3dd87638-a6e9-4be6-bc2c-6bd4f085fe69",
   "metadata": {},
   "source": [
    "[![Open In Colab](https://colab.research.google.com/assets/colab-badge.svg)](https://colab.research.google.com/github/mongodb-developer/GenAI-Showcase/blob/main/notebooks/agents/docs_agent_mngodb_langgraph.ipynb)\n",
    "\n",
    "#### **NOTE**: The 📚 emoji indicates reference documentation."
   ]
  },
  {
   "cell_type": "markdown",
   "id": "743c74f9-9f00-455c-8c12-8b2ddc79ec74",
   "metadata": {},
   "source": [
    "# Step 1: Install required libraries\n",
    "\n",
    "* **pymongo**: Python driver for MongoDB\n",
    "* **langchain**: Python library for LangChain, an LLM app orchestration framework\n",
    "* **langchain-google-genai**: Python library to use Google's GenAI models in LangChain\n",
    "* **langgraph**: Python library for LangChain's agent orchestration framework, LangGraph\n",
    "* **langgraph-checkpoint-mongodb**: Python library to add MongoDB as a checkpointer in LangGraph\n",
    "* **sentence_transformers**: Python library to use open-source ML models from Hugging Face"
   ]
  },
  {
   "cell_type": "code",
   "execution_count": 2,
   "id": "ab2a42bb-0dc9-41b2-b6a2-5fde7dbda7c0",
   "metadata": {},
   "outputs": [],
   "source": [
    "! pip install -qU pymongo langchain langchain-google-genai langgraph langgraph-checkpoint-mongodb sentence_transformers"
   ]
  },
  {
   "cell_type": "markdown",
   "id": "dedd6ce0-f7dd-46e4-a1ed-d106f89a773c",
   "metadata": {},
   "source": [
    "# Step 2: Setup prerequisites\n",
    "\n",
    "* Register for a [free MongoDB Atlas account](https://www.mongodb.com/cloud/atlas/register)\n",
    "* [Create a new database cluster](https://www.mongodb.com/docs/guides/atlas/cluster/)\n",
    "* [Obtain the connection string](https://www.mongodb.com/docs/guides/atlas/connection-string/) for your database cluster"
   ]
  },
  {
   "cell_type": "code",
   "execution_count": 3,
   "id": "d1a8d577-a32e-4029-b6b0-eab7edda1567",
   "metadata": {},
   "outputs": [],
   "source": [
    "import getpass\n",
    "\n",
    "from pymongo import MongoClient"
   ]
  },
  {
   "cell_type": "code",
   "execution_count": 4,
   "id": "1bb5f930-cd9f-4b44-bbe4-0fdc28fe12ca",
   "metadata": {},
   "outputs": [
    {
     "name": "stdin",
     "output_type": "stream",
     "text": [
      "Enter your MongoDB connection string: ········\n"
     ]
    },
    {
     "data": {
      "text/plain": [
       "{'ok': 1.0,\n",
       " '$clusterTime': {'clusterTime': Timestamp(1744928532, 43),\n",
       "  'signature': {'hash': b'\\x7fN\\x9d\\xa9\\x98\\xbf\\xcb\\xf9\\x9cy\\xf0\\xdd\\xd3\\x83\\xa9v\\x9e\\xb8\\x17)',\n",
       "   'keyId': 7456513059255746561}},\n",
       " 'operationTime': Timestamp(1744928532, 43)}"
      ]
     },
     "execution_count": 4,
     "metadata": {},
     "output_type": "execute_result"
    }
   ],
   "source": [
    "# Paste your MongoDB connection string. Be sure to replace the password placeholder with your actual password.\n",
    "MONGODB_URI = getpass.getpass(\"Enter your MongoDB connection string:\")\n",
    "# Initialize a MongoDB Python client\n",
    "mongodb_client = MongoClient(MONGODB_URI, appname=\"devrel.workshop.agents\")\n",
    "# Check the connection to the server\n",
    "mongodb_client.admin.command(\"ping\")"
   ]
  }
 ],
 "metadata": {
  "kernelspec": {
   "display_name": "conda_python3",
   "language": "python",
   "name": "conda_python3"
  },
  "language_info": {
   "codemirror_mode": {
    "name": "ipython",
    "version": 3
   },
   "file_extension": ".py",
   "mimetype": "text/x-python",
   "name": "python",
   "nbconvert_exporter": "python",
   "pygments_lexer": "ipython3",
   "version": "3.10.16"
  }
 },
 "nbformat": 4,
 "nbformat_minor": 5
}
