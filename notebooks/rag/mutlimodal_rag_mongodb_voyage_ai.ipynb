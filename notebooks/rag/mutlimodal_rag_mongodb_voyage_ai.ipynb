{
 "cells": [
  {
   "cell_type": "markdown",
   "id": "0b5e96f5",
   "metadata": {},
   "source": [
    "[![Open In Colab](https://colab.research.google.com/assets/colab-badge.svg)](https://colab.research.google.com/github/mongodb-developer/GenAI-Showcase/blob/main/notebooks/rag/multimodal_rag_mongodb_voyage_ai.ipynb)\n",
    "\n",
    "[![View Article](https://img.shields.io/badge/View%20Article-blue)](TBD)"
   ]
  },
  {
   "cell_type": "markdown",
   "id": "170ae10b",
   "metadata": {},
   "source": [
    "# Building Multimodal RAG Applications with MongoDB and Voyage AI\n",
    "\n",
    "This notebook evaluates two different techniques for multimodal RAG:\n",
    "\n",
    "### 1. Using CLIP-based models\n",
    "* Use a multimodal embedding model to embed images and text chunks\n",
    "* Retrieve both using vector search\n",
    "* Pass raw images and text chunks to a multimodal LLM for answer synthesis\n",
    "\n",
    "### 2. Using VLM-based Voyage AI models\n",
    "* Take screenshot of full pages\n",
    "* Retrieve screenshots using semantic search\n",
    "* Pass the screenshot to a multimodal LLM for answer synthesis"
   ]
  },
  {
   "cell_type": "markdown",
   "id": "e140a47c",
   "metadata": {},
   "source": [
    "# Step 1: Install required libraries"
   ]
  },
  {
   "cell_type": "code",
   "execution_count": 33,
   "id": "310ebc30",
   "metadata": {},
   "outputs": [
    {
     "name": "stdout",
     "output_type": "stream",
     "text": [
      "\n",
      "\u001b[1m[\u001b[0m\u001b[34;49mnotice\u001b[0m\u001b[1;39;49m]\u001b[0m\u001b[39;49m A new release of pip is available: \u001b[0m\u001b[31;49m23.2.1\u001b[0m\u001b[39;49m -> \u001b[0m\u001b[32;49m25.0.1\u001b[0m\n",
      "\u001b[1m[\u001b[0m\u001b[34;49mnotice\u001b[0m\u001b[1;39;49m]\u001b[0m\u001b[39;49m To update, run: \u001b[0m\u001b[32;49mpip install --upgrade pip\u001b[0m\n"
     ]
    }
   ],
   "source": [
    "!pip install -qU pymongo voyageai langchain sentence-transformers PyMuPDF Pillow tqdm"
   ]
  },
  {
   "cell_type": "markdown",
   "id": "9473bae6",
   "metadata": {},
   "source": [
    "# Step 2: Setup prerequisites"
   ]
  },
  {
   "cell_type": "code",
   "execution_count": 79,
   "id": "0e85cbb8",
   "metadata": {},
   "outputs": [],
   "source": [
    "import getpass\n",
    "import os\n",
    "\n",
    "from pymongo import MongoClient"
   ]
  },
  {
   "cell_type": "code",
   "execution_count": null,
   "id": "69be8768-6ce6-45bd-bf63-40c725d56489",
   "metadata": {},
   "outputs": [],
   "source": [
    "DB_NAME = \"multimodal_rag\"\n",
    "COLLECTION_NAME = \"voyage_ai\"\n",
    "VS_INDEX_NAME = \"vector_index\"\n",
    "VOYAGE_EMBEDDING_MODEL = \"voyage-multimodal-3\"\n",
    "CLIP_EMBEDDING_MODEL = \"google/siglip-base-patch16-224\"\n",
    "LLM = \"gemini-2.0-flash\"\n",
    "S3_BUCKET = \"genai-tutorials\""
   ]
  },
  {
   "cell_type": "markdown",
   "id": "3cc8eaee-2f17-42e5-b245-8bff4dbba363",
   "metadata": {},
   "source": [
    "### MongoDB"
   ]
  },
  {
   "cell_type": "code",
   "execution_count": 38,
   "id": "10185099",
   "metadata": {},
   "outputs": [
    {
     "name": "stdin",
     "output_type": "stream",
     "text": [
      "Enter your MongoDB connection string:  ········\n"
     ]
    },
    {
     "data": {
      "text/plain": [
       "{'ok': 1.0,\n",
       " '$clusterTime': {'clusterTime': Timestamp(1742333710, 1),\n",
       "  'signature': {'hash': b'\\xbf\\xdd\\x93\\xf1$\\x81q=\\xe3\\xcd\\x90l\\x14\\xcf\\x13\\xbfX\\x9cI\\xad',\n",
       "   'keyId': 7421985632479608834}},\n",
       " 'operationTime': Timestamp(1742333710, 1)}"
      ]
     },
     "execution_count": 38,
     "metadata": {},
     "output_type": "execute_result"
    }
   ],
   "source": [
    "# Your MongoDB connection string\n",
    "MONGODB_URI = getpass.getpass(\"Enter your MongoDB connection string: \")"
   ]
  },
  {
   "cell_type": "code",
   "execution_count": null,
   "id": "3770cc49-8af8-41b5-8d73-9fdbe0d40188",
   "metadata": {},
   "outputs": [],
   "source": [
    "# Create a MongoDB client\n",
    "mongodb_client = MongoClient(\n",
    "    MONGODB_URI, appname=\"devrel.showcase.multimodal_rag_mongodb_voyage_ai\"\n",
    ")\n",
    "# Check connection to the cluster\n",
    "mongodb_client.admin.command(\"ping\")"
   ]
  },
  {
   "cell_type": "markdown",
   "id": "0ab16b06-cead-4ae9-864a-340e1e0f4e38",
   "metadata": {},
   "source": [
    "### Voyage AI"
   ]
  },
  {
   "cell_type": "code",
   "execution_count": 4,
   "id": "d51ca376",
   "metadata": {},
   "outputs": [
    {
     "name": "stdin",
     "output_type": "stream",
     "text": [
      "Enter your Voyage AI API key:  ········\n"
     ]
    }
   ],
   "source": [
    "# Set Voyage AI API Key\n",
    "os.environ[\"VOYAGE_API_KEY\"] = getpass.getpass(\"Enter your Voyage AI API key: \")"
   ]
  },
  {
   "cell_type": "markdown",
   "id": "64b26fc3-ee6a-4a1f-8bb4-e87ad1ade2d5",
   "metadata": {},
   "source": [
    "### Google"
   ]
  },
  {
   "cell_type": "code",
   "execution_count": 5,
   "id": "84d87c79",
   "metadata": {},
   "outputs": [
    {
     "name": "stdin",
     "output_type": "stream",
     "text": [
      "Enter your Gemini AI API key:  ········\n"
     ]
    }
   ],
   "source": [
    "# Set Gemini API Key\n",
    "os.environ[\"GEMINI_API_KEY\"] = getpass.getpass(\"Enter your Gemini AI API key: \")"
   ]
  },
  {
   "cell_type": "markdown",
   "id": "34ebf899-9f07-4715-96a2-92504af92655",
   "metadata": {},
   "source": [
    "### AWS"
   ]
  },
  {
   "cell_type": "code",
   "execution_count": 75,
   "id": "43b50cc6-94e8-435f-8a1e-7624cb348d0c",
   "metadata": {},
   "outputs": [
    {
     "name": "stdin",
     "output_type": "stream",
     "text": [
      "Enter your AWS Access Key ID:  ········\n"
     ]
    }
   ],
   "source": [
    "# Set AWS secrets\n",
    "os.environ[\"AWS_ACCESS_KEY_ID\"] = getpass.getpass(\"Enter your AWS access key ID: \")"
   ]
  },
  {
   "cell_type": "code",
   "execution_count": 76,
   "id": "2f61f7bf-411f-48e4-b1e6-600cc0e9b887",
   "metadata": {},
   "outputs": [
    {
     "name": "stdin",
     "output_type": "stream",
     "text": [
      "Enter your AWS secret access key:  ········\n"
     ]
    }
   ],
   "source": [
    "os.environ[\"AWS_SECRET_ACCESS_KEY\"] = getpass.getpass(\n",
    "    \"Enter your AWS secret access key: \"\n",
    ")"
   ]
  },
  {
   "cell_type": "markdown",
   "id": "4ff3a53e",
   "metadata": {},
   "source": [
    "# Step 3: Read PDF from URL"
   ]
  },
  {
   "cell_type": "code",
   "execution_count": 6,
   "id": "3cd9548e",
   "metadata": {},
   "outputs": [],
   "source": [
    "from io import BytesIO\n",
    "\n",
    "import pymupdf\n",
    "import requests"
   ]
  },
  {
   "cell_type": "code",
   "execution_count": 7,
   "id": "315c5bef",
   "metadata": {},
   "outputs": [],
   "source": [
    "response = requests.get(\"https://arxiv.org/pdf/2501.12948\")\n",
    "if response.status_code != 200:\n",
    "    raise ValueError(f\"Failed to download PDF. Status code: {response.status_code}\")\n",
    "\n",
    "pdf_stream = BytesIO(response.content)\n",
    "pdf = pymupdf.open(stream=pdf_stream, filetype=\"pdf\")"
   ]
  },
  {
   "cell_type": "markdown",
   "id": "973d896a",
   "metadata": {},
   "source": [
    "# Step 4: Convert PDF pages to images and store them in AWS S3"
   ]
  },
  {
   "cell_type": "code",
   "execution_count": 78,
   "id": "b8efe181-4e2f-474d-b230-f8fea6e614b0",
   "metadata": {},
   "outputs": [],
   "source": [
    "import gzip\n",
    "\n",
    "import boto3\n",
    "from PIL import Image\n",
    "from tqdm import tqdm"
   ]
  },
  {
   "cell_type": "code",
   "execution_count": 119,
   "id": "a2072d42-fc3e-4eb5-bca7-f770c457cd48",
   "metadata": {},
   "outputs": [],
   "source": [
    "s3 = boto3.client(\"s3\")"
   ]
  },
  {
   "cell_type": "code",
   "execution_count": 93,
   "id": "aa6e2dac-40d7-4f8a-a6d0-3b61a71fcc2c",
   "metadata": {},
   "outputs": [],
   "source": [
    "def upload_image_to_s3(key, data):\n",
    "    buffer = BytesIO()\n",
    "    with gzip.GzipFile(fileobj=buffer, mode=\"wb\", compresslevel=9) as f:\n",
    "        f.write(data)\n",
    "    try:\n",
    "        s3.put_object(\n",
    "            Bucket=S3_BUCKET,\n",
    "            Key=key,\n",
    "            Body=buffer.getvalue(),\n",
    "            ContentEncoding=\"gzip\",\n",
    "            ContentType=\"image/png\",\n",
    "        )\n",
    "    except Exception as e:\n",
    "        print(e)"
   ]
  },
  {
   "cell_type": "code",
   "execution_count": 94,
   "id": "39326cac-e733-43c5-a824-db40ec23d787",
   "metadata": {},
   "outputs": [],
   "source": [
    "def get_embedding(data, input_type):\n",
    "    embedding = voyageai_client.multimodal_embed(\n",
    "        inputs=[[data]], model=EMBEDDING_MODEL, input_type=input_type\n",
    "    ).embeddings[0]\n",
    "    return embedding"
   ]
  },
  {
   "cell_type": "code",
   "execution_count": 122,
   "id": "c0c6ab4c-28a4-4354-ab24-af5eddfbe5e4",
   "metadata": {},
   "outputs": [],
   "source": [
    "images = []"
   ]
  },
  {
   "cell_type": "code",
   "execution_count": 123,
   "id": "c3bb3d4f-f00f-4e48-9cfa-71eea459f0b5",
   "metadata": {},
   "outputs": [
    {
     "name": "stderr",
     "output_type": "stream",
     "text": [
      "100%|█████████████████████████████████████████████████████████████████████████████████████████████████████████████████████████████████████████████████████████████████████████████████████████████████████████████████████████████████████████████████████████████████████████████████████████████████████████████████████████████████████| 22/22 [00:16<00:00,  1.31it/s]\n"
     ]
    }
   ],
   "source": [
    "zoom = 3.0\n",
    "mat = pymupdf.Matrix(zoom, zoom)\n",
    "for n in tqdm(range(pdf.page_count)):\n",
    "    pix = pdf[n].get_pixmap(matrix=mat)\n",
    "    img_bytes = pix.samples\n",
    "    img_key = f\"multimodal-rag/{n}.png.gz\"\n",
    "    upload_image_to_s3(img_key, img_bytes)\n",
    "    images.append(img_bytes)"
   ]
  },
  {
   "cell_type": "markdown",
   "id": "efa27b27-aca8-4e22-9a9d-55b9e3c2d41f",
   "metadata": {},
   "source": [
    "# Step 5: Embed the images"
   ]
  },
  {
   "cell_type": "code",
   "execution_count": 130,
   "id": "76b66c6d-f220-4315-a577-83b60f96b7d5",
   "metadata": {},
   "outputs": [],
   "source": [
    "from sentence_transformers import SentenceTransformer\n",
    "from voyageai import Client"
   ]
  },
  {
   "cell_type": "code",
   "execution_count": 124,
   "id": "3274d1f9-20ac-46b0-8a1b-414930a937c8",
   "metadata": {},
   "outputs": [],
   "source": [
    "voyageai_client = Client()"
   ]
  },
  {
   "cell_type": "code",
   "execution_count": 132,
   "id": "20c57740-dab8-4269-acb3-24667b4aa691",
   "metadata": {},
   "outputs": [
    {
     "name": "stderr",
     "output_type": "stream",
     "text": [
      "No sentence-transformers model found with name sentence-transformers/clip-ViT-B-32. Creating a new one with mean pooling.\n"
     ]
    },
    {
     "ename": "OSError",
     "evalue": "sentence-transformers/clip-ViT-B-32 is not a local folder and is not a valid model identifier listed on 'https://huggingface.co/models'\nIf this is a private repository, make sure to pass a token having permission to this repo either by logging in with `huggingface-cli login` or by passing `token=<your_token>`",
     "output_type": "error",
     "traceback": [
      "\u001b[0;31m---------------------------------------------------------------------------\u001b[0m",
      "\u001b[0;31mHTTPError\u001b[0m                                 Traceback (most recent call last)",
      "File \u001b[0;32m~/.pyenv/versions/3.12.1/lib/python3.12/site-packages/huggingface_hub/utils/_errors.py:304\u001b[0m, in \u001b[0;36mhf_raise_for_status\u001b[0;34m(response, endpoint_name)\u001b[0m\n\u001b[1;32m    303\u001b[0m \u001b[38;5;28;01mtry\u001b[39;00m:\n\u001b[0;32m--> 304\u001b[0m     \u001b[43mresponse\u001b[49m\u001b[38;5;241;43m.\u001b[39;49m\u001b[43mraise_for_status\u001b[49m\u001b[43m(\u001b[49m\u001b[43m)\u001b[49m\n\u001b[1;32m    305\u001b[0m \u001b[38;5;28;01mexcept\u001b[39;00m HTTPError \u001b[38;5;28;01mas\u001b[39;00m e:\n",
      "File \u001b[0;32m~/.pyenv/versions/3.12.1/lib/python3.12/site-packages/requests/models.py:1024\u001b[0m, in \u001b[0;36mResponse.raise_for_status\u001b[0;34m(self)\u001b[0m\n\u001b[1;32m   1023\u001b[0m \u001b[38;5;28;01mif\u001b[39;00m http_error_msg:\n\u001b[0;32m-> 1024\u001b[0m     \u001b[38;5;28;01mraise\u001b[39;00m HTTPError(http_error_msg, response\u001b[38;5;241m=\u001b[39m\u001b[38;5;28mself\u001b[39m)\n",
      "\u001b[0;31mHTTPError\u001b[0m: 401 Client Error: Unauthorized for url: https://huggingface.co/sentence-transformers/clip-ViT-B-32/resolve/main/adapter_config.json",
      "\nThe above exception was the direct cause of the following exception:\n",
      "\u001b[0;31mRepositoryNotFoundError\u001b[0m                   Traceback (most recent call last)",
      "File \u001b[0;32m~/.pyenv/versions/3.12.1/lib/python3.12/site-packages/transformers/utils/hub.py:399\u001b[0m, in \u001b[0;36mcached_file\u001b[0;34m(path_or_repo_id, filename, cache_dir, force_download, resume_download, proxies, token, revision, local_files_only, subfolder, repo_type, user_agent, _raise_exceptions_for_gated_repo, _raise_exceptions_for_missing_entries, _raise_exceptions_for_connection_errors, _commit_hash, **deprecated_kwargs)\u001b[0m\n\u001b[1;32m    397\u001b[0m \u001b[38;5;28;01mtry\u001b[39;00m:\n\u001b[1;32m    398\u001b[0m     \u001b[38;5;66;03m# Load from URL or cache if already cached\u001b[39;00m\n\u001b[0;32m--> 399\u001b[0m     resolved_file \u001b[38;5;241m=\u001b[39m \u001b[43mhf_hub_download\u001b[49m\u001b[43m(\u001b[49m\n\u001b[1;32m    400\u001b[0m \u001b[43m        \u001b[49m\u001b[43mpath_or_repo_id\u001b[49m\u001b[43m,\u001b[49m\n\u001b[1;32m    401\u001b[0m \u001b[43m        \u001b[49m\u001b[43mfilename\u001b[49m\u001b[43m,\u001b[49m\n\u001b[1;32m    402\u001b[0m \u001b[43m        \u001b[49m\u001b[43msubfolder\u001b[49m\u001b[38;5;241;43m=\u001b[39;49m\u001b[38;5;28;43;01mNone\u001b[39;49;00m\u001b[43m \u001b[49m\u001b[38;5;28;43;01mif\u001b[39;49;00m\u001b[43m \u001b[49m\u001b[38;5;28;43mlen\u001b[39;49m\u001b[43m(\u001b[49m\u001b[43msubfolder\u001b[49m\u001b[43m)\u001b[49m\u001b[43m \u001b[49m\u001b[38;5;241;43m==\u001b[39;49m\u001b[43m \u001b[49m\u001b[38;5;241;43m0\u001b[39;49m\u001b[43m \u001b[49m\u001b[38;5;28;43;01melse\u001b[39;49;00m\u001b[43m \u001b[49m\u001b[43msubfolder\u001b[49m\u001b[43m,\u001b[49m\n\u001b[1;32m    403\u001b[0m \u001b[43m        \u001b[49m\u001b[43mrepo_type\u001b[49m\u001b[38;5;241;43m=\u001b[39;49m\u001b[43mrepo_type\u001b[49m\u001b[43m,\u001b[49m\n\u001b[1;32m    404\u001b[0m \u001b[43m        \u001b[49m\u001b[43mrevision\u001b[49m\u001b[38;5;241;43m=\u001b[39;49m\u001b[43mrevision\u001b[49m\u001b[43m,\u001b[49m\n\u001b[1;32m    405\u001b[0m \u001b[43m        \u001b[49m\u001b[43mcache_dir\u001b[49m\u001b[38;5;241;43m=\u001b[39;49m\u001b[43mcache_dir\u001b[49m\u001b[43m,\u001b[49m\n\u001b[1;32m    406\u001b[0m \u001b[43m        \u001b[49m\u001b[43muser_agent\u001b[49m\u001b[38;5;241;43m=\u001b[39;49m\u001b[43muser_agent\u001b[49m\u001b[43m,\u001b[49m\n\u001b[1;32m    407\u001b[0m \u001b[43m        \u001b[49m\u001b[43mforce_download\u001b[49m\u001b[38;5;241;43m=\u001b[39;49m\u001b[43mforce_download\u001b[49m\u001b[43m,\u001b[49m\n\u001b[1;32m    408\u001b[0m \u001b[43m        \u001b[49m\u001b[43mproxies\u001b[49m\u001b[38;5;241;43m=\u001b[39;49m\u001b[43mproxies\u001b[49m\u001b[43m,\u001b[49m\n\u001b[1;32m    409\u001b[0m \u001b[43m        \u001b[49m\u001b[43mresume_download\u001b[49m\u001b[38;5;241;43m=\u001b[39;49m\u001b[43mresume_download\u001b[49m\u001b[43m,\u001b[49m\n\u001b[1;32m    410\u001b[0m \u001b[43m        \u001b[49m\u001b[43mtoken\u001b[49m\u001b[38;5;241;43m=\u001b[39;49m\u001b[43mtoken\u001b[49m\u001b[43m,\u001b[49m\n\u001b[1;32m    411\u001b[0m \u001b[43m        \u001b[49m\u001b[43mlocal_files_only\u001b[49m\u001b[38;5;241;43m=\u001b[39;49m\u001b[43mlocal_files_only\u001b[49m\u001b[43m,\u001b[49m\n\u001b[1;32m    412\u001b[0m \u001b[43m    \u001b[49m\u001b[43m)\u001b[49m\n\u001b[1;32m    413\u001b[0m \u001b[38;5;28;01mexcept\u001b[39;00m GatedRepoError \u001b[38;5;28;01mas\u001b[39;00m e:\n",
      "File \u001b[0;32m~/.pyenv/versions/3.12.1/lib/python3.12/site-packages/huggingface_hub/utils/_validators.py:114\u001b[0m, in \u001b[0;36mvalidate_hf_hub_args.<locals>._inner_fn\u001b[0;34m(*args, **kwargs)\u001b[0m\n\u001b[1;32m    112\u001b[0m     kwargs \u001b[38;5;241m=\u001b[39m smoothly_deprecate_use_auth_token(fn_name\u001b[38;5;241m=\u001b[39mfn\u001b[38;5;241m.\u001b[39m\u001b[38;5;18m__name__\u001b[39m, has_token\u001b[38;5;241m=\u001b[39mhas_token, kwargs\u001b[38;5;241m=\u001b[39mkwargs)\n\u001b[0;32m--> 114\u001b[0m \u001b[38;5;28;01mreturn\u001b[39;00m \u001b[43mfn\u001b[49m\u001b[43m(\u001b[49m\u001b[38;5;241;43m*\u001b[39;49m\u001b[43margs\u001b[49m\u001b[43m,\u001b[49m\u001b[43m \u001b[49m\u001b[38;5;241;43m*\u001b[39;49m\u001b[38;5;241;43m*\u001b[39;49m\u001b[43mkwargs\u001b[49m\u001b[43m)\u001b[49m\n",
      "File \u001b[0;32m~/.pyenv/versions/3.12.1/lib/python3.12/site-packages/huggingface_hub/file_download.py:1221\u001b[0m, in \u001b[0;36mhf_hub_download\u001b[0;34m(repo_id, filename, subfolder, repo_type, revision, library_name, library_version, cache_dir, local_dir, user_agent, force_download, proxies, etag_timeout, token, local_files_only, headers, endpoint, legacy_cache_layout, resume_download, force_filename, local_dir_use_symlinks)\u001b[0m\n\u001b[1;32m   1220\u001b[0m \u001b[38;5;28;01melse\u001b[39;00m:\n\u001b[0;32m-> 1221\u001b[0m     \u001b[38;5;28;01mreturn\u001b[39;00m \u001b[43m_hf_hub_download_to_cache_dir\u001b[49m\u001b[43m(\u001b[49m\n\u001b[1;32m   1222\u001b[0m \u001b[43m        \u001b[49m\u001b[38;5;66;43;03m# Destination\u001b[39;49;00m\n\u001b[1;32m   1223\u001b[0m \u001b[43m        \u001b[49m\u001b[43mcache_dir\u001b[49m\u001b[38;5;241;43m=\u001b[39;49m\u001b[43mcache_dir\u001b[49m\u001b[43m,\u001b[49m\n\u001b[1;32m   1224\u001b[0m \u001b[43m        \u001b[49m\u001b[38;5;66;43;03m# File info\u001b[39;49;00m\n\u001b[1;32m   1225\u001b[0m \u001b[43m        \u001b[49m\u001b[43mrepo_id\u001b[49m\u001b[38;5;241;43m=\u001b[39;49m\u001b[43mrepo_id\u001b[49m\u001b[43m,\u001b[49m\n\u001b[1;32m   1226\u001b[0m \u001b[43m        \u001b[49m\u001b[43mfilename\u001b[49m\u001b[38;5;241;43m=\u001b[39;49m\u001b[43mfilename\u001b[49m\u001b[43m,\u001b[49m\n\u001b[1;32m   1227\u001b[0m \u001b[43m        \u001b[49m\u001b[43mrepo_type\u001b[49m\u001b[38;5;241;43m=\u001b[39;49m\u001b[43mrepo_type\u001b[49m\u001b[43m,\u001b[49m\n\u001b[1;32m   1228\u001b[0m \u001b[43m        \u001b[49m\u001b[43mrevision\u001b[49m\u001b[38;5;241;43m=\u001b[39;49m\u001b[43mrevision\u001b[49m\u001b[43m,\u001b[49m\n\u001b[1;32m   1229\u001b[0m \u001b[43m        \u001b[49m\u001b[38;5;66;43;03m# HTTP info\u001b[39;49;00m\n\u001b[1;32m   1230\u001b[0m \u001b[43m        \u001b[49m\u001b[43mheaders\u001b[49m\u001b[38;5;241;43m=\u001b[39;49m\u001b[43mheaders\u001b[49m\u001b[43m,\u001b[49m\n\u001b[1;32m   1231\u001b[0m \u001b[43m        \u001b[49m\u001b[43mproxies\u001b[49m\u001b[38;5;241;43m=\u001b[39;49m\u001b[43mproxies\u001b[49m\u001b[43m,\u001b[49m\n\u001b[1;32m   1232\u001b[0m \u001b[43m        \u001b[49m\u001b[43metag_timeout\u001b[49m\u001b[38;5;241;43m=\u001b[39;49m\u001b[43metag_timeout\u001b[49m\u001b[43m,\u001b[49m\n\u001b[1;32m   1233\u001b[0m \u001b[43m        \u001b[49m\u001b[43mendpoint\u001b[49m\u001b[38;5;241;43m=\u001b[39;49m\u001b[43mendpoint\u001b[49m\u001b[43m,\u001b[49m\n\u001b[1;32m   1234\u001b[0m \u001b[43m        \u001b[49m\u001b[38;5;66;43;03m# Additional options\u001b[39;49;00m\n\u001b[1;32m   1235\u001b[0m \u001b[43m        \u001b[49m\u001b[43mlocal_files_only\u001b[49m\u001b[38;5;241;43m=\u001b[39;49m\u001b[43mlocal_files_only\u001b[49m\u001b[43m,\u001b[49m\n\u001b[1;32m   1236\u001b[0m \u001b[43m        \u001b[49m\u001b[43mforce_download\u001b[49m\u001b[38;5;241;43m=\u001b[39;49m\u001b[43mforce_download\u001b[49m\u001b[43m,\u001b[49m\n\u001b[1;32m   1237\u001b[0m \u001b[43m    \u001b[49m\u001b[43m)\u001b[49m\n",
      "File \u001b[0;32m~/.pyenv/versions/3.12.1/lib/python3.12/site-packages/huggingface_hub/file_download.py:1325\u001b[0m, in \u001b[0;36m_hf_hub_download_to_cache_dir\u001b[0;34m(cache_dir, repo_id, filename, repo_type, revision, headers, proxies, etag_timeout, endpoint, local_files_only, force_download)\u001b[0m\n\u001b[1;32m   1324\u001b[0m     \u001b[38;5;66;03m# Otherwise, raise appropriate error\u001b[39;00m\n\u001b[0;32m-> 1325\u001b[0m     \u001b[43m_raise_on_head_call_error\u001b[49m\u001b[43m(\u001b[49m\u001b[43mhead_call_error\u001b[49m\u001b[43m,\u001b[49m\u001b[43m \u001b[49m\u001b[43mforce_download\u001b[49m\u001b[43m,\u001b[49m\u001b[43m \u001b[49m\u001b[43mlocal_files_only\u001b[49m\u001b[43m)\u001b[49m\n\u001b[1;32m   1327\u001b[0m \u001b[38;5;66;03m# From now on, etag, commit_hash, url and size are not None.\u001b[39;00m\n",
      "File \u001b[0;32m~/.pyenv/versions/3.12.1/lib/python3.12/site-packages/huggingface_hub/file_download.py:1823\u001b[0m, in \u001b[0;36m_raise_on_head_call_error\u001b[0;34m(head_call_error, force_download, local_files_only)\u001b[0m\n\u001b[1;32m   1821\u001b[0m \u001b[38;5;28;01melif\u001b[39;00m \u001b[38;5;28misinstance\u001b[39m(head_call_error, RepositoryNotFoundError) \u001b[38;5;129;01mor\u001b[39;00m \u001b[38;5;28misinstance\u001b[39m(head_call_error, GatedRepoError):\n\u001b[1;32m   1822\u001b[0m     \u001b[38;5;66;03m# Repo not found or gated => let's raise the actual error\u001b[39;00m\n\u001b[0;32m-> 1823\u001b[0m     \u001b[38;5;28;01mraise\u001b[39;00m head_call_error\n\u001b[1;32m   1824\u001b[0m \u001b[38;5;28;01melse\u001b[39;00m:\n\u001b[1;32m   1825\u001b[0m     \u001b[38;5;66;03m# Otherwise: most likely a connection issue or Hub downtime => let's warn the user\u001b[39;00m\n",
      "File \u001b[0;32m~/.pyenv/versions/3.12.1/lib/python3.12/site-packages/huggingface_hub/file_download.py:1722\u001b[0m, in \u001b[0;36m_get_metadata_or_catch_error\u001b[0;34m(repo_id, filename, repo_type, revision, endpoint, proxies, etag_timeout, headers, local_files_only, relative_filename, storage_folder)\u001b[0m\n\u001b[1;32m   1721\u001b[0m \u001b[38;5;28;01mtry\u001b[39;00m:\n\u001b[0;32m-> 1722\u001b[0m     metadata \u001b[38;5;241m=\u001b[39m \u001b[43mget_hf_file_metadata\u001b[49m\u001b[43m(\u001b[49m\u001b[43murl\u001b[49m\u001b[38;5;241;43m=\u001b[39;49m\u001b[43murl\u001b[49m\u001b[43m,\u001b[49m\u001b[43m \u001b[49m\u001b[43mproxies\u001b[49m\u001b[38;5;241;43m=\u001b[39;49m\u001b[43mproxies\u001b[49m\u001b[43m,\u001b[49m\u001b[43m \u001b[49m\u001b[43mtimeout\u001b[49m\u001b[38;5;241;43m=\u001b[39;49m\u001b[43metag_timeout\u001b[49m\u001b[43m,\u001b[49m\u001b[43m \u001b[49m\u001b[43mheaders\u001b[49m\u001b[38;5;241;43m=\u001b[39;49m\u001b[43mheaders\u001b[49m\u001b[43m)\u001b[49m\n\u001b[1;32m   1723\u001b[0m \u001b[38;5;28;01mexcept\u001b[39;00m EntryNotFoundError \u001b[38;5;28;01mas\u001b[39;00m http_error:\n",
      "File \u001b[0;32m~/.pyenv/versions/3.12.1/lib/python3.12/site-packages/huggingface_hub/utils/_validators.py:114\u001b[0m, in \u001b[0;36mvalidate_hf_hub_args.<locals>._inner_fn\u001b[0;34m(*args, **kwargs)\u001b[0m\n\u001b[1;32m    112\u001b[0m     kwargs \u001b[38;5;241m=\u001b[39m smoothly_deprecate_use_auth_token(fn_name\u001b[38;5;241m=\u001b[39mfn\u001b[38;5;241m.\u001b[39m\u001b[38;5;18m__name__\u001b[39m, has_token\u001b[38;5;241m=\u001b[39mhas_token, kwargs\u001b[38;5;241m=\u001b[39mkwargs)\n\u001b[0;32m--> 114\u001b[0m \u001b[38;5;28;01mreturn\u001b[39;00m \u001b[43mfn\u001b[49m\u001b[43m(\u001b[49m\u001b[38;5;241;43m*\u001b[39;49m\u001b[43margs\u001b[49m\u001b[43m,\u001b[49m\u001b[43m \u001b[49m\u001b[38;5;241;43m*\u001b[39;49m\u001b[38;5;241;43m*\u001b[39;49m\u001b[43mkwargs\u001b[49m\u001b[43m)\u001b[49m\n",
      "File \u001b[0;32m~/.pyenv/versions/3.12.1/lib/python3.12/site-packages/huggingface_hub/file_download.py:1645\u001b[0m, in \u001b[0;36mget_hf_file_metadata\u001b[0;34m(url, token, proxies, timeout, library_name, library_version, user_agent, headers)\u001b[0m\n\u001b[1;32m   1644\u001b[0m \u001b[38;5;66;03m# Retrieve metadata\u001b[39;00m\n\u001b[0;32m-> 1645\u001b[0m r \u001b[38;5;241m=\u001b[39m \u001b[43m_request_wrapper\u001b[49m\u001b[43m(\u001b[49m\n\u001b[1;32m   1646\u001b[0m \u001b[43m    \u001b[49m\u001b[43mmethod\u001b[49m\u001b[38;5;241;43m=\u001b[39;49m\u001b[38;5;124;43m\"\u001b[39;49m\u001b[38;5;124;43mHEAD\u001b[39;49m\u001b[38;5;124;43m\"\u001b[39;49m\u001b[43m,\u001b[49m\n\u001b[1;32m   1647\u001b[0m \u001b[43m    \u001b[49m\u001b[43murl\u001b[49m\u001b[38;5;241;43m=\u001b[39;49m\u001b[43murl\u001b[49m\u001b[43m,\u001b[49m\n\u001b[1;32m   1648\u001b[0m \u001b[43m    \u001b[49m\u001b[43mheaders\u001b[49m\u001b[38;5;241;43m=\u001b[39;49m\u001b[43mheaders\u001b[49m\u001b[43m,\u001b[49m\n\u001b[1;32m   1649\u001b[0m \u001b[43m    \u001b[49m\u001b[43mallow_redirects\u001b[49m\u001b[38;5;241;43m=\u001b[39;49m\u001b[38;5;28;43;01mFalse\u001b[39;49;00m\u001b[43m,\u001b[49m\n\u001b[1;32m   1650\u001b[0m \u001b[43m    \u001b[49m\u001b[43mfollow_relative_redirects\u001b[49m\u001b[38;5;241;43m=\u001b[39;49m\u001b[38;5;28;43;01mTrue\u001b[39;49;00m\u001b[43m,\u001b[49m\n\u001b[1;32m   1651\u001b[0m \u001b[43m    \u001b[49m\u001b[43mproxies\u001b[49m\u001b[38;5;241;43m=\u001b[39;49m\u001b[43mproxies\u001b[49m\u001b[43m,\u001b[49m\n\u001b[1;32m   1652\u001b[0m \u001b[43m    \u001b[49m\u001b[43mtimeout\u001b[49m\u001b[38;5;241;43m=\u001b[39;49m\u001b[43mtimeout\u001b[49m\u001b[43m,\u001b[49m\n\u001b[1;32m   1653\u001b[0m \u001b[43m\u001b[49m\u001b[43m)\u001b[49m\n\u001b[1;32m   1654\u001b[0m hf_raise_for_status(r)\n",
      "File \u001b[0;32m~/.pyenv/versions/3.12.1/lib/python3.12/site-packages/huggingface_hub/file_download.py:372\u001b[0m, in \u001b[0;36m_request_wrapper\u001b[0;34m(method, url, follow_relative_redirects, **params)\u001b[0m\n\u001b[1;32m    371\u001b[0m \u001b[38;5;28;01mif\u001b[39;00m follow_relative_redirects:\n\u001b[0;32m--> 372\u001b[0m     response \u001b[38;5;241m=\u001b[39m \u001b[43m_request_wrapper\u001b[49m\u001b[43m(\u001b[49m\n\u001b[1;32m    373\u001b[0m \u001b[43m        \u001b[49m\u001b[43mmethod\u001b[49m\u001b[38;5;241;43m=\u001b[39;49m\u001b[43mmethod\u001b[49m\u001b[43m,\u001b[49m\n\u001b[1;32m    374\u001b[0m \u001b[43m        \u001b[49m\u001b[43murl\u001b[49m\u001b[38;5;241;43m=\u001b[39;49m\u001b[43murl\u001b[49m\u001b[43m,\u001b[49m\n\u001b[1;32m    375\u001b[0m \u001b[43m        \u001b[49m\u001b[43mfollow_relative_redirects\u001b[49m\u001b[38;5;241;43m=\u001b[39;49m\u001b[38;5;28;43;01mFalse\u001b[39;49;00m\u001b[43m,\u001b[49m\n\u001b[1;32m    376\u001b[0m \u001b[43m        \u001b[49m\u001b[38;5;241;43m*\u001b[39;49m\u001b[38;5;241;43m*\u001b[39;49m\u001b[43mparams\u001b[49m\u001b[43m,\u001b[49m\n\u001b[1;32m    377\u001b[0m \u001b[43m    \u001b[49m\u001b[43m)\u001b[49m\n\u001b[1;32m    379\u001b[0m     \u001b[38;5;66;03m# If redirection, we redirect only relative paths.\u001b[39;00m\n\u001b[1;32m    380\u001b[0m     \u001b[38;5;66;03m# This is useful in case of a renamed repository.\u001b[39;00m\n",
      "File \u001b[0;32m~/.pyenv/versions/3.12.1/lib/python3.12/site-packages/huggingface_hub/file_download.py:396\u001b[0m, in \u001b[0;36m_request_wrapper\u001b[0;34m(method, url, follow_relative_redirects, **params)\u001b[0m\n\u001b[1;32m    395\u001b[0m response \u001b[38;5;241m=\u001b[39m get_session()\u001b[38;5;241m.\u001b[39mrequest(method\u001b[38;5;241m=\u001b[39mmethod, url\u001b[38;5;241m=\u001b[39murl, \u001b[38;5;241m*\u001b[39m\u001b[38;5;241m*\u001b[39mparams)\n\u001b[0;32m--> 396\u001b[0m \u001b[43mhf_raise_for_status\u001b[49m\u001b[43m(\u001b[49m\u001b[43mresponse\u001b[49m\u001b[43m)\u001b[49m\n\u001b[1;32m    397\u001b[0m \u001b[38;5;28;01mreturn\u001b[39;00m response\n",
      "File \u001b[0;32m~/.pyenv/versions/3.12.1/lib/python3.12/site-packages/huggingface_hub/utils/_errors.py:352\u001b[0m, in \u001b[0;36mhf_raise_for_status\u001b[0;34m(response, endpoint_name)\u001b[0m\n\u001b[1;32m    344\u001b[0m     message \u001b[38;5;241m=\u001b[39m (\n\u001b[1;32m    345\u001b[0m         \u001b[38;5;124mf\u001b[39m\u001b[38;5;124m\"\u001b[39m\u001b[38;5;132;01m{\u001b[39;00mresponse\u001b[38;5;241m.\u001b[39mstatus_code\u001b[38;5;132;01m}\u001b[39;00m\u001b[38;5;124m Client Error.\u001b[39m\u001b[38;5;124m\"\u001b[39m\n\u001b[1;32m    346\u001b[0m         \u001b[38;5;241m+\u001b[39m \u001b[38;5;124m\"\u001b[39m\u001b[38;5;130;01m\\n\u001b[39;00m\u001b[38;5;130;01m\\n\u001b[39;00m\u001b[38;5;124m\"\u001b[39m\n\u001b[0;32m   (...)\u001b[0m\n\u001b[1;32m    350\u001b[0m         \u001b[38;5;124m\"\u001b[39m\u001b[38;5;124m make sure you are authenticated.\u001b[39m\u001b[38;5;124m\"\u001b[39m\n\u001b[1;32m    351\u001b[0m     )\n\u001b[0;32m--> 352\u001b[0m     \u001b[38;5;28;01mraise\u001b[39;00m RepositoryNotFoundError(message, response) \u001b[38;5;28;01mfrom\u001b[39;00m \u001b[38;5;21;01me\u001b[39;00m\n\u001b[1;32m    354\u001b[0m \u001b[38;5;28;01melif\u001b[39;00m response\u001b[38;5;241m.\u001b[39mstatus_code \u001b[38;5;241m==\u001b[39m \u001b[38;5;241m400\u001b[39m:\n",
      "\u001b[0;31mRepositoryNotFoundError\u001b[0m: 401 Client Error. (Request ID: Root=1-67db30dc-2125094010251c0734d4b5a6;01045197-ad40-4c6a-aaa9-461a7cc5df36)\n\nRepository Not Found for url: https://huggingface.co/sentence-transformers/clip-ViT-B-32/resolve/main/adapter_config.json.\nPlease make sure you specified the correct `repo_id` and `repo_type`.\nIf you are trying to access a private or gated repo, make sure you are authenticated.\nInvalid credentials in Authorization header",
      "\nThe above exception was the direct cause of the following exception:\n",
      "\u001b[0;31mOSError\u001b[0m                                   Traceback (most recent call last)",
      "Cell \u001b[0;32mIn[132], line 1\u001b[0m\n\u001b[0;32m----> 1\u001b[0m siglip \u001b[38;5;241m=\u001b[39m \u001b[43mSentenceTransformer\u001b[49m\u001b[43m(\u001b[49m\u001b[38;5;124;43m\"\u001b[39;49m\u001b[38;5;124;43mclip-ViT-B-32\u001b[39;49m\u001b[38;5;124;43m\"\u001b[39;49m\u001b[43m)\u001b[49m\n",
      "File \u001b[0;32m~/.pyenv/versions/3.12.1/lib/python3.12/site-packages/sentence_transformers/SentenceTransformer.py:320\u001b[0m, in \u001b[0;36mSentenceTransformer.__init__\u001b[0;34m(self, model_name_or_path, modules, device, prompts, default_prompt_name, similarity_fn_name, cache_folder, trust_remote_code, revision, local_files_only, token, use_auth_token, truncate_dim, model_kwargs, tokenizer_kwargs, config_kwargs, model_card_data, backend)\u001b[0m\n\u001b[1;32m    308\u001b[0m         modules, \u001b[38;5;28mself\u001b[39m\u001b[38;5;241m.\u001b[39mmodule_kwargs \u001b[38;5;241m=\u001b[39m \u001b[38;5;28mself\u001b[39m\u001b[38;5;241m.\u001b[39m_load_sbert_model(\n\u001b[1;32m    309\u001b[0m             model_name_or_path,\n\u001b[1;32m    310\u001b[0m             token\u001b[38;5;241m=\u001b[39mtoken,\n\u001b[0;32m   (...)\u001b[0m\n\u001b[1;32m    317\u001b[0m             config_kwargs\u001b[38;5;241m=\u001b[39mconfig_kwargs,\n\u001b[1;32m    318\u001b[0m         )\n\u001b[1;32m    319\u001b[0m     \u001b[38;5;28;01melse\u001b[39;00m:\n\u001b[0;32m--> 320\u001b[0m         modules \u001b[38;5;241m=\u001b[39m \u001b[38;5;28;43mself\u001b[39;49m\u001b[38;5;241;43m.\u001b[39;49m\u001b[43m_load_auto_model\u001b[49m\u001b[43m(\u001b[49m\n\u001b[1;32m    321\u001b[0m \u001b[43m            \u001b[49m\u001b[43mmodel_name_or_path\u001b[49m\u001b[43m,\u001b[49m\n\u001b[1;32m    322\u001b[0m \u001b[43m            \u001b[49m\u001b[43mtoken\u001b[49m\u001b[38;5;241;43m=\u001b[39;49m\u001b[43mtoken\u001b[49m\u001b[43m,\u001b[49m\n\u001b[1;32m    323\u001b[0m \u001b[43m            \u001b[49m\u001b[43mcache_folder\u001b[49m\u001b[38;5;241;43m=\u001b[39;49m\u001b[43mcache_folder\u001b[49m\u001b[43m,\u001b[49m\n\u001b[1;32m    324\u001b[0m \u001b[43m            \u001b[49m\u001b[43mrevision\u001b[49m\u001b[38;5;241;43m=\u001b[39;49m\u001b[43mrevision\u001b[49m\u001b[43m,\u001b[49m\n\u001b[1;32m    325\u001b[0m \u001b[43m            \u001b[49m\u001b[43mtrust_remote_code\u001b[49m\u001b[38;5;241;43m=\u001b[39;49m\u001b[43mtrust_remote_code\u001b[49m\u001b[43m,\u001b[49m\n\u001b[1;32m    326\u001b[0m \u001b[43m            \u001b[49m\u001b[43mlocal_files_only\u001b[49m\u001b[38;5;241;43m=\u001b[39;49m\u001b[43mlocal_files_only\u001b[49m\u001b[43m,\u001b[49m\n\u001b[1;32m    327\u001b[0m \u001b[43m            \u001b[49m\u001b[43mmodel_kwargs\u001b[49m\u001b[38;5;241;43m=\u001b[39;49m\u001b[43mmodel_kwargs\u001b[49m\u001b[43m,\u001b[49m\n\u001b[1;32m    328\u001b[0m \u001b[43m            \u001b[49m\u001b[43mtokenizer_kwargs\u001b[49m\u001b[38;5;241;43m=\u001b[39;49m\u001b[43mtokenizer_kwargs\u001b[49m\u001b[43m,\u001b[49m\n\u001b[1;32m    329\u001b[0m \u001b[43m            \u001b[49m\u001b[43mconfig_kwargs\u001b[49m\u001b[38;5;241;43m=\u001b[39;49m\u001b[43mconfig_kwargs\u001b[49m\u001b[43m,\u001b[49m\n\u001b[1;32m    330\u001b[0m \u001b[43m        \u001b[49m\u001b[43m)\u001b[49m\n\u001b[1;32m    332\u001b[0m \u001b[38;5;28;01mif\u001b[39;00m modules \u001b[38;5;129;01mis\u001b[39;00m \u001b[38;5;129;01mnot\u001b[39;00m \u001b[38;5;28;01mNone\u001b[39;00m \u001b[38;5;129;01mand\u001b[39;00m \u001b[38;5;129;01mnot\u001b[39;00m \u001b[38;5;28misinstance\u001b[39m(modules, OrderedDict):\n\u001b[1;32m    333\u001b[0m     modules \u001b[38;5;241m=\u001b[39m OrderedDict([(\u001b[38;5;28mstr\u001b[39m(idx), module) \u001b[38;5;28;01mfor\u001b[39;00m idx, module \u001b[38;5;129;01min\u001b[39;00m \u001b[38;5;28menumerate\u001b[39m(modules)])\n",
      "File \u001b[0;32m~/.pyenv/versions/3.12.1/lib/python3.12/site-packages/sentence_transformers/SentenceTransformer.py:1538\u001b[0m, in \u001b[0;36mSentenceTransformer._load_auto_model\u001b[0;34m(self, model_name_or_path, token, cache_folder, revision, trust_remote_code, local_files_only, model_kwargs, tokenizer_kwargs, config_kwargs)\u001b[0m\n\u001b[1;32m   1535\u001b[0m tokenizer_kwargs \u001b[38;5;241m=\u001b[39m shared_kwargs \u001b[38;5;28;01mif\u001b[39;00m tokenizer_kwargs \u001b[38;5;129;01mis\u001b[39;00m \u001b[38;5;28;01mNone\u001b[39;00m \u001b[38;5;28;01melse\u001b[39;00m {\u001b[38;5;241m*\u001b[39m\u001b[38;5;241m*\u001b[39mshared_kwargs, \u001b[38;5;241m*\u001b[39m\u001b[38;5;241m*\u001b[39mtokenizer_kwargs}\n\u001b[1;32m   1536\u001b[0m config_kwargs \u001b[38;5;241m=\u001b[39m shared_kwargs \u001b[38;5;28;01mif\u001b[39;00m config_kwargs \u001b[38;5;129;01mis\u001b[39;00m \u001b[38;5;28;01mNone\u001b[39;00m \u001b[38;5;28;01melse\u001b[39;00m {\u001b[38;5;241m*\u001b[39m\u001b[38;5;241m*\u001b[39mshared_kwargs, \u001b[38;5;241m*\u001b[39m\u001b[38;5;241m*\u001b[39mconfig_kwargs}\n\u001b[0;32m-> 1538\u001b[0m transformer_model \u001b[38;5;241m=\u001b[39m \u001b[43mTransformer\u001b[49m\u001b[43m(\u001b[49m\n\u001b[1;32m   1539\u001b[0m \u001b[43m    \u001b[49m\u001b[43mmodel_name_or_path\u001b[49m\u001b[43m,\u001b[49m\n\u001b[1;32m   1540\u001b[0m \u001b[43m    \u001b[49m\u001b[43mcache_dir\u001b[49m\u001b[38;5;241;43m=\u001b[39;49m\u001b[43mcache_folder\u001b[49m\u001b[43m,\u001b[49m\n\u001b[1;32m   1541\u001b[0m \u001b[43m    \u001b[49m\u001b[43mmodel_args\u001b[49m\u001b[38;5;241;43m=\u001b[39;49m\u001b[43mmodel_kwargs\u001b[49m\u001b[43m,\u001b[49m\n\u001b[1;32m   1542\u001b[0m \u001b[43m    \u001b[49m\u001b[43mtokenizer_args\u001b[49m\u001b[38;5;241;43m=\u001b[39;49m\u001b[43mtokenizer_kwargs\u001b[49m\u001b[43m,\u001b[49m\n\u001b[1;32m   1543\u001b[0m \u001b[43m    \u001b[49m\u001b[43mconfig_args\u001b[49m\u001b[38;5;241;43m=\u001b[39;49m\u001b[43mconfig_kwargs\u001b[49m\u001b[43m,\u001b[49m\n\u001b[1;32m   1544\u001b[0m \u001b[43m    \u001b[49m\u001b[43mbackend\u001b[49m\u001b[38;5;241;43m=\u001b[39;49m\u001b[38;5;28;43mself\u001b[39;49m\u001b[38;5;241;43m.\u001b[39;49m\u001b[43mbackend\u001b[49m\u001b[43m,\u001b[49m\n\u001b[1;32m   1545\u001b[0m \u001b[43m\u001b[49m\u001b[43m)\u001b[49m\n\u001b[1;32m   1546\u001b[0m pooling_model \u001b[38;5;241m=\u001b[39m Pooling(transformer_model\u001b[38;5;241m.\u001b[39mget_word_embedding_dimension(), \u001b[38;5;124m\"\u001b[39m\u001b[38;5;124mmean\u001b[39m\u001b[38;5;124m\"\u001b[39m)\n\u001b[1;32m   1547\u001b[0m \u001b[38;5;28;01mif\u001b[39;00m \u001b[38;5;129;01mnot\u001b[39;00m local_files_only:\n",
      "File \u001b[0;32m~/.pyenv/versions/3.12.1/lib/python3.12/site-packages/sentence_transformers/models/Transformer.py:80\u001b[0m, in \u001b[0;36mTransformer.__init__\u001b[0;34m(self, model_name_or_path, max_seq_length, model_args, tokenizer_args, config_args, cache_dir, do_lower_case, tokenizer_name_or_path, backend)\u001b[0m\n\u001b[1;32m     77\u001b[0m \u001b[38;5;28;01mif\u001b[39;00m config_args \u001b[38;5;129;01mis\u001b[39;00m \u001b[38;5;28;01mNone\u001b[39;00m:\n\u001b[1;32m     78\u001b[0m     config_args \u001b[38;5;241m=\u001b[39m {}\n\u001b[0;32m---> 80\u001b[0m config, is_peft_model \u001b[38;5;241m=\u001b[39m \u001b[38;5;28;43mself\u001b[39;49m\u001b[38;5;241;43m.\u001b[39;49m\u001b[43m_load_config\u001b[49m\u001b[43m(\u001b[49m\u001b[43mmodel_name_or_path\u001b[49m\u001b[43m,\u001b[49m\u001b[43m \u001b[49m\u001b[43mcache_dir\u001b[49m\u001b[43m,\u001b[49m\u001b[43m \u001b[49m\u001b[43mbackend\u001b[49m\u001b[43m,\u001b[49m\u001b[43m \u001b[49m\u001b[43mconfig_args\u001b[49m\u001b[43m)\u001b[49m\n\u001b[1;32m     81\u001b[0m \u001b[38;5;28mself\u001b[39m\u001b[38;5;241m.\u001b[39m_load_model(model_name_or_path, config, cache_dir, backend, is_peft_model, \u001b[38;5;241m*\u001b[39m\u001b[38;5;241m*\u001b[39mmodel_args)\n\u001b[1;32m     83\u001b[0m \u001b[38;5;28;01mif\u001b[39;00m max_seq_length \u001b[38;5;129;01mis\u001b[39;00m \u001b[38;5;129;01mnot\u001b[39;00m \u001b[38;5;28;01mNone\u001b[39;00m \u001b[38;5;129;01mand\u001b[39;00m \u001b[38;5;124m\"\u001b[39m\u001b[38;5;124mmodel_max_length\u001b[39m\u001b[38;5;124m\"\u001b[39m \u001b[38;5;129;01mnot\u001b[39;00m \u001b[38;5;129;01min\u001b[39;00m tokenizer_args:\n",
      "File \u001b[0;32m~/.pyenv/versions/3.12.1/lib/python3.12/site-packages/sentence_transformers/models/Transformer.py:121\u001b[0m, in \u001b[0;36mTransformer._load_config\u001b[0;34m(self, model_name_or_path, cache_dir, backend, config_args)\u001b[0m\n\u001b[1;32m    105\u001b[0m \u001b[38;5;28;01mdef\u001b[39;00m \u001b[38;5;21m_load_config\u001b[39m(\n\u001b[1;32m    106\u001b[0m     \u001b[38;5;28mself\u001b[39m, model_name_or_path: \u001b[38;5;28mstr\u001b[39m, cache_dir: \u001b[38;5;28mstr\u001b[39m \u001b[38;5;241m|\u001b[39m \u001b[38;5;28;01mNone\u001b[39;00m, backend: \u001b[38;5;28mstr\u001b[39m, config_args: \u001b[38;5;28mdict\u001b[39m[\u001b[38;5;28mstr\u001b[39m, Any]\n\u001b[1;32m    107\u001b[0m ) \u001b[38;5;241m-\u001b[39m\u001b[38;5;241m>\u001b[39m \u001b[38;5;28mtuple\u001b[39m[PeftConfig \u001b[38;5;241m|\u001b[39m PretrainedConfig, \u001b[38;5;28mbool\u001b[39m]:\n\u001b[1;32m    108\u001b[0m \u001b[38;5;250m    \u001b[39m\u001b[38;5;124;03m\"\"\"Loads the transformers or PEFT configuration\u001b[39;00m\n\u001b[1;32m    109\u001b[0m \n\u001b[1;32m    110\u001b[0m \u001b[38;5;124;03m    Args:\u001b[39;00m\n\u001b[0;32m   (...)\u001b[0m\n\u001b[1;32m    118\u001b[0m \u001b[38;5;124;03m        tuple[PretrainedConfig, bool]: The model configuration and a boolean indicating whether the model is a PEFT model.\u001b[39;00m\n\u001b[1;32m    119\u001b[0m \u001b[38;5;124;03m    \"\"\"\u001b[39;00m\n\u001b[1;32m    120\u001b[0m     \u001b[38;5;28;01mif\u001b[39;00m (\n\u001b[0;32m--> 121\u001b[0m         \u001b[43mfind_adapter_config_file\u001b[49m\u001b[43m(\u001b[49m\n\u001b[1;32m    122\u001b[0m \u001b[43m            \u001b[49m\u001b[43mmodel_name_or_path\u001b[49m\u001b[43m,\u001b[49m\n\u001b[1;32m    123\u001b[0m \u001b[43m            \u001b[49m\u001b[43mcache_dir\u001b[49m\u001b[38;5;241;43m=\u001b[39;49m\u001b[43mcache_dir\u001b[49m\u001b[43m,\u001b[49m\n\u001b[1;32m    124\u001b[0m \u001b[43m            \u001b[49m\u001b[43mtoken\u001b[49m\u001b[38;5;241;43m=\u001b[39;49m\u001b[43mconfig_args\u001b[49m\u001b[38;5;241;43m.\u001b[39;49m\u001b[43mget\u001b[49m\u001b[43m(\u001b[49m\u001b[38;5;124;43m\"\u001b[39;49m\u001b[38;5;124;43mtoken\u001b[39;49m\u001b[38;5;124;43m\"\u001b[39;49m\u001b[43m)\u001b[49m\u001b[43m,\u001b[49m\n\u001b[1;32m    125\u001b[0m \u001b[43m            \u001b[49m\u001b[43mrevision\u001b[49m\u001b[38;5;241;43m=\u001b[39;49m\u001b[43mconfig_args\u001b[49m\u001b[38;5;241;43m.\u001b[39;49m\u001b[43mget\u001b[49m\u001b[43m(\u001b[49m\u001b[38;5;124;43m\"\u001b[39;49m\u001b[38;5;124;43mrevision\u001b[39;49m\u001b[38;5;124;43m\"\u001b[39;49m\u001b[43m)\u001b[49m\u001b[43m,\u001b[49m\n\u001b[1;32m    126\u001b[0m \u001b[43m            \u001b[49m\u001b[43mlocal_files_only\u001b[49m\u001b[38;5;241;43m=\u001b[39;49m\u001b[43mconfig_args\u001b[49m\u001b[38;5;241;43m.\u001b[39;49m\u001b[43mget\u001b[49m\u001b[43m(\u001b[49m\u001b[38;5;124;43m\"\u001b[39;49m\u001b[38;5;124;43mlocal_files_only\u001b[39;49m\u001b[38;5;124;43m\"\u001b[39;49m\u001b[43m,\u001b[49m\u001b[43m \u001b[49m\u001b[38;5;28;43;01mFalse\u001b[39;49;00m\u001b[43m)\u001b[49m\u001b[43m,\u001b[49m\n\u001b[1;32m    127\u001b[0m \u001b[43m        \u001b[49m\u001b[43m)\u001b[49m\n\u001b[1;32m    128\u001b[0m         \u001b[38;5;129;01mis\u001b[39;00m \u001b[38;5;129;01mnot\u001b[39;00m \u001b[38;5;28;01mNone\u001b[39;00m\n\u001b[1;32m    129\u001b[0m     ):\n\u001b[1;32m    130\u001b[0m         \u001b[38;5;28;01mif\u001b[39;00m \u001b[38;5;129;01mnot\u001b[39;00m is_peft_available():\n\u001b[1;32m    131\u001b[0m             \u001b[38;5;28;01mraise\u001b[39;00m \u001b[38;5;167;01mException\u001b[39;00m(\n\u001b[1;32m    132\u001b[0m                 \u001b[38;5;124m\"\u001b[39m\u001b[38;5;124mLoading a PEFT model requires installing the `peft` package. You can install it via `pip install peft`.\u001b[39m\u001b[38;5;124m\"\u001b[39m\n\u001b[1;32m    133\u001b[0m             )\n",
      "File \u001b[0;32m~/.pyenv/versions/3.12.1/lib/python3.12/site-packages/transformers/utils/peft_utils.py:88\u001b[0m, in \u001b[0;36mfind_adapter_config_file\u001b[0;34m(model_id, cache_dir, force_download, resume_download, proxies, token, revision, local_files_only, subfolder, _commit_hash)\u001b[0m\n\u001b[1;32m     86\u001b[0m         adapter_cached_filename \u001b[38;5;241m=\u001b[39m os\u001b[38;5;241m.\u001b[39mpath\u001b[38;5;241m.\u001b[39mjoin(model_id, ADAPTER_CONFIG_NAME)\n\u001b[1;32m     87\u001b[0m \u001b[38;5;28;01melse\u001b[39;00m:\n\u001b[0;32m---> 88\u001b[0m     adapter_cached_filename \u001b[38;5;241m=\u001b[39m \u001b[43mcached_file\u001b[49m\u001b[43m(\u001b[49m\n\u001b[1;32m     89\u001b[0m \u001b[43m        \u001b[49m\u001b[43mmodel_id\u001b[49m\u001b[43m,\u001b[49m\n\u001b[1;32m     90\u001b[0m \u001b[43m        \u001b[49m\u001b[43mADAPTER_CONFIG_NAME\u001b[49m\u001b[43m,\u001b[49m\n\u001b[1;32m     91\u001b[0m \u001b[43m        \u001b[49m\u001b[43mcache_dir\u001b[49m\u001b[38;5;241;43m=\u001b[39;49m\u001b[43mcache_dir\u001b[49m\u001b[43m,\u001b[49m\n\u001b[1;32m     92\u001b[0m \u001b[43m        \u001b[49m\u001b[43mforce_download\u001b[49m\u001b[38;5;241;43m=\u001b[39;49m\u001b[43mforce_download\u001b[49m\u001b[43m,\u001b[49m\n\u001b[1;32m     93\u001b[0m \u001b[43m        \u001b[49m\u001b[43mresume_download\u001b[49m\u001b[38;5;241;43m=\u001b[39;49m\u001b[43mresume_download\u001b[49m\u001b[43m,\u001b[49m\n\u001b[1;32m     94\u001b[0m \u001b[43m        \u001b[49m\u001b[43mproxies\u001b[49m\u001b[38;5;241;43m=\u001b[39;49m\u001b[43mproxies\u001b[49m\u001b[43m,\u001b[49m\n\u001b[1;32m     95\u001b[0m \u001b[43m        \u001b[49m\u001b[43mtoken\u001b[49m\u001b[38;5;241;43m=\u001b[39;49m\u001b[43mtoken\u001b[49m\u001b[43m,\u001b[49m\n\u001b[1;32m     96\u001b[0m \u001b[43m        \u001b[49m\u001b[43mrevision\u001b[49m\u001b[38;5;241;43m=\u001b[39;49m\u001b[43mrevision\u001b[49m\u001b[43m,\u001b[49m\n\u001b[1;32m     97\u001b[0m \u001b[43m        \u001b[49m\u001b[43mlocal_files_only\u001b[49m\u001b[38;5;241;43m=\u001b[39;49m\u001b[43mlocal_files_only\u001b[49m\u001b[43m,\u001b[49m\n\u001b[1;32m     98\u001b[0m \u001b[43m        \u001b[49m\u001b[43msubfolder\u001b[49m\u001b[38;5;241;43m=\u001b[39;49m\u001b[43msubfolder\u001b[49m\u001b[43m,\u001b[49m\n\u001b[1;32m     99\u001b[0m \u001b[43m        \u001b[49m\u001b[43m_commit_hash\u001b[49m\u001b[38;5;241;43m=\u001b[39;49m\u001b[43m_commit_hash\u001b[49m\u001b[43m,\u001b[49m\n\u001b[1;32m    100\u001b[0m \u001b[43m        \u001b[49m\u001b[43m_raise_exceptions_for_gated_repo\u001b[49m\u001b[38;5;241;43m=\u001b[39;49m\u001b[38;5;28;43;01mFalse\u001b[39;49;00m\u001b[43m,\u001b[49m\n\u001b[1;32m    101\u001b[0m \u001b[43m        \u001b[49m\u001b[43m_raise_exceptions_for_missing_entries\u001b[49m\u001b[38;5;241;43m=\u001b[39;49m\u001b[38;5;28;43;01mFalse\u001b[39;49;00m\u001b[43m,\u001b[49m\n\u001b[1;32m    102\u001b[0m \u001b[43m        \u001b[49m\u001b[43m_raise_exceptions_for_connection_errors\u001b[49m\u001b[38;5;241;43m=\u001b[39;49m\u001b[38;5;28;43;01mFalse\u001b[39;49;00m\u001b[43m,\u001b[49m\n\u001b[1;32m    103\u001b[0m \u001b[43m    \u001b[49m\u001b[43m)\u001b[49m\n\u001b[1;32m    105\u001b[0m \u001b[38;5;28;01mreturn\u001b[39;00m adapter_cached_filename\n",
      "File \u001b[0;32m~/.pyenv/versions/3.12.1/lib/python3.12/site-packages/transformers/utils/hub.py:422\u001b[0m, in \u001b[0;36mcached_file\u001b[0;34m(path_or_repo_id, filename, cache_dir, force_download, resume_download, proxies, token, revision, local_files_only, subfolder, repo_type, user_agent, _raise_exceptions_for_gated_repo, _raise_exceptions_for_missing_entries, _raise_exceptions_for_connection_errors, _commit_hash, **deprecated_kwargs)\u001b[0m\n\u001b[1;32m    417\u001b[0m     \u001b[38;5;28;01mraise\u001b[39;00m \u001b[38;5;167;01mEnvironmentError\u001b[39;00m(\n\u001b[1;32m    418\u001b[0m         \u001b[38;5;124m\"\u001b[39m\u001b[38;5;124mYou are trying to access a gated repo.\u001b[39m\u001b[38;5;130;01m\\n\u001b[39;00m\u001b[38;5;124mMake sure to have access to it at \u001b[39m\u001b[38;5;124m\"\u001b[39m\n\u001b[1;32m    419\u001b[0m         \u001b[38;5;124mf\u001b[39m\u001b[38;5;124m\"\u001b[39m\u001b[38;5;124mhttps://huggingface.co/\u001b[39m\u001b[38;5;132;01m{\u001b[39;00mpath_or_repo_id\u001b[38;5;132;01m}\u001b[39;00m\u001b[38;5;124m.\u001b[39m\u001b[38;5;130;01m\\n\u001b[39;00m\u001b[38;5;132;01m{\u001b[39;00m\u001b[38;5;28mstr\u001b[39m(e)\u001b[38;5;132;01m}\u001b[39;00m\u001b[38;5;124m\"\u001b[39m\n\u001b[1;32m    420\u001b[0m     ) \u001b[38;5;28;01mfrom\u001b[39;00m \u001b[38;5;21;01me\u001b[39;00m\n\u001b[1;32m    421\u001b[0m \u001b[38;5;28;01mexcept\u001b[39;00m RepositoryNotFoundError \u001b[38;5;28;01mas\u001b[39;00m e:\n\u001b[0;32m--> 422\u001b[0m     \u001b[38;5;28;01mraise\u001b[39;00m \u001b[38;5;167;01mEnvironmentError\u001b[39;00m(\n\u001b[1;32m    423\u001b[0m         \u001b[38;5;124mf\u001b[39m\u001b[38;5;124m\"\u001b[39m\u001b[38;5;132;01m{\u001b[39;00mpath_or_repo_id\u001b[38;5;132;01m}\u001b[39;00m\u001b[38;5;124m is not a local folder and is not a valid model identifier \u001b[39m\u001b[38;5;124m\"\u001b[39m\n\u001b[1;32m    424\u001b[0m         \u001b[38;5;124m\"\u001b[39m\u001b[38;5;124mlisted on \u001b[39m\u001b[38;5;124m'\u001b[39m\u001b[38;5;124mhttps://huggingface.co/models\u001b[39m\u001b[38;5;124m'\u001b[39m\u001b[38;5;130;01m\\n\u001b[39;00m\u001b[38;5;124mIf this is a private repository, make sure to pass a token \u001b[39m\u001b[38;5;124m\"\u001b[39m\n\u001b[1;32m    425\u001b[0m         \u001b[38;5;124m\"\u001b[39m\u001b[38;5;124mhaving permission to this repo either by logging in with `huggingface-cli login` or by passing \u001b[39m\u001b[38;5;124m\"\u001b[39m\n\u001b[1;32m    426\u001b[0m         \u001b[38;5;124m\"\u001b[39m\u001b[38;5;124m`token=<your_token>`\u001b[39m\u001b[38;5;124m\"\u001b[39m\n\u001b[1;32m    427\u001b[0m     ) \u001b[38;5;28;01mfrom\u001b[39;00m \u001b[38;5;21;01me\u001b[39;00m\n\u001b[1;32m    428\u001b[0m \u001b[38;5;28;01mexcept\u001b[39;00m RevisionNotFoundError \u001b[38;5;28;01mas\u001b[39;00m e:\n\u001b[1;32m    429\u001b[0m     \u001b[38;5;28;01mraise\u001b[39;00m \u001b[38;5;167;01mEnvironmentError\u001b[39;00m(\n\u001b[1;32m    430\u001b[0m         \u001b[38;5;124mf\u001b[39m\u001b[38;5;124m\"\u001b[39m\u001b[38;5;132;01m{\u001b[39;00mrevision\u001b[38;5;132;01m}\u001b[39;00m\u001b[38;5;124m is not a valid git identifier (branch name, tag name or commit id) that exists \u001b[39m\u001b[38;5;124m\"\u001b[39m\n\u001b[1;32m    431\u001b[0m         \u001b[38;5;124m\"\u001b[39m\u001b[38;5;124mfor this model name. Check the model page at \u001b[39m\u001b[38;5;124m\"\u001b[39m\n\u001b[1;32m    432\u001b[0m         \u001b[38;5;124mf\u001b[39m\u001b[38;5;124m\"\u001b[39m\u001b[38;5;124m'\u001b[39m\u001b[38;5;124mhttps://huggingface.co/\u001b[39m\u001b[38;5;132;01m{\u001b[39;00mpath_or_repo_id\u001b[38;5;132;01m}\u001b[39;00m\u001b[38;5;124m'\u001b[39m\u001b[38;5;124m for available revisions.\u001b[39m\u001b[38;5;124m\"\u001b[39m\n\u001b[1;32m    433\u001b[0m     ) \u001b[38;5;28;01mfrom\u001b[39;00m \u001b[38;5;21;01me\u001b[39;00m\n",
      "\u001b[0;31mOSError\u001b[0m: sentence-transformers/clip-ViT-B-32 is not a local folder and is not a valid model identifier listed on 'https://huggingface.co/models'\nIf this is a private repository, make sure to pass a token having permission to this repo either by logging in with `huggingface-cli login` or by passing `token=<your_token>`"
     ]
    }
   ],
   "source": [
    "siglip = SentenceTransformer(\"clip-ViT-B-32\")"
   ]
  },
  {
   "cell_type": "code",
   "execution_count": 105,
   "id": "ed04d9f1-6b73-45c0-b44b-cfe6ba872b90",
   "metadata": {},
   "outputs": [
    {
     "name": "stderr",
     "output_type": "stream",
     "text": [
      "  0%|                                                                                                                                                                                                                                                                                                                                              | 0/22 [00:00<?, ?it/s]"
     ]
    },
    {
     "name": "stdout",
     "output_type": "stream",
     "text": [
      "Uploading image to S3\n",
      "Embedding the image\n"
     ]
    },
    {
     "name": "stderr",
     "output_type": "stream",
     "text": [
      "  5%|██████████████▊                                                                                                                                                                                                                                                                                                                       | 1/22 [00:02<00:44,  2.11s/it]"
     ]
    },
    {
     "name": "stdout",
     "output_type": "stream",
     "text": [
      "Uploading image to S3\n",
      "Embedding the image\n"
     ]
    },
    {
     "name": "stderr",
     "output_type": "stream",
     "text": [
      "  9%|█████████████████████████████▋                                                                                                                                                                                                                                                                                                        | 2/22 [00:03<00:34,  1.70s/it]"
     ]
    },
    {
     "name": "stdout",
     "output_type": "stream",
     "text": [
      "Uploading image to S3\n",
      "Embedding the image\n"
     ]
    },
    {
     "name": "stderr",
     "output_type": "stream",
     "text": [
      " 14%|████████████████████████████████████████████▍                                                                                                                                                                                                                                                                                         | 3/22 [00:05<00:34,  1.84s/it]"
     ]
    },
    {
     "name": "stdout",
     "output_type": "stream",
     "text": [
      "Uploading image to S3\n",
      "Embedding the image\n"
     ]
    },
    {
     "name": "stderr",
     "output_type": "stream",
     "text": [
      " 18%|███████████████████████████████████████████████████████████▎                                                                                                                                                                                                                                                                          | 4/22 [00:07<00:34,  1.90s/it]"
     ]
    },
    {
     "name": "stdout",
     "output_type": "stream",
     "text": [
      "Uploading image to S3\n",
      "Embedding the image\n"
     ]
    },
    {
     "name": "stderr",
     "output_type": "stream",
     "text": [
      " 23%|██████████████████████████████████████████████████████████████████████████                                                                                                                                                                                                                                                            | 5/22 [00:09<00:31,  1.84s/it]"
     ]
    },
    {
     "name": "stdout",
     "output_type": "stream",
     "text": [
      "Uploading image to S3\n",
      "Embedding the image\n"
     ]
    },
    {
     "name": "stderr",
     "output_type": "stream",
     "text": [
      " 27%|████████████████████████████████████████████████████████████████████████████████████████▉                                                                                                                                                                                                                                             | 6/22 [00:10<00:28,  1.78s/it]"
     ]
    },
    {
     "name": "stdout",
     "output_type": "stream",
     "text": [
      "Uploading image to S3\n",
      "Embedding the image\n"
     ]
    },
    {
     "name": "stderr",
     "output_type": "stream",
     "text": [
      " 32%|███████████████████████████████████████████████████████████████████████████████████████████████████████▋                                                                                                                                                                                                                              | 7/22 [00:12<00:25,  1.68s/it]"
     ]
    },
    {
     "name": "stdout",
     "output_type": "stream",
     "text": [
      "Uploading image to S3\n",
      "Embedding the image\n"
     ]
    },
    {
     "name": "stderr",
     "output_type": "stream",
     "text": [
      " 36%|██████████████████████████████████████████████████████████████████████████████████████████████████████████████████████▌                                                                                                                                                                                                               | 8/22 [00:13<00:23,  1.65s/it]"
     ]
    },
    {
     "name": "stdout",
     "output_type": "stream",
     "text": [
      "Uploading image to S3\n",
      "Embedding the image\n"
     ]
    },
    {
     "name": "stderr",
     "output_type": "stream",
     "text": [
      " 41%|█████████████████████████████████████████████████████████████████████████████████████████████████████████████████████████████████████▎                                                                                                                                                                                                | 9/22 [00:15<00:20,  1.58s/it]"
     ]
    },
    {
     "name": "stdout",
     "output_type": "stream",
     "text": [
      "Uploading image to S3\n",
      "Embedding the image\n"
     ]
    },
    {
     "name": "stderr",
     "output_type": "stream",
     "text": [
      " 45%|███████████████████████████████████████████████████████████████████████████████████████████████████████████████████████████████████████████████████▋                                                                                                                                                                                 | 10/22 [00:17<00:19,  1.59s/it]"
     ]
    },
    {
     "name": "stdout",
     "output_type": "stream",
     "text": [
      "Uploading image to S3\n",
      "Embedding the image\n"
     ]
    },
    {
     "name": "stderr",
     "output_type": "stream",
     "text": [
      " 50%|██████████████████████████████████████████████████████████████████████████████████████████████████████████████████████████████████████████████████████████████████▌                                                                                                                                                                  | 11/22 [00:18<00:17,  1.62s/it]"
     ]
    },
    {
     "name": "stdout",
     "output_type": "stream",
     "text": [
      "Uploading image to S3\n",
      "Embedding the image\n"
     ]
    },
    {
     "name": "stderr",
     "output_type": "stream",
     "text": [
      " 55%|█████████████████████████████████████████████████████████████████████████████████████████████████████████████████████████████████████████████████████████████████████████████████▎                                                                                                                                                   | 12/22 [00:20<00:15,  1.60s/it]"
     ]
    },
    {
     "name": "stdout",
     "output_type": "stream",
     "text": [
      "Uploading image to S3\n",
      "Embedding the image\n"
     ]
    },
    {
     "name": "stderr",
     "output_type": "stream",
     "text": [
      " 59%|████████████████████████████████████████████████████████████████████████████████████████████████████████████████████████████████████████████████████████████████████████████████████████████████                                                                                                                                     | 13/22 [00:21<00:14,  1.56s/it]"
     ]
    },
    {
     "name": "stdout",
     "output_type": "stream",
     "text": [
      "Uploading image to S3\n",
      "Embedding the image\n"
     ]
    },
    {
     "name": "stderr",
     "output_type": "stream",
     "text": [
      " 64%|██████████████████████████████████████████████████████████████████████████████████████████████████████████████████████████████████████████████████████████████████████████████████████████████████████████████▊                                                                                                                      | 14/22 [00:23<00:12,  1.54s/it]"
     ]
    },
    {
     "name": "stdout",
     "output_type": "stream",
     "text": [
      "Uploading image to S3\n",
      "Embedding the image\n"
     ]
    },
    {
     "name": "stderr",
     "output_type": "stream",
     "text": [
      " 68%|█████████████████████████████████████████████████████████████████████████████████████████████████████████████████████████████████████████████████████████████████████████████████████████████████████████████████████████████▌                                                                                                       | 15/22 [00:24<00:10,  1.53s/it]"
     ]
    },
    {
     "name": "stdout",
     "output_type": "stream",
     "text": [
      "Uploading image to S3\n",
      "Embedding the image\n"
     ]
    },
    {
     "name": "stderr",
     "output_type": "stream",
     "text": [
      " 73%|████████████████████████████████████████████████████████████████████████████████████████████████████████████████████████████████████████████████████████████████████████████████████████████████████████████████████████████████████████████▎                                                                                        | 16/22 [00:26<00:09,  1.54s/it]"
     ]
    },
    {
     "name": "stdout",
     "output_type": "stream",
     "text": [
      "Uploading image to S3\n",
      "Embedding the image\n"
     ]
    },
    {
     "name": "stderr",
     "output_type": "stream",
     "text": [
      " 77%|███████████████████████████████████████████████████████████████████████████████████████████████████████████████████████████████████████████████████████████████████████████████████████████████████████████████████████████████████████████████████████████▏                                                                         | 17/22 [00:27<00:07,  1.52s/it]"
     ]
    },
    {
     "name": "stdout",
     "output_type": "stream",
     "text": [
      "Uploading image to S3\n",
      "Embedding the image\n"
     ]
    },
    {
     "name": "stderr",
     "output_type": "stream",
     "text": [
      " 82%|█████████████████████████████████████████████████████████████████████████████████████████████████████████████████████████████████████████████████████████████████████████████████████████████████████████████████████████████████████████████████████████████████████████▉                                                           | 18/22 [00:29<00:06,  1.53s/it]"
     ]
    },
    {
     "name": "stdout",
     "output_type": "stream",
     "text": [
      "Uploading image to S3\n",
      "Embedding the image\n"
     ]
    },
    {
     "name": "stderr",
     "output_type": "stream",
     "text": [
      " 86%|████████████████████████████████████████████████████████████████████████████████████████████████████████████████████████████████████████████████████████████████████████████████████████████████████████████████████████████████████████████████████████████████████████████████████████▋                                            | 19/22 [00:30<00:04,  1.47s/it]"
     ]
    },
    {
     "name": "stdout",
     "output_type": "stream",
     "text": [
      "Uploading image to S3\n",
      "Embedding the image\n"
     ]
    },
    {
     "name": "stderr",
     "output_type": "stream",
     "text": [
      " 91%|███████████████████████████████████████████████████████████████████████████████████████████████████████████████████████████████████████████████████████████████████████████████████████████████████████████████████████████████████████████████████████████████████████████████████████████████████████▍                             | 20/22 [00:31<00:02,  1.41s/it]"
     ]
    },
    {
     "name": "stdout",
     "output_type": "stream",
     "text": [
      "Uploading image to S3\n",
      "Embedding the image\n"
     ]
    },
    {
     "name": "stderr",
     "output_type": "stream",
     "text": [
      " 95%|██████████████████████████████████████████████████████████████████████████████████████████████████████████████████████████████████████████████████████████████████████████████████████████████████████████████████████████████████████████████████████████████████████████████████████████████████████████████████████▏              | 21/22 [00:33<00:01,  1.38s/it]"
     ]
    },
    {
     "name": "stdout",
     "output_type": "stream",
     "text": [
      "Uploading image to S3\n",
      "Embedding the image\n"
     ]
    },
    {
     "name": "stderr",
     "output_type": "stream",
     "text": [
      "100%|█████████████████████████████████████████████████████████████████████████████████████████████████████████████████████████████████████████████████████████████████████████████████████████████████████████████████████████████████████████████████████████████████████████████████████████████████████████████████████████████████████| 22/22 [00:34<00:00,  1.56s/it]\n"
     ]
    }
   ],
   "source": [
    "zoom = 3.0\n",
    "mat = pymupdf.Matrix(zoom, zoom)\n",
    "for n in tqdm(range(pdf.page_count)):\n",
    "    temp = {}\n",
    "    pix = pdf[n].get_pixmap(matrix=mat)\n",
    "    img_bytes = pix.samples\n",
    "    img_key = f\"multimodal-rag/{n}.png.gz\"\n",
    "    upload_image_to_s3(img_key, img_bytes)\n",
    "    img_width = pix.width\n",
    "    img_height = pix.height\n",
    "    img = Image.frombytes(\"RGB\", [img_width, img_height], img_bytes)\n",
    "    temp[\"s3_key\"] = img_key\n",
    "    print(\"Embedding the image\")\n",
    "    temp[\"embedding\"] = get_embedding(img, \"document\")\n",
    "    temp[\"width\"] = img_width\n",
    "    temp[\"height\"] = img_height\n",
    "    docs.append(temp)"
   ]
  },
  {
   "cell_type": "code",
   "execution_count": 109,
   "id": "716f23a8-b92b-4161-95fe-1798f2cbe3ad",
   "metadata": {},
   "outputs": [
    {
     "data": {
      "text/plain": [
       "{'s3_key': 'multimodal-rag/0.png.gz',\n",
       " 'embedding': [0.005950927734375,\n",
       "  0.018798828125,\n",
       "  0.040283203125,\n",
       "  -0.006500244140625,\n",
       "  0.00714111328125,\n",
       "  -0.027099609375,\n",
       "  -0.0439453125,\n",
       "  -0.0031585693359375,\n",
       "  0.018798828125,\n",
       "  0.0179443359375,\n",
       "  -0.0262451171875,\n",
       "  0.041259765625,\n",
       "  0.00537109375,\n",
       "  0.00396728515625,\n",
       "  -0.0035858154296875,\n",
       "  -0.001251220703125,\n",
       "  -0.045166015625,\n",
       "  -0.0177001953125,\n",
       "  0.021484375,\n",
       "  -0.040283203125,\n",
       "  0.03271484375,\n",
       "  -0.00148773193359375,\n",
       "  0.046142578125,\n",
       "  -0.04736328125,\n",
       "  -0.00897216796875,\n",
       "  0.043212890625,\n",
       "  -0.0189208984375,\n",
       "  -0.044189453125,\n",
       "  0.01104736328125,\n",
       "  1.1146068572998047e-05,\n",
       "  -0.00677490234375,\n",
       "  -0.01708984375,\n",
       "  0.030029296875,\n",
       "  0.01263427734375,\n",
       "  0.007232666015625,\n",
       "  -0.029296875,\n",
       "  -0.023193359375,\n",
       "  0.01324462890625,\n",
       "  0.0269775390625,\n",
       "  -0.01434326171875,\n",
       "  -0.078125,\n",
       "  0.0062255859375,\n",
       "  -0.10107421875,\n",
       "  -0.0262451171875,\n",
       "  -0.000942230224609375,\n",
       "  0.032470703125,\n",
       "  -0.055908203125,\n",
       "  0.0137939453125,\n",
       "  0.010498046875,\n",
       "  -0.00148773193359375,\n",
       "  -0.0098876953125,\n",
       "  0.0252685546875,\n",
       "  -0.027587890625,\n",
       "  -0.044189453125,\n",
       "  4.410743713378906e-05,\n",
       "  0.0308837890625,\n",
       "  0.024658203125,\n",
       "  -0.0164794921875,\n",
       "  0.00897216796875,\n",
       "  0.01544189453125,\n",
       "  -0.03466796875,\n",
       "  0.056884765625,\n",
       "  -0.03466796875,\n",
       "  0.0047607421875,\n",
       "  -0.0194091796875,\n",
       "  0.042236328125,\n",
       "  0.0296630859375,\n",
       "  -0.0262451171875,\n",
       "  0.036865234375,\n",
       "  -0.0186767578125,\n",
       "  -0.0419921875,\n",
       "  0.00041961669921875,\n",
       "  0.058349609375,\n",
       "  -0.064453125,\n",
       "  0.035400390625,\n",
       "  -0.0037078857421875,\n",
       "  -0.06005859375,\n",
       "  0.00970458984375,\n",
       "  -0.0179443359375,\n",
       "  -0.005615234375,\n",
       "  -0.024658203125,\n",
       "  0.00909423828125,\n",
       "  -0.001983642578125,\n",
       "  0.00151824951171875,\n",
       "  -0.0185546875,\n",
       "  -0.0289306640625,\n",
       "  0.062255859375,\n",
       "  -0.062255859375,\n",
       "  0.01190185546875,\n",
       "  0.00701904296875,\n",
       "  -0.029052734375,\n",
       "  0.0228271484375,\n",
       "  0.0086669921875,\n",
       "  0.050537109375,\n",
       "  -0.00469970703125,\n",
       "  -0.00543212890625,\n",
       "  -0.035888671875,\n",
       "  0.022705078125,\n",
       "  0.0498046875,\n",
       "  -0.0306396484375,\n",
       "  -0.0157470703125,\n",
       "  -0.0255126953125,\n",
       "  0.051025390625,\n",
       "  0.0220947265625,\n",
       "  0.030029296875,\n",
       "  -0.031982421875,\n",
       "  0.01531982421875,\n",
       "  -0.032958984375,\n",
       "  -0.04638671875,\n",
       "  0.05419921875,\n",
       "  -0.0286865234375,\n",
       "  0.02099609375,\n",
       "  -0.010009765625,\n",
       "  -0.045654296875,\n",
       "  -0.0050048828125,\n",
       "  -0.00823974609375,\n",
       "  -0.00102996826171875,\n",
       "  -0.01025390625,\n",
       "  -0.023193359375,\n",
       "  0.012939453125,\n",
       "  -0.055908203125,\n",
       "  -0.0306396484375,\n",
       "  0.040283203125,\n",
       "  -0.00726318359375,\n",
       "  0.04931640625,\n",
       "  -0.00347900390625,\n",
       "  -0.0257568359375,\n",
       "  0.01190185546875,\n",
       "  0.003997802734375,\n",
       "  0.00946044921875,\n",
       "  0.0400390625,\n",
       "  0.01214599609375,\n",
       "  0.01324462890625,\n",
       "  0.041259765625,\n",
       "  -0.0302734375,\n",
       "  -0.0213623046875,\n",
       "  0.08203125,\n",
       "  0.01025390625,\n",
       "  0.005645751953125,\n",
       "  -0.0050048828125,\n",
       "  0.00048065185546875,\n",
       "  0.013671875,\n",
       "  0.040283203125,\n",
       "  0.038818359375,\n",
       "  0.018798828125,\n",
       "  -0.03466796875,\n",
       "  0.00946044921875,\n",
       "  -0.00970458984375,\n",
       "  0.000438690185546875,\n",
       "  -0.00970458984375,\n",
       "  -0.00927734375,\n",
       "  -0.003082275390625,\n",
       "  -0.048583984375,\n",
       "  -0.005950927734375,\n",
       "  -0.0108642578125,\n",
       "  0.0419921875,\n",
       "  -0.029296875,\n",
       "  0.00396728515625,\n",
       "  0.01318359375,\n",
       "  -0.051513671875,\n",
       "  -0.0400390625,\n",
       "  0.07177734375,\n",
       "  0.0018463134765625,\n",
       "  -0.019775390625,\n",
       "  0.055908203125,\n",
       "  -0.00750732421875,\n",
       "  -0.0296630859375,\n",
       "  0.035400390625,\n",
       "  -0.08349609375,\n",
       "  0.01220703125,\n",
       "  0.01055908203125,\n",
       "  0.000926971435546875,\n",
       "  -0.0181884765625,\n",
       "  0.0177001953125,\n",
       "  0.030029296875,\n",
       "  0.031982421875,\n",
       "  0.029296875,\n",
       "  -0.01446533203125,\n",
       "  0.032958984375,\n",
       "  -0.018310546875,\n",
       "  -0.0081787109375,\n",
       "  0.01129150390625,\n",
       "  0.01080322265625,\n",
       "  0.0005950927734375,\n",
       "  0.0146484375,\n",
       "  -0.004486083984375,\n",
       "  -0.01202392578125,\n",
       "  -0.01263427734375,\n",
       "  -0.0026702880859375,\n",
       "  0.0191650390625,\n",
       "  -0.022705078125,\n",
       "  -0.004638671875,\n",
       "  -0.0185546875,\n",
       "  0.042236328125,\n",
       "  0.02783203125,\n",
       "  0.0078125,\n",
       "  -0.007049560546875,\n",
       "  0.01708984375,\n",
       "  0.06103515625,\n",
       "  0.02734375,\n",
       "  -0.06494140625,\n",
       "  0.0189208984375,\n",
       "  0.0142822265625,\n",
       "  -0.017578125,\n",
       "  0.0322265625,\n",
       "  -0.01434326171875,\n",
       "  0.0260009765625,\n",
       "  -0.01531982421875,\n",
       "  0.0341796875,\n",
       "  -0.0220947265625,\n",
       "  0.0244140625,\n",
       "  0.01531982421875,\n",
       "  -0.00885009765625,\n",
       "  0.04931640625,\n",
       "  -0.029541015625,\n",
       "  -0.0064697265625,\n",
       "  0.0076904296875,\n",
       "  0.00799560546875,\n",
       "  -0.0125732421875,\n",
       "  -0.0306396484375,\n",
       "  -0.0225830078125,\n",
       "  -0.0242919921875,\n",
       "  -0.009521484375,\n",
       "  0.01043701171875,\n",
       "  0.036376953125,\n",
       "  0.037841796875,\n",
       "  0.0439453125,\n",
       "  0.0625,\n",
       "  0.04638671875,\n",
       "  -0.09033203125,\n",
       "  0.042236328125,\n",
       "  -0.0284423828125,\n",
       "  -0.0017852783203125,\n",
       "  0.03466796875,\n",
       "  -0.0203857421875,\n",
       "  -0.059326171875,\n",
       "  0.022705078125,\n",
       "  0.0006866455078125,\n",
       "  -0.01129150390625,\n",
       "  0.0228271484375,\n",
       "  -0.01031494140625,\n",
       "  0.00138092041015625,\n",
       "  0.004608154296875,\n",
       "  0.002685546875,\n",
       "  0.0279541015625,\n",
       "  -0.019287109375,\n",
       "  0.0078125,\n",
       "  0.03369140625,\n",
       "  0.0017242431640625,\n",
       "  0.02197265625,\n",
       "  0.02587890625,\n",
       "  0.0225830078125,\n",
       "  -0.0023345947265625,\n",
       "  -0.007537841796875,\n",
       "  -0.01263427734375,\n",
       "  -0.0111083984375,\n",
       "  0.01531982421875,\n",
       "  -0.048828125,\n",
       "  -0.00494384765625,\n",
       "  0.02587890625,\n",
       "  -0.035400390625,\n",
       "  -0.024658203125,\n",
       "  0.0115966796875,\n",
       "  -0.03759765625,\n",
       "  -0.00384521484375,\n",
       "  0.06396484375,\n",
       "  -0.00897216796875,\n",
       "  -0.06640625,\n",
       "  -0.047607421875,\n",
       "  0.0279541015625,\n",
       "  0.0026092529296875,\n",
       "  -0.007781982421875,\n",
       "  0.041259765625,\n",
       "  0.04736328125,\n",
       "  0.031982421875,\n",
       "  -0.064453125,\n",
       "  -0.0185546875,\n",
       "  0.0419921875,\n",
       "  -0.012939453125,\n",
       "  -0.028564453125,\n",
       "  0.041748046875,\n",
       "  0.03759765625,\n",
       "  -0.02197265625,\n",
       "  0.02490234375,\n",
       "  -0.022216796875,\n",
       "  0.06591796875,\n",
       "  0.042724609375,\n",
       "  -0.01446533203125,\n",
       "  0.024658203125,\n",
       "  -0.0194091796875,\n",
       "  0.061279296875,\n",
       "  0.057861328125,\n",
       "  -0.0152587890625,\n",
       "  0.0025634765625,\n",
       "  -0.006500244140625,\n",
       "  -0.005828857421875,\n",
       "  -0.0030059814453125,\n",
       "  -0.0137939453125,\n",
       "  -0.01397705078125,\n",
       "  0.00897216796875,\n",
       "  0.0228271484375,\n",
       "  -0.033447265625,\n",
       "  0.00885009765625,\n",
       "  -0.027587890625,\n",
       "  -0.00830078125,\n",
       "  0.00946044921875,\n",
       "  -0.0228271484375,\n",
       "  -0.019287109375,\n",
       "  -0.0010986328125,\n",
       "  0.03466796875,\n",
       "  0.00537109375,\n",
       "  -0.031982421875,\n",
       "  -0.053955078125,\n",
       "  -0.0238037109375,\n",
       "  -0.0419921875,\n",
       "  -0.00970458984375,\n",
       "  0.012939453125,\n",
       "  -0.025146484375,\n",
       "  -0.004791259765625,\n",
       "  0.0068359375,\n",
       "  -0.00933837890625,\n",
       "  0.021484375,\n",
       "  -0.0002288818359375,\n",
       "  4.9591064453125e-05,\n",
       "  0.00689697265625,\n",
       "  0.0074462890625,\n",
       "  -0.0400390625,\n",
       "  -0.037841796875,\n",
       "  -0.037109375,\n",
       "  0.0048828125,\n",
       "  0.03662109375,\n",
       "  -0.02587890625,\n",
       "  0.003753662109375,\n",
       "  -0.015625,\n",
       "  -2.5272369384765625e-05,\n",
       "  0.005401611328125,\n",
       "  -0.00194549560546875,\n",
       "  0.0091552734375,\n",
       "  0.0211181640625,\n",
       "  0.033203125,\n",
       "  0.002960205078125,\n",
       "  0.000762939453125,\n",
       "  0.01556396484375,\n",
       "  0.028564453125,\n",
       "  0.045166015625,\n",
       "  0.0135498046875,\n",
       "  -0.0517578125,\n",
       "  0.009765625,\n",
       "  -0.0007781982421875,\n",
       "  0.01080322265625,\n",
       "  0.00579833984375,\n",
       "  0.053466796875,\n",
       "  -0.0206298828125,\n",
       "  0.03369140625,\n",
       "  0.03271484375,\n",
       "  0.022216796875,\n",
       "  -0.0096435546875,\n",
       "  -0.01446533203125,\n",
       "  0.03369140625,\n",
       "  0.0225830078125,\n",
       "  -0.08447265625,\n",
       "  0.005645751953125,\n",
       "  0.05078125,\n",
       "  0.0126953125,\n",
       "  -0.0281982421875,\n",
       "  -0.051513671875,\n",
       "  0.014892578125,\n",
       "  0.0123291015625,\n",
       "  0.0181884765625,\n",
       "  -0.0054931640625,\n",
       "  0.0439453125,\n",
       "  0.045654296875,\n",
       "  -0.049560546875,\n",
       "  -0.07177734375,\n",
       "  0.00762939453125,\n",
       "  -0.0230712890625,\n",
       "  0.0002651214599609375,\n",
       "  -0.0390625,\n",
       "  0.00677490234375,\n",
       "  -0.0291748046875,\n",
       "  -0.009765625,\n",
       "  0.005889892578125,\n",
       "  0.004547119140625,\n",
       "  -0.0050048828125,\n",
       "  0.0115966796875,\n",
       "  0.004547119140625,\n",
       "  -0.042236328125,\n",
       "  0.01263427734375,\n",
       "  -0.01324462890625,\n",
       "  -0.016357421875,\n",
       "  -0.005889892578125,\n",
       "  -0.035888671875,\n",
       "  0.00836181640625,\n",
       "  -0.040771484375,\n",
       "  -0.015380859375,\n",
       "  0.03369140625,\n",
       "  -0.00677490234375,\n",
       "  0.0498046875,\n",
       "  0.05078125,\n",
       "  -0.00634765625,\n",
       "  -0.029541015625,\n",
       "  0.02783203125,\n",
       "  0.014892578125,\n",
       "  0.044189453125,\n",
       "  -0.0262451171875,\n",
       "  -0.01043701171875,\n",
       "  -0.00927734375,\n",
       "  0.022705078125,\n",
       "  0.006561279296875,\n",
       "  0.045166015625,\n",
       "  -0.00099945068359375,\n",
       "  0.052734375,\n",
       "  -0.00909423828125,\n",
       "  -0.032470703125,\n",
       "  -0.09423828125,\n",
       "  -0.037353515625,\n",
       "  -0.0673828125,\n",
       "  -0.0179443359375,\n",
       "  0.03955078125,\n",
       "  0.030029296875,\n",
       "  0.010986328125,\n",
       "  -0.03173828125,\n",
       "  -0.0147705078125,\n",
       "  0.01220703125,\n",
       "  0.030029296875,\n",
       "  -0.0306396484375,\n",
       "  0.00543212890625,\n",
       "  -0.043212890625,\n",
       "  0.030029296875,\n",
       "  0.006591796875,\n",
       "  0.038818359375,\n",
       "  0.00077056884765625,\n",
       "  -0.0537109375,\n",
       "  -0.005645751953125,\n",
       "  0.041015625,\n",
       "  -0.044189453125,\n",
       "  0.03369140625,\n",
       "  0.01336669921875,\n",
       "  -0.03759765625,\n",
       "  -0.044921875,\n",
       "  0.0159912109375,\n",
       "  0.01129150390625,\n",
       "  0.019775390625,\n",
       "  -0.00011730194091796875,\n",
       "  -0.03955078125,\n",
       "  -0.038818359375,\n",
       "  -0.01513671875,\n",
       "  0.0159912109375,\n",
       "  0.04296875,\n",
       "  0.00927734375,\n",
       "  0.017333984375,\n",
       "  0.013671875,\n",
       "  0.0693359375,\n",
       "  -0.01904296875,\n",
       "  0.0240478515625,\n",
       "  0.055908203125,\n",
       "  -0.00823974609375,\n",
       "  -0.006744384765625,\n",
       "  0.016357421875,\n",
       "  -0.0252685546875,\n",
       "  -0.0201416015625,\n",
       "  0.0400390625,\n",
       "  -0.014892578125,\n",
       "  0.017333984375,\n",
       "  0.0091552734375,\n",
       "  0.021484375,\n",
       "  0.0439453125,\n",
       "  -0.0224609375,\n",
       "  0.028564453125,\n",
       "  -0.05078125,\n",
       "  0.02734375,\n",
       "  0.0115966796875,\n",
       "  0.03125,\n",
       "  0.00909423828125,\n",
       "  -0.053955078125,\n",
       "  0.0235595703125,\n",
       "  -0.01263427734375,\n",
       "  0.02197265625,\n",
       "  0.05517578125,\n",
       "  -0.07470703125,\n",
       "  -0.0167236328125,\n",
       "  0.0224609375,\n",
       "  -0.040771484375,\n",
       "  -0.001373291015625,\n",
       "  0.03271484375,\n",
       "  0.015625,\n",
       "  0.023193359375,\n",
       "  0.029541015625,\n",
       "  -0.000835418701171875,\n",
       "  0.0019989013671875,\n",
       "  -0.0159912109375,\n",
       "  0.03271484375,\n",
       "  -0.01123046875,\n",
       "  -0.00726318359375,\n",
       "  -0.0517578125,\n",
       "  0.022705078125,\n",
       "  -0.0093994140625,\n",
       "  0.0213623046875,\n",
       "  0.00537109375,\n",
       "  -0.087890625,\n",
       "  -0.0050048828125,\n",
       "  0.046630859375,\n",
       "  -0.05078125,\n",
       "  0.01153564453125,\n",
       "  0.042236328125,\n",
       "  -0.018310546875,\n",
       "  -0.017578125,\n",
       "  -0.00157928466796875,\n",
       "  -0.01025390625,\n",
       "  -0.06640625,\n",
       "  -0.00023937225341796875,\n",
       "  -0.0255126953125,\n",
       "  0.0032196044921875,\n",
       "  -0.04931640625,\n",
       "  0.019287109375,\n",
       "  -0.02783203125,\n",
       "  0.0081787109375,\n",
       "  -0.0216064453125,\n",
       "  -0.08984375,\n",
       "  0.0081787109375,\n",
       "  -0.0673828125,\n",
       "  -0.024658203125,\n",
       "  0.0233154296875,\n",
       "  0.00946044921875,\n",
       "  -0.032470703125,\n",
       "  0.032958984375,\n",
       "  -0.005126953125,\n",
       "  0.068359375,\n",
       "  -0.0137939453125,\n",
       "  -0.004425048828125,\n",
       "  -0.02197265625,\n",
       "  0.03759765625,\n",
       "  -0.0341796875,\n",
       "  -0.0203857421875,\n",
       "  0.0118408203125,\n",
       "  0.0147705078125,\n",
       "  0.00799560546875,\n",
       "  0.04443359375,\n",
       "  0.002349853515625,\n",
       "  -0.03955078125,\n",
       "  -0.0125732421875,\n",
       "  0.05615234375,\n",
       "  0.043212890625,\n",
       "  -0.032958984375,\n",
       "  0.0517578125,\n",
       "  0.024658203125,\n",
       "  -0.03955078125,\n",
       "  0.048583984375,\n",
       "  0.0201416015625,\n",
       "  -0.003387451171875,\n",
       "  -0.004791259765625,\n",
       "  0.01397705078125,\n",
       "  -0.0225830078125,\n",
       "  0.038818359375,\n",
       "  -0.053955078125,\n",
       "  0.029296875,\n",
       "  0.006378173828125,\n",
       "  0.0439453125,\n",
       "  -0.01239013671875,\n",
       "  -0.0194091796875,\n",
       "  -4.076957702636719e-05,\n",
       "  0.0120849609375,\n",
       "  -0.027587890625,\n",
       "  0.00885009765625,\n",
       "  0.0286865234375,\n",
       "  -0.0230712890625,\n",
       "  0.0291748046875,\n",
       "  0.0167236328125,\n",
       "  0.022216796875,\n",
       "  -0.0257568359375,\n",
       "  -0.033203125,\n",
       "  -0.00970458984375,\n",
       "  0.00909423828125,\n",
       "  -0.0439453125,\n",
       "  0.08984375,\n",
       "  0.016357421875,\n",
       "  -0.007293701171875,\n",
       "  -0.01214599609375,\n",
       "  -0.03125,\n",
       "  0.036865234375,\n",
       "  0.0167236328125,\n",
       "  -0.00933837890625,\n",
       "  -0.0078125,\n",
       "  0.0023651123046875,\n",
       "  -0.0201416015625,\n",
       "  0.044921875,\n",
       "  -0.016845703125,\n",
       "  -0.00970458984375,\n",
       "  0.047119140625,\n",
       "  0.004119873046875,\n",
       "  -0.0042724609375,\n",
       "  0.018798828125,\n",
       "  0.017333984375,\n",
       "  -0.00836181640625,\n",
       "  -0.00164031982421875,\n",
       "  -0.010498046875,\n",
       "  -0.045166015625,\n",
       "  0.07568359375,\n",
       "  0.027587890625,\n",
       "  -0.03466796875,\n",
       "  -0.00927734375,\n",
       "  -0.00927734375,\n",
       "  -0.017333984375,\n",
       "  0.017333984375,\n",
       "  0.02587890625,\n",
       "  -0.04638671875,\n",
       "  -0.04833984375,\n",
       "  0.02197265625,\n",
       "  0.0517578125,\n",
       "  -0.037841796875,\n",
       "  -0.000904083251953125,\n",
       "  0.0146484375,\n",
       "  0.03515625,\n",
       "  0.0537109375,\n",
       "  -0.0252685546875,\n",
       "  0.03076171875,\n",
       "  0.033935546875,\n",
       "  -0.07763671875,\n",
       "  -0.00592041015625,\n",
       "  0.0177001953125,\n",
       "  -0.03125,\n",
       "  -0.038330078125,\n",
       "  0.0031890869140625,\n",
       "  0.07568359375,\n",
       "  -0.03271484375,\n",
       "  0.013671875,\n",
       "  0.00732421875,\n",
       "  0.0228271484375,\n",
       "  -0.00830078125,\n",
       "  -0.00457763671875,\n",
       "  0.053466796875,\n",
       "  -0.0380859375,\n",
       "  0.045166015625,\n",
       "  -0.041015625,\n",
       "  0.013671875,\n",
       "  -0.012939453125,\n",
       "  -0.0205078125,\n",
       "  -0.0260009765625,\n",
       "  -0.031982421875,\n",
       "  -0.078125,\n",
       "  0.01336669921875,\n",
       "  -0.022216796875,\n",
       "  0.038818359375,\n",
       "  0.0308837890625,\n",
       "  -0.019775390625,\n",
       "  -0.033447265625,\n",
       "  0.0179443359375,\n",
       "  -0.04931640625,\n",
       "  -0.0322265625,\n",
       "  -0.01507568359375,\n",
       "  -0.0137939453125,\n",
       "  0.06591796875,\n",
       "  -0.01397705078125,\n",
       "  -0.03369140625,\n",
       "  0.0142822265625,\n",
       "  -0.0126953125,\n",
       "  0.0296630859375,\n",
       "  -0.0225830078125,\n",
       "  -0.061767578125,\n",
       "  -0.0023040771484375,\n",
       "  0.060302734375,\n",
       "  0.03662109375,\n",
       "  -0.01129150390625,\n",
       "  -0.0791015625,\n",
       "  -0.01336669921875,\n",
       "  -0.035400390625,\n",
       "  0.00160980224609375,\n",
       "  -0.0517578125,\n",
       "  0.005340576171875,\n",
       "  -0.0137939453125,\n",
       "  -0.007720947265625,\n",
       "  0.0185546875,\n",
       "  0.01190185546875,\n",
       "  -0.0240478515625,\n",
       "  0.0260009765625,\n",
       "  0.0771484375,\n",
       "  0.053466796875,\n",
       "  0.044921875,\n",
       "  -0.0179443359375,\n",
       "  -0.0311279296875,\n",
       "  0.052490234375,\n",
       "  -0.0004444122314453125,\n",
       "  0.018798828125,\n",
       "  0.004241943359375,\n",
       "  0.0167236328125,\n",
       "  -0.00494384765625,\n",
       "  -0.008544921875,\n",
       "  0.01220703125,\n",
       "  -0.00191497802734375,\n",
       "  -0.0032501220703125,\n",
       "  0.0120849609375,\n",
       "  -0.01141357421875,\n",
       "  0.0177001953125,\n",
       "  -0.0179443359375,\n",
       "  0.005767822265625,\n",
       "  0.0546875,\n",
       "  -0.007232666015625,\n",
       "  0.019775390625,\n",
       "  -0.01287841796875,\n",
       "  0.015869140625,\n",
       "  0.003814697265625,\n",
       "  0.00433349609375,\n",
       "  -0.040283203125,\n",
       "  0.04296875,\n",
       "  -0.045654296875,\n",
       "  0.025146484375,\n",
       "  -0.057861328125,\n",
       "  0.00148773193359375,\n",
       "  0.037353515625,\n",
       "  -0.0069580078125,\n",
       "  -0.037109375,\n",
       "  -0.00098419189453125,\n",
       "  -0.004425048828125,\n",
       "  -0.08447265625,\n",
       "  -0.0120849609375,\n",
       "  -0.00897216796875,\n",
       "  -0.0341796875,\n",
       "  -0.0400390625,\n",
       "  0.0019683837890625,\n",
       "  -0.033447265625,\n",
       "  -0.00927734375,\n",
       "  0.010498046875,\n",
       "  -0.0238037109375,\n",
       "  0.007415771484375,\n",
       "  0.061767578125,\n",
       "  0.03955078125,\n",
       "  0.0068359375,\n",
       "  -0.01190185546875,\n",
       "  0.04443359375,\n",
       "  -0.0186767578125,\n",
       "  -0.031494140625,\n",
       "  -0.022705078125,\n",
       "  -0.006439208984375,\n",
       "  -0.022216796875,\n",
       "  -0.0047607421875,\n",
       "  0.041748046875,\n",
       "  -0.0137939453125,\n",
       "  -0.01129150390625,\n",
       "  -0.0556640625,\n",
       "  0.045654296875,\n",
       "  -0.0003528594970703125,\n",
       "  -0.023193359375,\n",
       "  -0.0291748046875,\n",
       "  -0.0181884765625,\n",
       "  -0.0008544921875,\n",
       "  0.02197265625,\n",
       "  -0.0166015625,\n",
       "  0.00054931640625,\n",
       "  -0.00140380859375,\n",
       "  0.03955078125,\n",
       "  -0.01513671875,\n",
       "  0.000270843505859375,\n",
       "  -0.013671875,\n",
       "  -0.00119781494140625,\n",
       "  -0.03466796875,\n",
       "  -0.045654296875,\n",
       "  -0.06298828125,\n",
       "  0.024658203125,\n",
       "  0.02001953125,\n",
       "  0.03466796875,\n",
       "  -0.018310546875,\n",
       "  -0.00384521484375,\n",
       "  -0.00274658203125,\n",
       "  0.0086669921875,\n",
       "  -0.01153564453125,\n",
       "  0.0150146484375,\n",
       "  -0.0185546875,\n",
       "  0.045654296875,\n",
       "  -0.048583984375,\n",
       "  -0.00182342529296875,\n",
       "  -0.061279296875,\n",
       "  -0.0419921875,\n",
       "  -0.01287841796875,\n",
       "  -0.0732421875,\n",
       "  0.056884765625,\n",
       "  0.0032958984375,\n",
       "  -0.043212890625,\n",
       "  -0.0238037109375,\n",
       "  0.05517578125,\n",
       "  0.033935546875,\n",
       "  -0.016357421875,\n",
       "  -0.004119873046875,\n",
       "  0.01513671875,\n",
       "  -0.0517578125,\n",
       "  0.0267333984375,\n",
       "  0.018798828125,\n",
       "  0.0279541015625,\n",
       "  0.005523681640625,\n",
       "  -0.038330078125,\n",
       "  -0.0203857421875,\n",
       "  0.002716064453125,\n",
       "  -0.029052734375,\n",
       "  0.04296875,\n",
       "  0.0001373291015625,\n",
       "  0.037109375,\n",
       "  0.005645751953125,\n",
       "  0.013916015625,\n",
       "  -0.03515625,\n",
       "  0.0252685546875,\n",
       "  0.046142578125,\n",
       "  0.028564453125,\n",
       "  0.0115966796875,\n",
       "  -0.09521484375,\n",
       "  -0.028564453125,\n",
       "  0.03076171875,\n",
       "  0.006011962890625,\n",
       "  0.03515625,\n",
       "  0.0038909912109375,\n",
       "  -0.0162353515625,\n",
       "  -0.00848388671875,\n",
       "  0.0206298828125,\n",
       "  -0.00677490234375,\n",
       "  0.036376953125,\n",
       "  0.029541015625,\n",
       "  0.0184326171875,\n",
       "  -0.0025482177734375,\n",
       "  -0.0306396484375,\n",
       "  0.033447265625,\n",
       "  -0.0262451171875,\n",
       "  0.03125,\n",
       "  0.005157470703125,\n",
       "  0.01409912109375,\n",
       "  0.08642578125,\n",
       "  0.0322265625,\n",
       "  -0.0498046875,\n",
       "  -0.004425048828125,\n",
       "  0.036865234375,\n",
       "  -0.017578125,\n",
       "  -0.036376953125,\n",
       "  0.00604248046875,\n",
       "  0.000362396240234375,\n",
       "  -0.024169921875,\n",
       "  -0.07666015625,\n",
       "  0.0123291015625,\n",
       "  0.0257568359375,\n",
       "  0.02587890625,\n",
       "  -0.004791259765625,\n",
       "  0.048828125,\n",
       "  0.01123046875,\n",
       "  0.0498046875,\n",
       "  0.00958251953125,\n",
       "  0.01434326171875,\n",
       "  0.0164794921875,\n",
       "  -0.02783203125,\n",
       "  -0.0113525390625,\n",
       "  0.0390625,\n",
       "  0.036376953125,\n",
       "  -0.0184326171875,\n",
       "  -0.0260009765625,\n",
       "  -0.06494140625,\n",
       "  -0.0020294189453125,\n",
       "  -0.0181884765625,\n",
       "  0.0064697265625,\n",
       "  0.0517578125,\n",
       "  0.0211181640625,\n",
       "  -0.03125,\n",
       "  0.03271484375,\n",
       "  -0.01422119140625,\n",
       "  -0.0625,\n",
       "  0.015869140625,\n",
       "  0.02587890625,\n",
       "  -0.003082275390625,\n",
       "  -0.0012359619140625,\n",
       "  -0.0235595703125,\n",
       "  -0.0052490234375,\n",
       "  0.03271484375,\n",
       "  0.0419921875,\n",
       "  0.02734375,\n",
       "  -0.010986328125,\n",
       "  0.0291748046875,\n",
       "  0.00830078125,\n",
       "  0.068359375,\n",
       "  -0.0263671875,\n",
       "  0.053466796875,\n",
       "  0.0034332275390625,\n",
       "  0.0194091796875,\n",
       "  0.029296875,\n",
       "  0.0225830078125,\n",
       "  0.006317138671875,\n",
       "  0.0301513671875,\n",
       "  -0.0230712890625,\n",
       "  0.0556640625,\n",
       "  -0.006378173828125,\n",
       "  -0.0216064453125,\n",
       "  0.02734375,\n",
       "  0.023681640625,\n",
       "  0.042724609375,\n",
       "  0.03369140625,\n",
       "  -0.0164794921875,\n",
       "  -0.01348876953125,\n",
       "  -0.033935546875,\n",
       "  -0.076171875,\n",
       "  -0.0027618408203125,\n",
       "  0.0169677734375,\n",
       "  -0.00848388671875,\n",
       "  -0.006622314453125,\n",
       "  -0.0002288818359375,\n",
       "  -0.00090789794921875,\n",
       "  -0.0087890625,\n",
       "  -0.06103515625,\n",
       "  -0.002899169921875,\n",
       "  0.006439208984375,\n",
       "  -0.0267333984375,\n",
       "  -0.0498046875,\n",
       "  -0.012939453125,\n",
       "  -0.0439453125,\n",
       "  -0.044189453125,\n",
       "  0.06103515625,\n",
       "  0.0107421875,\n",
       "  0.00537109375,\n",
       "  -0.01068115234375,\n",
       "  0.035888671875,\n",
       "  -0.0341796875,\n",
       "  0.06103515625,\n",
       "  0.004486083984375,\n",
       "  0.0038909912109375,\n",
       "  -0.009765625,\n",
       "  -0.012939453125,\n",
       "  -0.00390625,\n",
       "  0.027099609375,\n",
       "  0.0177001953125,\n",
       "  0.054931640625,\n",
       "  -0.038330078125,\n",
       "  0.00150299072265625,\n",
       "  0.0247802734375,\n",
       "  -0.04638671875,\n",
       "  -0.0286865234375,\n",
       "  0.00311279296875,\n",
       "  -0.02197265625,\n",
       "  0.0380859375,\n",
       "  0.0036468505859375,\n",
       "  0.000640869140625,\n",
       "  0.01190185546875,\n",
       "  0.0135498046875,\n",
       "  -0.019775390625,\n",
       "  -0.036376953125,\n",
       "  0.03466796875,\n",
       "  0.0194091796875,\n",
       "  0.0228271484375,\n",
       "  0.053466796875,\n",
       "  -0.030029296875,\n",
       "  0.00823974609375,\n",
       "  0.0260009765625,\n",
       "  0.0262451171875,\n",
       "  0.0306396484375,\n",
       "  -0.035888671875,\n",
       "  -0.0439453125,\n",
       "  -0.053955078125,\n",
       "  0.0167236328125,\n",
       "  -0.01190185546875,\n",
       "  -0.036865234375,\n",
       "  -0.0264892578125,\n",
       "  -0.03466796875,\n",
       "  -0.0189208984375,\n",
       "  0.008544921875,\n",
       "  0.01397705078125,\n",
       "  -0.043212890625,\n",
       "  -0.03173828125,\n",
       "  -0.005950927734375,\n",
       "  0.01397705078125,\n",
       "  0.007781982421875,\n",
       "  -0.0028076171875,\n",
       "  -0.003631591796875,\n",
       "  0.00238037109375,\n",
       "  0.06005859375,\n",
       "  0.00616455078125,\n",
       "  -0.001739501953125,\n",
       "  0.0220947265625,\n",
       "  0.07080078125,\n",
       "  -0.0255126953125,\n",
       "  0.02001953125,\n",
       "  0.004058837890625,\n",
       "  -0.030029296875,\n",
       "  0.07373046875,\n",
       "  0.08544921875,\n",
       "  0.0225830078125,\n",
       "  0.04736328125,\n",
       "  -0.02197265625,\n",
       "  0.031494140625,\n",
       "  0.0269775390625,\n",
       "  -0.0191650390625,\n",
       "  -0.0108642578125,\n",
       "  0.00799560546875,\n",
       "  0.0228271484375,\n",
       "  -0.022216796875,\n",
       "  -0.014892578125,\n",
       "  0.02001953125,\n",
       "  -0.00799560546875,\n",
       "  0.051513671875,\n",
       "  0.0047607421875,\n",
       "  -0.02783203125,\n",
       "  0.016845703125,\n",
       "  -0.01190185546875,\n",
       "  0.0302734375,\n",
       "  0.0096435546875,\n",
       "  -0.033935546875,\n",
       "  0.0037078857421875,\n",
       "  -0.009521484375,\n",
       "  -0.044921875,\n",
       "  -0.0135498046875,\n",
       "  ...],\n",
       " 'width': 1786,\n",
       " 'height': 2526}"
      ]
     },
     "execution_count": 109,
     "metadata": {},
     "output_type": "execute_result"
    }
   ],
   "source": [
    "docs[0]"
   ]
  },
  {
   "cell_type": "code",
   "execution_count": 107,
   "id": "a10f7f44-5064-4deb-9c3a-6087c365f290",
   "metadata": {},
   "outputs": [],
   "source": [
    "# Retrieval\n",
    "response = s3.get_object(Bucket=S3_BUCKET, Key=\"multimodal-rag/0.png.gz\")\n",
    "compressed_data = response[\"Body\"].read()\n",
    "\n",
    "# Decompress\n",
    "buffer = BytesIO(compressed_data)\n",
    "with gzip.GzipFile(fileobj=buffer, mode=\"rb\") as f:\n",
    "    image_bytes = f.read()\n",
    "\n",
    "# Convert to PIL Image\n",
    "img = Image.frombytes(\"RGB\", [docs[0][\"width\"], docs[0][\"height\"]], image_bytes)"
   ]
  },
  {
   "cell_type": "markdown",
   "id": "efb93ae3-521c-4dbb-a7a4-e5f3a7b0ce12",
   "metadata": {},
   "source": [
    "# Step 6: Ingest documents into MongoDB"
   ]
  },
  {
   "cell_type": "code",
   "execution_count": 110,
   "id": "0f16257f-d707-41be-b2c9-8904fb4b43dd",
   "metadata": {},
   "outputs": [],
   "source": [
    "collection = mongodb_client[DB_NAME][COLLECTION_NAME]"
   ]
  },
  {
   "cell_type": "code",
   "execution_count": 111,
   "id": "0df7e5dd-555e-474f-8a47-665bba466ca6",
   "metadata": {},
   "outputs": [
    {
     "data": {
      "text/plain": [
       "DeleteResult({'n': 22, 'electionId': ObjectId('7fffffff0000000000000026'), 'opTime': {'ts': Timestamp(1742338503, 22), 't': 38}, 'ok': 1.0, '$clusterTime': {'clusterTime': Timestamp(1742338503, 22), 'signature': {'hash': b\"P\\xedA\\xd8\\xe4\\x16p\\xf9\\x8a'\\x1f\\xab\\xf1.\\x82\\xf4@\\x83V\\xb7\", 'keyId': 7421985632479608834}}, 'operationTime': Timestamp(1742338503, 22)}, acknowledged=True)"
      ]
     },
     "execution_count": 111,
     "metadata": {},
     "output_type": "execute_result"
    }
   ],
   "source": [
    "collection.delete_many({})"
   ]
  },
  {
   "cell_type": "code",
   "execution_count": 112,
   "id": "f23dc930-72c4-42a2-b2fa-7dc21619c2de",
   "metadata": {},
   "outputs": [
    {
     "data": {
      "text/plain": [
       "InsertManyResult([ObjectId('67d9f9c75b23b0aee3d618b7'), ObjectId('67d9f9c75b23b0aee3d618b8'), ObjectId('67d9f9c75b23b0aee3d618b9'), ObjectId('67d9f9c75b23b0aee3d618ba'), ObjectId('67d9f9c75b23b0aee3d618bb'), ObjectId('67d9f9c75b23b0aee3d618bc'), ObjectId('67d9f9c75b23b0aee3d618bd'), ObjectId('67d9f9c75b23b0aee3d618be'), ObjectId('67d9f9c75b23b0aee3d618bf'), ObjectId('67d9f9c75b23b0aee3d618c0'), ObjectId('67d9f9c75b23b0aee3d618c1'), ObjectId('67d9f9c75b23b0aee3d618c2'), ObjectId('67d9f9c75b23b0aee3d618c3'), ObjectId('67d9f9c75b23b0aee3d618c4'), ObjectId('67d9f9c75b23b0aee3d618c5'), ObjectId('67d9f9c75b23b0aee3d618c6'), ObjectId('67d9f9c75b23b0aee3d618c7'), ObjectId('67d9f9c75b23b0aee3d618c8'), ObjectId('67d9f9c75b23b0aee3d618c9'), ObjectId('67d9f9c75b23b0aee3d618ca'), ObjectId('67d9f9c75b23b0aee3d618cb'), ObjectId('67d9f9c75b23b0aee3d618cc')], acknowledged=True)"
      ]
     },
     "execution_count": 112,
     "metadata": {},
     "output_type": "execute_result"
    }
   ],
   "source": [
    "collection.insert_many(docs)"
   ]
  },
  {
   "cell_type": "markdown",
   "id": "54abe591-f388-4dab-bfaf-0419de07db76",
   "metadata": {},
   "source": [
    "# Step 7: Create a vector search index"
   ]
  },
  {
   "cell_type": "code",
   "execution_count": 73,
   "id": "0855f973-92fa-43cc-9a90-4ecb99353575",
   "metadata": {},
   "outputs": [],
   "source": [
    "model = {\n",
    "    \"name\": VS_INDEX_NAME,\n",
    "    \"type\": \"vectorSearch\",\n",
    "    \"definition\": {\n",
    "        \"fields\": [\n",
    "            {\n",
    "                \"type\": \"vector\",\n",
    "                \"path\": \"embedding\",\n",
    "                \"numDimensions\": 1024,\n",
    "                \"similarity\": \"cosine\",\n",
    "            }\n",
    "        ]\n",
    "    },\n",
    "}"
   ]
  },
  {
   "cell_type": "code",
   "execution_count": 74,
   "id": "175168f4-93dc-44f3-9045-5c8c2819921d",
   "metadata": {},
   "outputs": [
    {
     "data": {
      "text/plain": [
       "'vector_index'"
      ]
     },
     "execution_count": 74,
     "metadata": {},
     "output_type": "execute_result"
    }
   ],
   "source": [
    "collection.create_search_index(model=model)"
   ]
  },
  {
   "cell_type": "markdown",
   "id": "5db2a570-8ae3-4b2c-8051-7091a4e35bcc",
   "metadata": {},
   "source": [
    "# Step 8: Retrieve documents using vector search"
   ]
  },
  {
   "cell_type": "code",
   "execution_count": 115,
   "id": "aee78ddd-b586-446b-9a97-c76c50f50e7b",
   "metadata": {},
   "outputs": [],
   "source": [
    "def vector_search(user_query):\n",
    "    query_embedding = get_embedding(user_query, \"query\")\n",
    "    pipeline = [\n",
    "        {\n",
    "            \"$vectorSearch\": {\n",
    "                \"index\": VS_INDEX_NAME,\n",
    "                \"queryVector\": query_embedding,\n",
    "                \"path\": \"embedding\",\n",
    "                \"numCandidates\": 150,\n",
    "                \"limit\": 5,\n",
    "            }\n",
    "        },\n",
    "        {\n",
    "            \"$project\": {\n",
    "                \"_id\": 0,\n",
    "                \"s3_key\": 1,\n",
    "                \"width\": 1,\n",
    "                \"height\": 1,\n",
    "                \"score\": {\"$meta\": \"vectorSearchScore\"},\n",
    "            }\n",
    "        },\n",
    "    ]\n",
    "\n",
    "    # Execute the aggregation `pipeline` and store the results in `results`\n",
    "    results = collection.aggregate(pipeline)\n",
    "    return list(results)"
   ]
  },
  {
   "cell_type": "code",
   "execution_count": 116,
   "id": "2445755a-39a6-4dde-bbd7-db91ab576602",
   "metadata": {},
   "outputs": [
    {
     "data": {
      "text/plain": [
       "[{'s3_key': 'multimodal-rag/0.png.gz',\n",
       "  'width': 1786,\n",
       "  'height': 2526,\n",
       "  'score': 0.7545373439788818},\n",
       " {'s3_key': 'multimodal-rag/12.png.gz',\n",
       "  'width': 1786,\n",
       "  'height': 2526,\n",
       "  'score': 0.7498551607131958},\n",
       " {'s3_key': 'multimodal-rag/13.png.gz',\n",
       "  'width': 1786,\n",
       "  'height': 2526,\n",
       "  'score': 0.7284250259399414},\n",
       " {'s3_key': 'multimodal-rag/6.png.gz',\n",
       "  'width': 1786,\n",
       "  'height': 2526,\n",
       "  'score': 0.7090297341346741},\n",
       " {'s3_key': 'multimodal-rag/3.png.gz',\n",
       "  'width': 1786,\n",
       "  'height': 2526,\n",
       "  'score': 0.7054796814918518}]"
      ]
     },
     "execution_count": 116,
     "metadata": {},
     "output_type": "execute_result"
    }
   ],
   "source": [
    "vector_search(\"Summarize the benchmark performance of Deepseek R1.\")"
   ]
  },
  {
   "cell_type": "code",
   "execution_count": null,
   "id": "3b6b66e2-9f19-4f32-822c-71c3c020e9c4",
   "metadata": {},
   "outputs": [],
   "source": []
  }
 ],
 "metadata": {
  "kernelspec": {
   "display_name": "Python 3 (ipykernel)",
   "language": "python",
   "name": "python3"
  },
  "language_info": {
   "codemirror_mode": {
    "name": "ipython",
    "version": 3
   },
   "file_extension": ".py",
   "mimetype": "text/x-python",
   "name": "python",
   "nbconvert_exporter": "python",
   "pygments_lexer": "ipython3",
   "version": "3.12.1"
  }
 },
 "nbformat": 4,
 "nbformat_minor": 5
}
