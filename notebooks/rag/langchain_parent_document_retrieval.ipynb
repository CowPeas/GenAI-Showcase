{
 "cells": [
  {
   "cell_type": "markdown",
   "metadata": {},
   "source": [
    "[![Open In Colab](https://colab.research.google.com/assets/colab-badge.svg)](https://colab.research.google.com/github/mongodb-developer/GenAI-Showcase/blob/main/notebooks/rag/langchain_parent_document_retrieval.ipynb)\n",
    "\n",
    "[![View Article](https://img.shields.io/badge/View%20Article-blue)](https://www.mongodb.com/developer/products/atlas/advanced-rag-parent-doc-retrieval/?utm_campaign=devrel&utm_source=cross-post&utm_medium=organic_social&utm_content=https%3A%2F%2Fgithub.com%2Fmongodb-developer%2FGenAI-Showcase&utm_term=apoorva.joshi)"
   ]
  },
  {
   "cell_type": "markdown",
   "metadata": {},
   "source": [
    "# Parent Document Retrieval Using MongoDB and LangChain\n",
    "\n",
    "This notebook shows you how to implement parent document retrieval in your RAG application using MongoDB's LangChain integration."
   ]
  },
  {
   "cell_type": "markdown",
   "metadata": {},
   "source": [
    "## Step 1: Install required libraries\n",
    "\n",
    "- **datasets**: Python package to download datasets from Hugging Face\n",
    "\n",
    "- **pymongo**: Python driver for MongoDB\n",
    "\n",
    "- **langchain**: Python package for LangChain's core modules\n",
    "\n",
    "- **langchain-openai**: Python package to use OpenAI models via LangChain"
   ]
  },
  {
   "cell_type": "code",
   "execution_count": 150,
   "metadata": {},
   "outputs": [],
   "source": [
    "! pip install -qU datasets pymongo langchain ragas rapidfuzz langchain-openai 'git+https://github.com/langchain-ai/langchain-mongodb.git@main#subdirectory=libs/mongodb' "
   ]
  },
  {
   "cell_type": "markdown",
   "metadata": {},
   "source": [
    "## Step 2: Setup prerequisites\n",
    "\n",
    "- **Set the MongoDB connection string**: Follow the steps [here](https://www.mongodb.com/docs/manual/reference/connection-string/) to get the connection string from the Atlas UI.\n",
    "\n",
    "- **Set the OpenAI API key**: Steps to obtain an API key are [here](https://help.openai.com/en/articles/4936850-where-do-i-find-my-openai-api-key)\n",
    "\n",
    "- **Set the Hugging Face token**: Steps to create a token are [here](https://huggingface.co/docs/hub/en/security-tokens#how-to-manage-user-access-tokens). You only need **read** token for this tutorial."
   ]
  },
  {
   "cell_type": "code",
   "execution_count": 4,
   "metadata": {},
   "outputs": [],
   "source": [
    "import os\n",
    "import getpass\n",
    "from openai import OpenAI\n",
    "from pymongo import MongoClient"
   ]
  },
  {
   "cell_type": "code",
   "execution_count": 5,
   "metadata": {},
   "outputs": [],
   "source": [
    "os.environ[\"OPENAI_API_KEY\"] = getpass.getpass(\"Enter your OpenAI API Key:\")"
   ]
  },
  {
   "cell_type": "code",
   "execution_count": 6,
   "metadata": {},
   "outputs": [
    {
     "data": {
      "text/plain": [
       "{'ok': 1.0,\n",
       " '$clusterTime': {'clusterTime': Timestamp(1732218048, 1),\n",
       "  'signature': {'hash': b\"8\\xbf>\\xa0\\xbc\\xf1\\x1c\\x01\\xcd!tr~\\xd2\\x15\\xa5o'\\xde\\xfa\",\n",
       "   'keyId': 7390069253761662978}},\n",
       " 'operationTime': Timestamp(1732218048, 1)}"
      ]
     },
     "execution_count": 6,
     "metadata": {},
     "output_type": "execute_result"
    }
   ],
   "source": [
    "MONGODB_URI = getpass.getpass(\"Enter your MongoDB connection string:\")\n",
    "mongodb_client = MongoClient(\n",
    "    MONGODB_URI, appname=\"devrel.showcase.parent_doc_retrieval\"\n",
    ")\n",
    "mongodb_client.admin.command(\"ping\")"
   ]
  },
  {
   "cell_type": "code",
   "execution_count": 7,
   "metadata": {},
   "outputs": [],
   "source": [
    "os.environ[\"HF_TOKEN\"] = getpass.getpass(\"Enter your HF Access Token:\")"
   ]
  },
  {
   "cell_type": "markdown",
   "metadata": {},
   "source": [
    "## Step 3: Load the dataset"
   ]
  },
  {
   "cell_type": "code",
   "execution_count": 3,
   "metadata": {},
   "outputs": [
    {
     "name": "stderr",
     "output_type": "stream",
     "text": [
      "/Users/apoorva.joshi/Documents/GenAI-Showcase/notebooks/.venv/lib/python3.12/site-packages/tqdm/auto.py:21: TqdmWarning: IProgress not found. Please update jupyter and ipywidgets. See https://ipywidgets.readthedocs.io/en/stable/user_install.html\n",
      "  from .autonotebook import tqdm as notebook_tqdm\n"
     ]
    }
   ],
   "source": [
    "from datasets import load_dataset\n",
    "import pandas as pd"
   ]
  },
  {
   "cell_type": "code",
   "execution_count": 27,
   "metadata": {},
   "outputs": [],
   "source": [
    "data = load_dataset(\"mongodb-eai/docs\", split=\"train\")\n",
    "data_head = data.take(1000)\n",
    "df = pd.DataFrame(data_head)"
   ]
  },
  {
   "cell_type": "code",
   "execution_count": 28,
   "metadata": {},
   "outputs": [
    {
     "data": {
      "text/html": [
       "<div>\n",
       "<style scoped>\n",
       "    .dataframe tbody tr th:only-of-type {\n",
       "        vertical-align: middle;\n",
       "    }\n",
       "\n",
       "    .dataframe tbody tr th {\n",
       "        vertical-align: top;\n",
       "    }\n",
       "\n",
       "    .dataframe thead th {\n",
       "        text-align: right;\n",
       "    }\n",
       "</style>\n",
       "<table border=\"1\" class=\"dataframe\">\n",
       "  <thead>\n",
       "    <tr style=\"text-align: right;\">\n",
       "      <th></th>\n",
       "      <th>updated</th>\n",
       "      <th>_id</th>\n",
       "      <th>metadata</th>\n",
       "      <th>action</th>\n",
       "      <th>sourceName</th>\n",
       "      <th>body</th>\n",
       "      <th>url</th>\n",
       "      <th>format</th>\n",
       "      <th>title</th>\n",
       "    </tr>\n",
       "  </thead>\n",
       "  <tbody>\n",
       "    <tr>\n",
       "      <th>0</th>\n",
       "      <td>{'$date': '2024-05-20T17:30:49.148Z'}</td>\n",
       "      <td>{'$oid': '664b88c96e4f895074208162'}</td>\n",
       "      <td>{'contentType': None, 'pageDescription': None,...</td>\n",
       "      <td>created</td>\n",
       "      <td>snooty-cloud-docs</td>\n",
       "      <td># View Database Access History\\n\\n- This featu...</td>\n",
       "      <td>https://mongodb.com/docs/atlas/access-tracking/</td>\n",
       "      <td>md</td>\n",
       "      <td>View Database Access History</td>\n",
       "    </tr>\n",
       "    <tr>\n",
       "      <th>1</th>\n",
       "      <td>{'$date': '2024-05-20T17:30:49.148Z'}</td>\n",
       "      <td>{'$oid': '664b88c96e4f895074208178'}</td>\n",
       "      <td>{'contentType': None, 'pageDescription': None,...</td>\n",
       "      <td>created</td>\n",
       "      <td>snooty-cloud-docs</td>\n",
       "      <td># Manage Organization Teams\\n\\nYou can create ...</td>\n",
       "      <td>https://mongodb.com/docs/atlas/access/manage-t...</td>\n",
       "      <td>md</td>\n",
       "      <td>Manage Organization Teams</td>\n",
       "    </tr>\n",
       "    <tr>\n",
       "      <th>2</th>\n",
       "      <td>{'$date': '2024-05-20T17:30:49.148Z'}</td>\n",
       "      <td>{'$oid': '664b88c96e4f895074208183'}</td>\n",
       "      <td>{'contentType': None, 'pageDescription': None,...</td>\n",
       "      <td>created</td>\n",
       "      <td>snooty-cloud-docs</td>\n",
       "      <td># Manage Organizations\\n\\nIn the organizations...</td>\n",
       "      <td>https://mongodb.com/docs/atlas/access/orgs-cre...</td>\n",
       "      <td>md</td>\n",
       "      <td>Manage Organizations</td>\n",
       "    </tr>\n",
       "    <tr>\n",
       "      <th>3</th>\n",
       "      <td>{'$date': '2024-05-20T17:30:49.148Z'}</td>\n",
       "      <td>{'$oid': '664b88c96e4f89507420818f'}</td>\n",
       "      <td>{'contentType': None, 'pageDescription': None,...</td>\n",
       "      <td>created</td>\n",
       "      <td>snooty-cloud-docs</td>\n",
       "      <td># Alert Basics\\n\\nAtlas provides built-in tool...</td>\n",
       "      <td>https://mongodb.com/docs/atlas/alert-basics/</td>\n",
       "      <td>md</td>\n",
       "      <td>Alert Basics</td>\n",
       "    </tr>\n",
       "    <tr>\n",
       "      <th>4</th>\n",
       "      <td>{'$date': '2024-05-20T17:30:49.148Z'}</td>\n",
       "      <td>{'$oid': '664b88c96e4f89507420819d'}</td>\n",
       "      <td>{'contentType': None, 'pageDescription': None,...</td>\n",
       "      <td>created</td>\n",
       "      <td>snooty-cloud-docs</td>\n",
       "      <td># Resolve Alerts\\n\\nAtlas issues alerts for th...</td>\n",
       "      <td>https://mongodb.com/docs/atlas/alert-resolutions/</td>\n",
       "      <td>md</td>\n",
       "      <td>Resolve Alerts</td>\n",
       "    </tr>\n",
       "  </tbody>\n",
       "</table>\n",
       "</div>"
      ],
      "text/plain": [
       "                                 updated  \\\n",
       "0  {'$date': '2024-05-20T17:30:49.148Z'}   \n",
       "1  {'$date': '2024-05-20T17:30:49.148Z'}   \n",
       "2  {'$date': '2024-05-20T17:30:49.148Z'}   \n",
       "3  {'$date': '2024-05-20T17:30:49.148Z'}   \n",
       "4  {'$date': '2024-05-20T17:30:49.148Z'}   \n",
       "\n",
       "                                    _id  \\\n",
       "0  {'$oid': '664b88c96e4f895074208162'}   \n",
       "1  {'$oid': '664b88c96e4f895074208178'}   \n",
       "2  {'$oid': '664b88c96e4f895074208183'}   \n",
       "3  {'$oid': '664b88c96e4f89507420818f'}   \n",
       "4  {'$oid': '664b88c96e4f89507420819d'}   \n",
       "\n",
       "                                            metadata   action  \\\n",
       "0  {'contentType': None, 'pageDescription': None,...  created   \n",
       "1  {'contentType': None, 'pageDescription': None,...  created   \n",
       "2  {'contentType': None, 'pageDescription': None,...  created   \n",
       "3  {'contentType': None, 'pageDescription': None,...  created   \n",
       "4  {'contentType': None, 'pageDescription': None,...  created   \n",
       "\n",
       "          sourceName                                               body  \\\n",
       "0  snooty-cloud-docs  # View Database Access History\\n\\n- This featu...   \n",
       "1  snooty-cloud-docs  # Manage Organization Teams\\n\\nYou can create ...   \n",
       "2  snooty-cloud-docs  # Manage Organizations\\n\\nIn the organizations...   \n",
       "3  snooty-cloud-docs  # Alert Basics\\n\\nAtlas provides built-in tool...   \n",
       "4  snooty-cloud-docs  # Resolve Alerts\\n\\nAtlas issues alerts for th...   \n",
       "\n",
       "                                                 url format  \\\n",
       "0    https://mongodb.com/docs/atlas/access-tracking/     md   \n",
       "1  https://mongodb.com/docs/atlas/access/manage-t...     md   \n",
       "2  https://mongodb.com/docs/atlas/access/orgs-cre...     md   \n",
       "3       https://mongodb.com/docs/atlas/alert-basics/     md   \n",
       "4  https://mongodb.com/docs/atlas/alert-resolutions/     md   \n",
       "\n",
       "                          title  \n",
       "0  View Database Access History  \n",
       "1     Manage Organization Teams  \n",
       "2          Manage Organizations  \n",
       "3                  Alert Basics  \n",
       "4                Resolve Alerts  "
      ]
     },
     "execution_count": 28,
     "metadata": {},
     "output_type": "execute_result"
    }
   ],
   "source": [
    "df.head()"
   ]
  },
  {
   "cell_type": "markdown",
   "metadata": {},
   "source": [
    "## Step 4: Convert dataset to LangChain Documents"
   ]
  },
  {
   "cell_type": "code",
   "execution_count": 29,
   "metadata": {},
   "outputs": [],
   "source": [
    "from langchain_core.documents import Document"
   ]
  },
  {
   "cell_type": "code",
   "execution_count": 30,
   "metadata": {},
   "outputs": [],
   "source": [
    "docs = []\n",
    "metadata_fields = [\"updated\", \"url\", \"title\"]\n",
    "for _, row in df.iterrows():\n",
    "    content = row[\"body\"]\n",
    "    metadata = row[\"metadata\"]\n",
    "    for field in metadata_fields:\n",
    "        metadata[field] = row[field]\n",
    "    docs.append(Document(page_content=content, metadata=metadata))"
   ]
  },
  {
   "cell_type": "code",
   "execution_count": 31,
   "metadata": {},
   "outputs": [
    {
     "data": {
      "text/plain": [
       "Document(metadata={'contentType': None, 'pageDescription': None, 'productName': 'MongoDB Atlas', 'tags': ['atlas', 'docs'], 'version': None, 'updated': {'$date': '2024-05-20T17:30:49.148Z'}, 'url': 'https://mongodb.com/docs/atlas/access-tracking/', 'title': 'View Database Access History'}, page_content='# View Database Access History\\n\\n- This feature is not available for `M0` free clusters, `M2`, and `M5` clusters. To learn more, see Atlas M0 (Free Cluster), M2, and M5 Limits.\\n\\n- This feature is not supported on Serverless instances at this time. To learn more, see Serverless Instance Limitations.\\n\\n## Overview\\n\\nAtlas parses the MongoDB database logs to collect a list of authentication requests made against your clusters through the following methods:\\n\\n- `mongosh`\\n\\n- Compass\\n\\n- Drivers\\n\\nAuthentication requests made with API Keys through the Atlas Administration API are not logged.\\n\\nAtlas logs the following information for each authentication request within the last 7 days:\\n\\n<table>\\n<tr>\\n<th id=\"Field\">\\nField\\n\\n</th>\\n<th id=\"Description\">\\nDescription\\n\\n</th>\\n</tr>\\n<tr>\\n<td headers=\"Field\">\\nTimestamp\\n\\n</td>\\n<td headers=\"Description\">\\nThe date and time of the authentication request.\\n\\n</td>\\n</tr>\\n<tr>\\n<td headers=\"Field\">\\nUsername\\n\\n</td>\\n<td headers=\"Description\">\\nThe username associated with the database user who made the authentication request.\\n\\nFor LDAP usernames, the UI displays the resolved LDAP name. Hover over the name to see the full LDAP username.\\n\\n</td>\\n</tr>\\n<tr>\\n<td headers=\"Field\">\\nIP Address\\n\\n</td>\\n<td headers=\"Description\">\\nThe IP address of the machine that sent the authentication request.\\n\\n</td>\\n</tr>\\n<tr>\\n<td headers=\"Field\">\\nHost\\n\\n</td>\\n<td headers=\"Description\">\\nThe target server that processed the authentication request.\\n\\n</td>\\n</tr>\\n<tr>\\n<td headers=\"Field\">\\nAuthentication Source\\n\\n</td>\\n<td headers=\"Description\">\\nThe database that the authentication request was made against. `admin` is the authentication source for SCRAM-SHA users and `$external` for LDAP users.\\n\\n</td>\\n</tr>\\n<tr>\\n<td headers=\"Field\">\\nAuthentication Result\\n\\n</td>\\n<td headers=\"Description\">\\nThe success or failure of the authentication request. A reason code is displayed for the failed authentication requests.\\n\\n</td>\\n</tr>\\n</table>Authentication requests are pre-sorted by descending timestamp with 25 entries per page.\\n\\n### Logging Limitations\\n\\nIf a cluster experiences an activity spike and generates an extremely large quantity of log messages, Atlas may stop collecting and storing new logs for a period of time.\\n\\nLog analysis rate limits apply only to the Performance Advisor UI, the Query Insights UI, the Access Tracking UI, and the Atlas Search Query Analytics UI. Downloadable log files are always complete.\\n\\nIf authentication requests occur during a period when logs are not collected, they will not appear in the database access history.\\n\\n## Required Access\\n\\nTo view database access history, you must have `Project Owner` or `Organization Owner` access to Atlas.\\n\\n## Procedure\\n\\n<Tabs>\\n\\n<Tab name=\"Atlas CLI\">\\n\\nTo return the access logs for a cluster using the Atlas CLI, run the following command:\\n\\n```sh\\n\\natlas accessLogs list [options]\\n\\n```\\n\\nTo learn more about the command syntax and parameters, see the Atlas CLI documentation for atlas accessLogs list.\\n\\n- Install the Atlas CLI\\n\\n- Connect to the Atlas CLI\\n\\n</Tab>\\n\\n<Tab name=\"Atlas Administration API\">\\n\\nTo view the database access history using the API, see Access Tracking.\\n\\n</Tab>\\n\\n<Tab name=\"Atlas UI\">\\n\\nUse the following procedure to view your database access history using the Atlas UI:\\n\\n### Navigate to the Clusters page for your project.\\n\\n- If it is not already displayed, select the organization that contains your desired project from the  Organizations menu in the navigation bar.\\n\\n- If it is not already displayed, select your desired project from the Projects menu in the navigation bar.\\n\\n- If the Clusters page is not already displayed, click Database in the sidebar.\\n\\n### View the cluster\\'s database access history.\\n\\n- On the cluster card, click .\\n\\n- Select View Database Access History.\\n\\nor\\n\\n- Click the cluster name.\\n\\n- Click .\\n\\n- Select View Database Access History.\\n\\n</Tab>\\n\\n</Tabs>\\n\\n')"
      ]
     },
     "execution_count": 31,
     "metadata": {},
     "output_type": "execute_result"
    }
   ],
   "source": [
    "docs[0]"
   ]
  },
  {
   "cell_type": "code",
   "execution_count": 32,
   "metadata": {},
   "outputs": [
    {
     "data": {
      "text/plain": [
       "1000"
      ]
     },
     "execution_count": 32,
     "metadata": {},
     "output_type": "execute_result"
    }
   ],
   "source": [
    "len(docs)"
   ]
  },
  {
   "cell_type": "markdown",
   "metadata": {},
   "source": [
    "## Step 5: Instantiate the retrievers"
   ]
  },
  {
   "cell_type": "code",
   "execution_count": 104,
   "metadata": {},
   "outputs": [],
   "source": [
    "from langchain_mongodb.retrievers.parent_document import (\n",
    "    MongoDBAtlasParentDocumentRetriever,\n",
    ")\n",
    "from langchain_text_splitters import RecursiveCharacterTextSplitter\n",
    "from langchain_openai import OpenAIEmbeddings"
   ]
  },
  {
   "cell_type": "code",
   "execution_count": 105,
   "metadata": {},
   "outputs": [],
   "source": [
    "embedding_model = OpenAIEmbeddings(model=\"text-embedding-3-small\")"
   ]
  },
  {
   "cell_type": "code",
   "execution_count": null,
   "metadata": {},
   "outputs": [],
   "source": [
    "DB_NAME = \"langchain\"\n",
    "PARENT_DOC_COLLECTION = \"parent_doc\"\n",
    "PARENT_CHUNK_COLLECTION = \"parent_chunk\""
   ]
  },
  {
   "cell_type": "code",
   "execution_count": 106,
   "metadata": {},
   "outputs": [],
   "source": [
    "def get_splitter(chunk_size):\n",
    "    return RecursiveCharacterTextSplitter.from_tiktoken_encoder(\n",
    "        encoding_name=\"cl100k_base\",\n",
    "        chunk_size=chunk_size,\n",
    "        chunk_overlap=0.15 * chunk_size,\n",
    "    )"
   ]
  },
  {
   "cell_type": "code",
   "execution_count": 132,
   "metadata": {},
   "outputs": [],
   "source": [
    "def get_retriever(collection, child_chunk_size, **kwargs):\n",
    "    return MongoDBAtlasParentDocumentRetriever.from_connection_string(\n",
    "        connection_string=MONGODB_URI,\n",
    "        embedding_model=embedding_model,\n",
    "        child_splitter=get_splitter(child_chunk_size),\n",
    "        database_name=DB_NAME,\n",
    "        collection_name=collection,\n",
    "        text_key=\"page_content\",\n",
    "        search_type=\"similarity\",\n",
    "        search_kwargs={\"k\": 10},\n",
    "    )"
   ]
  },
  {
   "cell_type": "code",
   "execution_count": 133,
   "metadata": {},
   "outputs": [],
   "source": [
    "parent_doc_retriever = get_retriever(\n",
    "    collection=PARENT_DOC_COLLECTION, child_chunk_size=200\n",
    ")"
   ]
  },
  {
   "cell_type": "code",
   "execution_count": 134,
   "metadata": {},
   "outputs": [],
   "source": [
    "parent_chunk_retriever = get_retriever(\n",
    "    collection=PARENT_CHUNK_COLLECTION,\n",
    "    child_chunk_size=200,\n",
    "    parent_splitter=get_splitter(800),\n",
    ")"
   ]
  },
  {
   "cell_type": "markdown",
   "metadata": {},
   "source": [
    "## Step 6: Ingest documents into MongoDB"
   ]
  },
  {
   "cell_type": "code",
   "execution_count": 113,
   "metadata": {},
   "outputs": [],
   "source": [
    "import asyncio"
   ]
  },
  {
   "cell_type": "code",
   "execution_count": 114,
   "metadata": {},
   "outputs": [],
   "source": [
    "CHUNK_SIZE = 100\n",
    "MAX_CONCURRENCY = 4"
   ]
  },
  {
   "cell_type": "code",
   "execution_count": 115,
   "metadata": {},
   "outputs": [],
   "source": [
    "async def process_chunk(chunk, semaphore, retriever):\n",
    "    async with semaphore:\n",
    "        await retriever.aadd_documents(chunk)\n",
    "        print(f\"Processed {len(chunk)} documents\")"
   ]
  },
  {
   "cell_type": "code",
   "execution_count": 116,
   "metadata": {},
   "outputs": [],
   "source": [
    "def get_chunks(docs, chunk_size):\n",
    "    for i in range(0, len(docs), chunk_size):\n",
    "        yield docs[i : i + chunk_size]"
   ]
  },
  {
   "cell_type": "code",
   "execution_count": 117,
   "metadata": {},
   "outputs": [],
   "source": [
    "async def process_docs(docs, retriever):\n",
    "    semaphore = asyncio.Semaphore(MAX_CONCURRENCY)\n",
    "    chunks = get_chunks(docs, CHUNK_SIZE)\n",
    "\n",
    "    tasks = []\n",
    "    for chunk in chunks:\n",
    "        tasks.append(process_chunk(chunk, semaphore, retriever))\n",
    "\n",
    "    # Gather all tasks and get results\n",
    "    results = await asyncio.gather(*tasks)\n",
    "    return results"
   ]
  },
  {
   "cell_type": "code",
   "execution_count": 74,
   "metadata": {},
   "outputs": [],
   "source": [
    "def get_collection(coll_name):\n",
    "    return mongodb_client[DB_NAME][coll_name]"
   ]
  },
  {
   "cell_type": "code",
   "execution_count": 71,
   "metadata": {},
   "outputs": [
    {
     "name": "stdout",
     "output_type": "stream",
     "text": [
      "Processed 100 documents\n",
      "Processed 100 documents\n",
      "Processed 100 documents\n",
      "Processed 100 documents\n",
      "Processed 100 documents\n",
      "Processed 100 documents\n",
      "Processed 100 documents\n",
      "Processed 100 documents\n",
      "Processed 100 documents\n",
      "Processed 100 documents\n"
     ]
    }
   ],
   "source": [
    "get_collection(PARENT_DOC_COLLECTION).delete_many({})\n",
    "results = await process_docs(docs, parent_doc_retriever)"
   ]
  },
  {
   "cell_type": "code",
   "execution_count": 61,
   "metadata": {},
   "outputs": [
    {
     "name": "stdout",
     "output_type": "stream",
     "text": [
      "Processed 100 documents\n",
      "Processed 100 documents\n",
      "Processed 100 documents\n",
      "Processed 100 documents\n",
      "Processed 100 documents\n",
      "Processed 100 documents\n",
      "Processed 100 documents\n",
      "Processed 100 documents\n",
      "Processed 100 documents\n",
      "Processed 100 documents\n"
     ]
    }
   ],
   "source": [
    "get_collection(PARENT_CHUNK_COLLECTION).delete_many({})\n",
    "results = await process_docs(docs, parent_chunk_retriever)"
   ]
  },
  {
   "cell_type": "markdown",
   "metadata": {},
   "source": [
    "## Step 7: Create vector search indexes"
   ]
  },
  {
   "cell_type": "code",
   "execution_count": 75,
   "metadata": {},
   "outputs": [],
   "source": [
    "from pymongo.operations import SearchIndexModel\n",
    "from pymongo.errors import OperationFailure"
   ]
  },
  {
   "cell_type": "code",
   "execution_count": 73,
   "metadata": {},
   "outputs": [],
   "source": [
    "model = SearchIndexModel(\n",
    "    definition={\n",
    "        \"fields\": [\n",
    "            {\n",
    "                \"type\": \"vector\",\n",
    "                \"path\": \"embedding\",\n",
    "                \"numDimensions\": 1536,\n",
    "                \"similarity\": \"cosine\",\n",
    "            }\n",
    "        ]\n",
    "    },\n",
    "    name=\"vector_index\",\n",
    "    type=\"vectorSearch\",\n",
    ")"
   ]
  },
  {
   "cell_type": "code",
   "execution_count": 76,
   "metadata": {},
   "outputs": [],
   "source": [
    "def create_vs_index(coll_name):\n",
    "    try:\n",
    "        get_collection(coll_name).create_search_index(model=model)\n",
    "        print(f\"Successfully created index for collection {coll_name}.\")\n",
    "    except OperationFailure:\n",
    "        print(\n",
    "            f\"Duplicate index found for collection {coll_name}. Skipping index creation.\"\n",
    "        )"
   ]
  },
  {
   "cell_type": "code",
   "execution_count": 77,
   "metadata": {},
   "outputs": [
    {
     "name": "stdout",
     "output_type": "stream",
     "text": [
      "Successfully created index for collection parent_doc.\n"
     ]
    }
   ],
   "source": [
    "create_vs_index(PARENT_DOC_COLLECTION)"
   ]
  },
  {
   "cell_type": "code",
   "execution_count": 78,
   "metadata": {},
   "outputs": [
    {
     "name": "stdout",
     "output_type": "stream",
     "text": [
      "Successfully created index for collection parent_chunk.\n"
     ]
    }
   ],
   "source": [
    "create_vs_index(PARENT_CHUNK_COLLECTION)"
   ]
  },
  {
   "cell_type": "markdown",
   "metadata": {},
   "source": [
    "## Step 8: Create RAG Chain"
   ]
  },
  {
   "cell_type": "code",
   "execution_count": 139,
   "metadata": {},
   "outputs": [],
   "source": [
    "from langchain_openai import ChatOpenAI\n",
    "from langchain_core.prompts import ChatPromptTemplate\n",
    "from langchain_core.runnables import RunnablePassthrough\n",
    "from langchain_core.output_parsers import StrOutputParser"
   ]
  },
  {
   "cell_type": "code",
   "execution_count": 142,
   "metadata": {},
   "outputs": [],
   "source": [
    "def get_rag_chain(retriever):\n",
    "    retrieve = {\n",
    "        \"context\": retriever\n",
    "        | (lambda docs: \"\\n\\n\".join([d.page_content for d in docs])),\n",
    "        \"question\": RunnablePassthrough(),\n",
    "    }\n",
    "    template = \"\"\"Answer the question based only on the following context. If no context is provided, respond with I DON't KNOW: \\\n",
    "    {context}\n",
    "\n",
    "    Question: {question}\n",
    "    \"\"\"\n",
    "    # Defining the chat prompt\n",
    "    prompt = ChatPromptTemplate.from_template(template)\n",
    "    # Defining the model to be used for chat completion\n",
    "    llm = ChatOpenAI(temperature=0, model=\"gpt-4o-2024-11-20\")\n",
    "    # Parse output as a string\n",
    "    parse_output = StrOutputParser()\n",
    "\n",
    "    # Naive RAG chain\n",
    "    rag_chain = retrieve | prompt | llm | parse_output\n",
    "    return rag_chain"
   ]
  }
 ],
 "metadata": {
  "kernelspec": {
   "display_name": ".venv",
   "language": "python",
   "name": "python3"
  },
  "language_info": {
   "codemirror_mode": {
    "name": "ipython",
    "version": 3
   },
   "file_extension": ".py",
   "mimetype": "text/x-python",
   "name": "python",
   "nbconvert_exporter": "python",
   "pygments_lexer": "ipython3",
   "version": "3.12.1"
  }
 },
 "nbformat": 4,
 "nbformat_minor": 2
}
