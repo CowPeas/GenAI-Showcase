{
  "cells": [
    {
      "cell_type": "markdown",
      "metadata": {
        "id": "S8VQGkQDR1MS"
      },
      "source": [
        "# Optimizing Vector Database Performance: Reducing Retrieval Latency with Quantization\n",
        "\n",
        "[![Open In Colab](https://colab.research.google.com/assets/colab-badge.svg)](https://colab.research.google.com/github/mongodb-developer/GenAI-Showcase/blob/main/notebooks/techniques/automatic_quantization_of_nomic_emebddings_with_mongodb.ipynb)\n",
        "\n",
        "---\n",
        "\n"
      ]
    },
    {
      "cell_type": "markdown",
      "metadata": {
        "id": "xnhr8Dq9SGVI"
      },
      "source": [
        "**Summary**\n",
        "\n",
        "This notebook explores techniques for optimizing vector database performance, focusing on reducing retrieval latency through the use of quantization methods. We examine the practical application of various embedding types\n",
        "- float32_embedding\n",
        "- int8_embedding\n",
        "- binary_embedding\n",
        "\n",
        "We analyze their impact on query precision and retrieval speed.\n",
        "\n",
        "By leveraging quantization strategies like scalar and binary quantization, we highlight the trade-offs between precision and efficiency.\n",
        "\n",
        "The notebook also includes a step-by-step demonstration of executing vector searches, measuring retrieval latencies, and visualizing results in a comparative framework.\n",
        "\n",
        "\n",
        "\n",
        "\n",
        "\n"
      ]
    },
    {
      "cell_type": "markdown",
      "metadata": {
        "id": "hmsfJv-RTPvt"
      },
      "source": [
        "**Use Case:**\n",
        "\n",
        "The notebook demonstrates how to optimize vector database performance, specifically focusing on reducing retrieval latency using quantization methods.\n",
        "\n",
        "**Scenario**:\n",
        "You have a large dataset of text data (in this case, a book from Gutenberg) and you want to build a system that can efficiently find similar pieces of text based on a user's query.\n",
        "\n",
        "**Approach**:\n",
        "- Embeddings: The notebook uses SentenceTransformer to convert text into numerical vectors (embeddings) which capture the semantic meaning of the text.\n",
        "- Vector Database: MongoDB is used as a vector database to store and search these embeddings efficiently.\n",
        "- Quantization: To speed up retrieval, the notebook applies quantization techniques (scalar and binary) to the embeddings. This reduces the size of the embeddings, making searches faster but potentially impacting precision.\n",
        "Goal: By comparing the performance of different embedding types (float32, int8, binary), the notebook aims to show the trade-offs between retrieval speed and accuracy when using quantization. This helps in choosing the best approach for a given use case."
      ]
    },
    {
      "cell_type": "markdown",
      "metadata": {
        "id": "Xx7exPnsSW0R"
      },
      "source": [
        "## Step 1: Install Libaries\n",
        "\n",
        "Here's a breakdown of the libraries and their roles:\n",
        "\n",
        "- **unstructured**: This library is used to process and structure various data formats, including text, enabling efficient analysis and extraction of information.\n",
        "- **pymongo**: This library provides the tools necessary to interact with MongoDB allowing for storage and retrieval of data within the project.\n",
        "- **nomic**: This library is used for vector embedding and other functions related to Nomic AI's models, specifically for generating and working with text embeddings.\n",
        "- **pandas**: This popular library is used for data manipulation and analysis, providing data structures and functions for efficient data handling and exploration.\n",
        "- **sentence_transformers**: This library is used for generating embeddings for text data using the SentenceTransformer model.\n",
        "\n",
        "By installing these packages, the code sets up the tools necessary for data processing, embedding generation, and storage with MongoDB.\n"
      ]
    },
    {
      "cell_type": "code",
      "execution_count": null,
      "metadata": {
        "colab": {
          "base_uri": "https://localhost:8080/"
        },
        "id": "HNRuam1cOC6j",
        "outputId": "f4ff39ea-06d5-4ff9-b001-1679e2da637d"
      },
      "outputs": [],
      "source": [
        "%pip install --quiet -U unstructured pymongo nomic pandas sentence_transformers"
      ]
    },
    {
      "cell_type": "code",
      "execution_count": 2,
      "metadata": {
        "id": "cAANfn5VPFiP"
      },
      "outputs": [],
      "source": [
        "import os\n",
        "import getpass\n",
        "\n",
        "# Function to securely get and set environment variables\n",
        "def set_env_securely(var_name, prompt):\n",
        "  value = getpass.getpass(prompt)\n",
        "  os.environ[var_name] = value"
      ]
    },
    {
      "cell_type": "markdown",
      "metadata": {
        "id": "nho2rl6ESfUb"
      },
      "source": [
        "## Step 2: Data Loading and Preparation\n",
        "\n",
        "**Dataset Information**\n",
        "\n",
        "The dataset used in this example is \"Pushing to the Front,\" an ebook from Project Gutenberg. This book, focusing on self-improvement and success, is freely available for public use.\n",
        "\n",
        "The code leverages the ```unstructured``` library to process this raw text data, transforming it into a structured format suitable for semantic analysis and search. By chunking the text based on titles, the code creates meaningful units that can be embedded and stored in a vector database for efficient retrieval. This preprocessing is essential for building a robust and performant semantic search system.\n",
        "\n"
      ]
    },
    {
      "cell_type": "markdown",
      "metadata": {
        "id": "V6YCStuykG_t"
      },
      "source": [
        "The code below ```requests``` library to fetch the text content of the book \"Pushing to the Front\" from Project Gutenberg's website. The URL points to the raw text file of the book."
      ]
    },
    {
      "cell_type": "code",
      "execution_count": 37,
      "metadata": {
        "id": "XvQPTTu8PIxP"
      },
      "outputs": [],
      "source": [
        "import requests\n",
        "\n",
        "url = \"https://www.gutenberg.org/cache/epub/21291/pg21291.txt\"\n",
        "response = requests.get(url)\n",
        "response.raise_for_status()\n",
        "book_text = response.text"
      ]
    },
    {
      "cell_type": "markdown",
      "metadata": {
        "id": "xoLoA_ZnkMkv"
      },
      "source": [
        "Data Cleaning: The ```unstructured``` library is used to clean and structure the raw text. The ```group_broken_paragraphs``` function helps in combining fragmented paragraphs, ensuring better text flow.\n",
        "\n"
      ]
    },
    {
      "cell_type": "code",
      "execution_count": 38,
      "metadata": {
        "id": "_vdvk7gLPKo4"
      },
      "outputs": [],
      "source": [
        "from unstructured.partition.text import partition_text\n",
        "from unstructured.cleaners.core import group_broken_paragraphs\n",
        "\n",
        "cleaned_text = group_broken_paragraphs(book_text)\n",
        "\n",
        "parsed_sections = partition_text(text=cleaned_text)"
      ]
    },
    {
      "cell_type": "markdown",
      "metadata": {
        "id": "Pco6tIMDkZWs"
      },
      "source": [
        "The ```partition_text``` function further processes the cleaned text, dividing it into logical sections. These sections could represent chapters, sub-sections, or other meaningful units within the book."
      ]
    },
    {
      "cell_type": "code",
      "execution_count": 39,
      "metadata": {
        "colab": {
          "base_uri": "https://localhost:8080/"
        },
        "id": "JKK6DaLaPL9w",
        "outputId": "8db91645-dc85-4cb8-8190-37536cf383c4"
      },
      "outputs": [
        {
          "name": "stdout",
          "output_type": "stream",
          "text": [
            "The Project Gutenberg eBook of Pushing to the Front\n",
            "\n",
            "\n",
            "This ebook is for the use of anyone anywhere in the United States and most other parts of the world at no cost and with almost no restrictions whatsoever. You may copy it, give it away or re-use it under the terms of the Project Gutenberg License included with this ebook or online at www.gutenberg.org. If you are not located in the United States, you will have to check the laws of the country where you are located before using this eBook.\n",
            "\n",
            "\n",
            "Title: Pushing to the Front\n",
            "\n",
            "\n",
            "Author: Orison Swett Marden\n",
            "\n",
            "\n",
            "Release date: May 4, 2007 [eBook #21291]\n",
            "\n",
            "\n"
          ]
        }
      ],
      "source": [
        "# Show the first 5 sections\n",
        "for text in parsed_sections[:5]:\n",
        "  print(text)\n",
        "  print(\"\\n\")"
      ]
    },
    {
      "cell_type": "markdown",
      "metadata": {
        "id": "n6YI15B4l9pw"
      },
      "source": [
        "Chunking by Title: The ```chunk_by_title``` function identifies titles or headings within the parsed sections and uses them to create distinct chunks of text. This step is crucial for organizing the data into manageable units for subsequent embedding generation and semantic search.\n",
        "\n"
      ]
    },
    {
      "cell_type": "code",
      "execution_count": 40,
      "metadata": {
        "id": "iX6mYTOPPNsG"
      },
      "outputs": [],
      "source": [
        "from unstructured.chunking.title import chunk_by_title\n",
        "\n",
        "chunks = chunk_by_title(parsed_sections)"
      ]
    },
    {
      "cell_type": "code",
      "execution_count": 41,
      "metadata": {
        "colab": {
          "base_uri": "https://localhost:8080/"
        },
        "id": "GdglxgkFPPqf",
        "outputId": "c0d725cc-7456-4ebc-d0d6-46d45d50d0c3"
      },
      "outputs": [
        {
          "name": "stdout",
          "output_type": "stream",
          "text": [
            "The Project Gutenberg eBook of Pushing to the Front\n",
            "\n",
            "This ebook is for the use of anyone anywhere in the United States and most other parts of the world at no cost and with almost no restrictions whatsoever. You may copy it, give it away or re-use it under the terms of the Project Gutenberg License included with this ebook or online at www.gutenberg.org. If you are not located in the United States, you will have to check the laws of the country where you are located before using this eBook.\n"
          ]
        }
      ],
      "source": [
        "for chunk in chunks:\n",
        "  print(chunk)\n",
        "  break"
      ]
    },
    {
      "cell_type": "markdown",
      "metadata": {
        "id": "kf-A1blUSj5n"
      },
      "source": [
        "## Step 3: Embeddings Generation"
      ]
    },
    {
      "cell_type": "code",
      "execution_count": 42,
      "metadata": {
        "colab": {
          "base_uri": "https://localhost:8080/"
        },
        "id": "rW37dHf7PSF3",
        "outputId": "8d230f0a-9d41-4dc0-e17f-9cb20ebbdef2"
      },
      "outputs": [
        {
          "name": "stderr",
          "output_type": "stream",
          "text": [
            "WARNING:transformers_modules.nomic-ai.nomic-bert-2048.eb02ceb48c1fdcc477ff1925c9732c379f0f0d1f.modeling_hf_nomic_bert:<All keys matched successfully>\n"
          ]
        }
      ],
      "source": [
        "from sentence_transformers import SentenceTransformer\n",
        "from tqdm import tqdm\n",
        "\n",
        "embedding_model = SentenceTransformer('nomic-ai/nomic-embed-text-v1.5', trust_remote_code=True)\n",
        "\n",
        "# Determine the maximum sequence length for the model\n",
        "max_seq_length = embedding_model.max_seq_length\n",
        "\n",
        "def chunk_text(text, tokenizer, max_length=8192, overlap=50):\n",
        "    \"\"\"\n",
        "    Split the text into overlapping chunks based on token length.\n",
        "    \"\"\"\n",
        "    tokens = tokenizer.tokenize(text)\n",
        "    chunks = []\n",
        "    for i in range(0, len(tokens), max_length - overlap):\n",
        "        chunk_tokens = tokens[i:i + max_length]\n",
        "        chunk = tokenizer.convert_tokens_to_string(chunk_tokens)\n",
        "        chunks.append(chunk)\n",
        "    return chunks\n",
        "\n",
        "def get_embedding(text, task_prefix):\n",
        "    \"\"\"\n",
        "    Generate embeddings for a text string with a task-specific prefix.\n",
        "    \"\"\"\n",
        "\n",
        "    if not text.strip():\n",
        "        print(\"Attempted to get embedding for empty text.\")\n",
        "        return []\n",
        "\n",
        "    # Prepend the task instruction prefix to the text\n",
        "    prefixed_text = f\"{task_prefix}: {text}\"\n",
        "\n",
        "    # Get the tokenizer from the model\n",
        "    tokenizer = embedding_model.tokenizer\n",
        "\n",
        "    # Split text into chunks if it's too long\n",
        "    chunks = chunk_text(prefixed_text, tokenizer, max_length=max_seq_length)\n",
        "\n",
        "    # Embed each chunk\n",
        "    chunk_embeddings = embedding_model.encode(chunks)\n",
        "\n",
        "    # Return the first embedding as a list\n",
        "    return chunk_embeddings[0].tolist()\n"
      ]
    },
    {
      "cell_type": "markdown",
      "metadata": {
        "id": "lZxbaszSiX_A"
      },
      "source": [
        "The embedding generation might take a approximately 20 minutes"
      ]
    },
    {
      "cell_type": "code",
      "execution_count": 43,
      "metadata": {
        "colab": {
          "base_uri": "https://localhost:8080/"
        },
        "id": "urSyjhUmPV1k",
        "outputId": "7c62a2ca-3c67-4c36-c6ab-e681929a19e6"
      },
      "outputs": [
        {
          "name": "stderr",
          "output_type": "stream",
          "text": [
            "Generating embeddings: 100%|██████████| 4135/4135 [36:22<00:00,  1.89it/s]\n"
          ]
        }
      ],
      "source": [
        "from tqdm import tqdm\n",
        "\n",
        "# Pass chunks into embedding function with a progress bar\n",
        "embeddings = []\n",
        "# If you don't want to chunk the entire document simply slice the chunks\n",
        "# e.g for chunk in tqdm(chunks[:20], desc=\"Generating embeddings\")\n",
        "for chunk in tqdm(chunks, desc=\"Generating embeddings\"):\n",
        "    embedding = get_embedding(str(chunk), task_prefix=\"search_document\")\n",
        "    embeddings.append(embedding)\n"
      ]
    },
    {
      "cell_type": "code",
      "execution_count": 44,
      "metadata": {
        "id": "82-hqKq9PXbj"
      },
      "outputs": [],
      "source": [
        "# Store the embedding data alongside the chunk, so a datapoing is {chunk:\"text\", embedding: \"embedding\"}\n",
        "embedding_data = []\n",
        "for chunk, embedding in zip(chunks, embeddings):\n",
        "  embedding_data.append({\n",
        "      \"chunk\": chunk.text,\n",
        "      \"float32_embedding\": embedding,\n",
        "      \"int8_embedding\": embedding,\n",
        "      \"binary_embedding\": embedding\n",
        "  })"
      ]
    },
    {
      "cell_type": "code",
      "execution_count": 48,
      "metadata": {
        "id": "m4aWxhOQP5Nc"
      },
      "outputs": [],
      "source": [
        "# Convert the embedding data to a Pandas dataframe\n",
        "import pandas as pd\n",
        "\n",
        "dataset_df = pd.DataFrame(embedding_data)"
      ]
    },
    {
      "cell_type": "markdown",
      "metadata": {
        "id": "FKWhXP-anM6z"
      },
      "source": [
        "When visualizing the dataset values, you will observe that the embedding attributes: float32_embedding, int_embedding and binary_emebedding all have the same values.\n",
        "\n",
        "In downstream proceses the values of the int_embedding and binary_embedding attributes for each data point will be modified to their respective data types, as a result of MongoDB Atlas auto quantization feature."
      ]
    },
    {
      "cell_type": "code",
      "execution_count": 47,
      "metadata": {
        "colab": {
          "base_uri": "https://localhost:8080/",
          "height": 293
        },
        "id": "RrFmAOJKP7U2",
        "outputId": "2d0b41e0-f3b3-4baa-8a4a-c609360e356a"
      },
      "outputs": [
        {
          "data": {
            "application/vnd.google.colaboratory.intrinsic+json": {
              "summary": "{\n  \"name\": \"dataset_df\",\n  \"rows\": 4135,\n  \"fields\": [\n    {\n      \"column\": \"chunk\",\n      \"properties\": {\n        \"dtype\": \"string\",\n        \"num_unique_values\": 4133,\n        \"samples\": [\n          \"It is a splendid drill for children to send them out on the street, or out of doors anywhere, just for the purpose of finding out how many things they can see in a certain given time, and how closely they can observe them. Just the effort to try to see how much they can remember and bring back is a splendid drill. Children often become passionately fond of this exercise, and it becomes of inestimable value in their lives.\",\n          \"A poor curate saw a crowd of rough boys and men laughing and making fun of two aged spinsters dressed in antiquated costume. The ladies were embarrassed and did not dare enter the church. The curate pushed through the crowd, conducted them up the central aisle, and amid the titter of the congregation, gave them choice seats. These old ladies although strangers to him, at their death left the gentle curate a large fortune. Courtesy pays.\",\n          \"A glover's apprentice of Glasgow, Scotland, who was too poor to afford even a candle or a fire, and who studied by the light of the shop windows in the streets, and when the shops were closed climbed the lamp-post, holding his book in one hand, and clinging to the lamp-post with the other,--this poor boy, with less chance than almost any boy in America, became the most eminent scholar of Scotland.\"\n        ],\n        \"semantic_type\": \"\",\n        \"description\": \"\"\n      }\n    },\n    {\n      \"column\": \"float32_embedding\",\n      \"properties\": {\n        \"dtype\": \"object\",\n        \"semantic_type\": \"\",\n        \"description\": \"\"\n      }\n    },\n    {\n      \"column\": \"int8_embedding\",\n      \"properties\": {\n        \"dtype\": \"object\",\n        \"semantic_type\": \"\",\n        \"description\": \"\"\n      }\n    },\n    {\n      \"column\": \"binary_embedding\",\n      \"properties\": {\n        \"dtype\": \"object\",\n        \"semantic_type\": \"\",\n        \"description\": \"\"\n      }\n    }\n  ]\n}",
              "type": "dataframe",
              "variable_name": "dataset_df"
            },
            "text/html": [
              "\n",
              "  <div id=\"df-4270a115-6978-4502-859e-0e33745a698e\" class=\"colab-df-container\">\n",
              "    <div>\n",
              "<style scoped>\n",
              "    .dataframe tbody tr th:only-of-type {\n",
              "        vertical-align: middle;\n",
              "    }\n",
              "\n",
              "    .dataframe tbody tr th {\n",
              "        vertical-align: top;\n",
              "    }\n",
              "\n",
              "    .dataframe thead th {\n",
              "        text-align: right;\n",
              "    }\n",
              "</style>\n",
              "<table border=\"1\" class=\"dataframe\">\n",
              "  <thead>\n",
              "    <tr style=\"text-align: right;\">\n",
              "      <th></th>\n",
              "      <th>chunk</th>\n",
              "      <th>float32_embedding</th>\n",
              "      <th>int8_embedding</th>\n",
              "      <th>binary_embedding</th>\n",
              "    </tr>\n",
              "  </thead>\n",
              "  <tbody>\n",
              "    <tr>\n",
              "      <th>0</th>\n",
              "      <td>﻿The Project Gutenberg eBook of Pushing to the...</td>\n",
              "      <td>[0.6708638072013855, 1.6244568824768066, -3.93...</td>\n",
              "      <td>[0.6708638072013855, 1.6244568824768066, -3.93...</td>\n",
              "      <td>[0.6708638072013855, 1.6244568824768066, -3.93...</td>\n",
              "    </tr>\n",
              "    <tr>\n",
              "      <th>1</th>\n",
              "      <td>Title: Pushing to the Front\\n\\nAuthor: Orison ...</td>\n",
              "      <td>[0.40157243609428406, 0.9250301718711853, -3.8...</td>\n",
              "      <td>[0.40157243609428406, 0.9250301718711853, -3.8...</td>\n",
              "      <td>[0.40157243609428406, 0.9250301718711853, -3.8...</td>\n",
              "    </tr>\n",
              "    <tr>\n",
              "      <th>2</th>\n",
              "      <td>SAN JOSE\\n\\nCOPYRIGHT, 1911,\\n\\nBy ORISON SWET...</td>\n",
              "      <td>[0.8498769402503967, 1.2074620723724365, -4.07...</td>\n",
              "      <td>[0.8498769402503967, 1.2074620723724365, -4.07...</td>\n",
              "      <td>[0.8498769402503967, 1.2074620723724365, -4.07...</td>\n",
              "    </tr>\n",
              "    <tr>\n",
              "      <th>3</th>\n",
              "      <td>It has sent thousands of youths, with renewed ...</td>\n",
              "      <td>[0.21243047714233398, 0.9721435308456421, -3.2...</td>\n",
              "      <td>[0.21243047714233398, 0.9721435308456421, -3.2...</td>\n",
              "      <td>[0.21243047714233398, 0.9721435308456421, -3.2...</td>\n",
              "    </tr>\n",
              "    <tr>\n",
              "      <th>4</th>\n",
              "      <td>The author has received thousands of letters f...</td>\n",
              "      <td>[0.18898999691009521, 1.158793330192566, -3.47...</td>\n",
              "      <td>[0.18898999691009521, 1.158793330192566, -3.47...</td>\n",
              "      <td>[0.18898999691009521, 1.158793330192566, -3.47...</td>\n",
              "    </tr>\n",
              "  </tbody>\n",
              "</table>\n",
              "</div>\n",
              "    <div class=\"colab-df-buttons\">\n",
              "\n",
              "  <div class=\"colab-df-container\">\n",
              "    <button class=\"colab-df-convert\" onclick=\"convertToInteractive('df-4270a115-6978-4502-859e-0e33745a698e')\"\n",
              "            title=\"Convert this dataframe to an interactive table.\"\n",
              "            style=\"display:none;\">\n",
              "\n",
              "  <svg xmlns=\"http://www.w3.org/2000/svg\" height=\"24px\" viewBox=\"0 -960 960 960\">\n",
              "    <path d=\"M120-120v-720h720v720H120Zm60-500h600v-160H180v160Zm220 220h160v-160H400v160Zm0 220h160v-160H400v160ZM180-400h160v-160H180v160Zm440 0h160v-160H620v160ZM180-180h160v-160H180v160Zm440 0h160v-160H620v160Z\"/>\n",
              "  </svg>\n",
              "    </button>\n",
              "\n",
              "  <style>\n",
              "    .colab-df-container {\n",
              "      display:flex;\n",
              "      gap: 12px;\n",
              "    }\n",
              "\n",
              "    .colab-df-convert {\n",
              "      background-color: #E8F0FE;\n",
              "      border: none;\n",
              "      border-radius: 50%;\n",
              "      cursor: pointer;\n",
              "      display: none;\n",
              "      fill: #1967D2;\n",
              "      height: 32px;\n",
              "      padding: 0 0 0 0;\n",
              "      width: 32px;\n",
              "    }\n",
              "\n",
              "    .colab-df-convert:hover {\n",
              "      background-color: #E2EBFA;\n",
              "      box-shadow: 0px 1px 2px rgba(60, 64, 67, 0.3), 0px 1px 3px 1px rgba(60, 64, 67, 0.15);\n",
              "      fill: #174EA6;\n",
              "    }\n",
              "\n",
              "    .colab-df-buttons div {\n",
              "      margin-bottom: 4px;\n",
              "    }\n",
              "\n",
              "    [theme=dark] .colab-df-convert {\n",
              "      background-color: #3B4455;\n",
              "      fill: #D2E3FC;\n",
              "    }\n",
              "\n",
              "    [theme=dark] .colab-df-convert:hover {\n",
              "      background-color: #434B5C;\n",
              "      box-shadow: 0px 1px 3px 1px rgba(0, 0, 0, 0.15);\n",
              "      filter: drop-shadow(0px 1px 2px rgba(0, 0, 0, 0.3));\n",
              "      fill: #FFFFFF;\n",
              "    }\n",
              "  </style>\n",
              "\n",
              "    <script>\n",
              "      const buttonEl =\n",
              "        document.querySelector('#df-4270a115-6978-4502-859e-0e33745a698e button.colab-df-convert');\n",
              "      buttonEl.style.display =\n",
              "        google.colab.kernel.accessAllowed ? 'block' : 'none';\n",
              "\n",
              "      async function convertToInteractive(key) {\n",
              "        const element = document.querySelector('#df-4270a115-6978-4502-859e-0e33745a698e');\n",
              "        const dataTable =\n",
              "          await google.colab.kernel.invokeFunction('convertToInteractive',\n",
              "                                                    [key], {});\n",
              "        if (!dataTable) return;\n",
              "\n",
              "        const docLinkHtml = 'Like what you see? Visit the ' +\n",
              "          '<a target=\"_blank\" href=https://colab.research.google.com/notebooks/data_table.ipynb>data table notebook</a>'\n",
              "          + ' to learn more about interactive tables.';\n",
              "        element.innerHTML = '';\n",
              "        dataTable['output_type'] = 'display_data';\n",
              "        await google.colab.output.renderOutput(dataTable, element);\n",
              "        const docLink = document.createElement('div');\n",
              "        docLink.innerHTML = docLinkHtml;\n",
              "        element.appendChild(docLink);\n",
              "      }\n",
              "    </script>\n",
              "  </div>\n",
              "\n",
              "\n",
              "<div id=\"df-efa0c385-71f0-4be9-84e8-911d019c3c78\">\n",
              "  <button class=\"colab-df-quickchart\" onclick=\"quickchart('df-efa0c385-71f0-4be9-84e8-911d019c3c78')\"\n",
              "            title=\"Suggest charts\"\n",
              "            style=\"display:none;\">\n",
              "\n",
              "<svg xmlns=\"http://www.w3.org/2000/svg\" height=\"24px\"viewBox=\"0 0 24 24\"\n",
              "     width=\"24px\">\n",
              "    <g>\n",
              "        <path d=\"M19 3H5c-1.1 0-2 .9-2 2v14c0 1.1.9 2 2 2h14c1.1 0 2-.9 2-2V5c0-1.1-.9-2-2-2zM9 17H7v-7h2v7zm4 0h-2V7h2v10zm4 0h-2v-4h2v4z\"/>\n",
              "    </g>\n",
              "</svg>\n",
              "  </button>\n",
              "\n",
              "<style>\n",
              "  .colab-df-quickchart {\n",
              "      --bg-color: #E8F0FE;\n",
              "      --fill-color: #1967D2;\n",
              "      --hover-bg-color: #E2EBFA;\n",
              "      --hover-fill-color: #174EA6;\n",
              "      --disabled-fill-color: #AAA;\n",
              "      --disabled-bg-color: #DDD;\n",
              "  }\n",
              "\n",
              "  [theme=dark] .colab-df-quickchart {\n",
              "      --bg-color: #3B4455;\n",
              "      --fill-color: #D2E3FC;\n",
              "      --hover-bg-color: #434B5C;\n",
              "      --hover-fill-color: #FFFFFF;\n",
              "      --disabled-bg-color: #3B4455;\n",
              "      --disabled-fill-color: #666;\n",
              "  }\n",
              "\n",
              "  .colab-df-quickchart {\n",
              "    background-color: var(--bg-color);\n",
              "    border: none;\n",
              "    border-radius: 50%;\n",
              "    cursor: pointer;\n",
              "    display: none;\n",
              "    fill: var(--fill-color);\n",
              "    height: 32px;\n",
              "    padding: 0;\n",
              "    width: 32px;\n",
              "  }\n",
              "\n",
              "  .colab-df-quickchart:hover {\n",
              "    background-color: var(--hover-bg-color);\n",
              "    box-shadow: 0 1px 2px rgba(60, 64, 67, 0.3), 0 1px 3px 1px rgba(60, 64, 67, 0.15);\n",
              "    fill: var(--button-hover-fill-color);\n",
              "  }\n",
              "\n",
              "  .colab-df-quickchart-complete:disabled,\n",
              "  .colab-df-quickchart-complete:disabled:hover {\n",
              "    background-color: var(--disabled-bg-color);\n",
              "    fill: var(--disabled-fill-color);\n",
              "    box-shadow: none;\n",
              "  }\n",
              "\n",
              "  .colab-df-spinner {\n",
              "    border: 2px solid var(--fill-color);\n",
              "    border-color: transparent;\n",
              "    border-bottom-color: var(--fill-color);\n",
              "    animation:\n",
              "      spin 1s steps(1) infinite;\n",
              "  }\n",
              "\n",
              "  @keyframes spin {\n",
              "    0% {\n",
              "      border-color: transparent;\n",
              "      border-bottom-color: var(--fill-color);\n",
              "      border-left-color: var(--fill-color);\n",
              "    }\n",
              "    20% {\n",
              "      border-color: transparent;\n",
              "      border-left-color: var(--fill-color);\n",
              "      border-top-color: var(--fill-color);\n",
              "    }\n",
              "    30% {\n",
              "      border-color: transparent;\n",
              "      border-left-color: var(--fill-color);\n",
              "      border-top-color: var(--fill-color);\n",
              "      border-right-color: var(--fill-color);\n",
              "    }\n",
              "    40% {\n",
              "      border-color: transparent;\n",
              "      border-right-color: var(--fill-color);\n",
              "      border-top-color: var(--fill-color);\n",
              "    }\n",
              "    60% {\n",
              "      border-color: transparent;\n",
              "      border-right-color: var(--fill-color);\n",
              "    }\n",
              "    80% {\n",
              "      border-color: transparent;\n",
              "      border-right-color: var(--fill-color);\n",
              "      border-bottom-color: var(--fill-color);\n",
              "    }\n",
              "    90% {\n",
              "      border-color: transparent;\n",
              "      border-bottom-color: var(--fill-color);\n",
              "    }\n",
              "  }\n",
              "</style>\n",
              "\n",
              "  <script>\n",
              "    async function quickchart(key) {\n",
              "      const quickchartButtonEl =\n",
              "        document.querySelector('#' + key + ' button');\n",
              "      quickchartButtonEl.disabled = true;  // To prevent multiple clicks.\n",
              "      quickchartButtonEl.classList.add('colab-df-spinner');\n",
              "      try {\n",
              "        const charts = await google.colab.kernel.invokeFunction(\n",
              "            'suggestCharts', [key], {});\n",
              "      } catch (error) {\n",
              "        console.error('Error during call to suggestCharts:', error);\n",
              "      }\n",
              "      quickchartButtonEl.classList.remove('colab-df-spinner');\n",
              "      quickchartButtonEl.classList.add('colab-df-quickchart-complete');\n",
              "    }\n",
              "    (() => {\n",
              "      let quickchartButtonEl =\n",
              "        document.querySelector('#df-efa0c385-71f0-4be9-84e8-911d019c3c78 button');\n",
              "      quickchartButtonEl.style.display =\n",
              "        google.colab.kernel.accessAllowed ? 'block' : 'none';\n",
              "    })();\n",
              "  </script>\n",
              "</div>\n",
              "\n",
              "    </div>\n",
              "  </div>\n"
            ],
            "text/plain": [
              "                                               chunk  \\\n",
              "0  ﻿The Project Gutenberg eBook of Pushing to the...   \n",
              "1  Title: Pushing to the Front\\n\\nAuthor: Orison ...   \n",
              "2  SAN JOSE\\n\\nCOPYRIGHT, 1911,\\n\\nBy ORISON SWET...   \n",
              "3  It has sent thousands of youths, with renewed ...   \n",
              "4  The author has received thousands of letters f...   \n",
              "\n",
              "                                   float32_embedding  \\\n",
              "0  [0.6708638072013855, 1.6244568824768066, -3.93...   \n",
              "1  [0.40157243609428406, 0.9250301718711853, -3.8...   \n",
              "2  [0.8498769402503967, 1.2074620723724365, -4.07...   \n",
              "3  [0.21243047714233398, 0.9721435308456421, -3.2...   \n",
              "4  [0.18898999691009521, 1.158793330192566, -3.47...   \n",
              "\n",
              "                                      int8_embedding  \\\n",
              "0  [0.6708638072013855, 1.6244568824768066, -3.93...   \n",
              "1  [0.40157243609428406, 0.9250301718711853, -3.8...   \n",
              "2  [0.8498769402503967, 1.2074620723724365, -4.07...   \n",
              "3  [0.21243047714233398, 0.9721435308456421, -3.2...   \n",
              "4  [0.18898999691009521, 1.158793330192566, -3.47...   \n",
              "\n",
              "                                    binary_embedding  \n",
              "0  [0.6708638072013855, 1.6244568824768066, -3.93...  \n",
              "1  [0.40157243609428406, 0.9250301718711853, -3.8...  \n",
              "2  [0.8498769402503967, 1.2074620723724365, -4.07...  \n",
              "3  [0.21243047714233398, 0.9721435308456421, -3.2...  \n",
              "4  [0.18898999691009521, 1.158793330192566, -3.47...  "
            ]
          },
          "execution_count": 47,
          "metadata": {},
          "output_type": "execute_result"
        }
      ],
      "source": [
        "dataset_df.head()"
      ]
    },
    {
      "cell_type": "markdown",
      "metadata": {
        "id": "MxD-hkXiqPqL"
      },
      "source": [
        "## Step 4: MongoDB (Operational and Vector Database)\n",
        "\n",
        "MongoDB acts as both an operational and vector database for the RAG system.\n",
        "MongoDB Atlas specifically provides a database solution that efficiently stores, queries and retrieves vector embeddings.\n",
        "\n",
        "Creating a database and collection within MongoDB is made simple with MongoDB Atlas.\n",
        "\n",
        "1. First, register for a [MongoDB Atlas account](https://www.mongodb.com/cloud/atlas/register). For existing users, sign into MongoDB Atlas.\n",
        "2. [Follow the instructions](https://www.mongodb.com/docs/atlas/tutorial/deploy-free-tier-cluster/). Select Atlas UI as the procedure to deploy your first cluster.\n",
        "\n",
        "Follow MongoDB’s [steps to get the connection](https://www.mongodb.com/docs/manual/reference/connection-string/) string from the Atlas UI. After setting up the database and obtaining the Atlas cluster connection URI, securely store the URI within your development environment.\n"
      ]
    },
    {
      "cell_type": "code",
      "execution_count": 14,
      "metadata": {
        "colab": {
          "base_uri": "https://localhost:8080/"
        },
        "id": "32dtWQ4gqQNe",
        "outputId": "bd8b6c51-ee35-4761-c813-370bfabc098d"
      },
      "outputs": [
        {
          "name": "stdout",
          "output_type": "stream",
          "text": [
            "Enter your MONGO URI: ··········\n"
          ]
        }
      ],
      "source": [
        "# Set MongoDB URI\n",
        "set_env_securely(\"MONGO_URI\", \"Enter your MONGO URI: \")"
      ]
    },
    {
      "cell_type": "code",
      "execution_count": 82,
      "metadata": {
        "id": "VvTIs5fqqTto"
      },
      "outputs": [],
      "source": [
        "import pymongo\n",
        "\n",
        "def get_mongo_client(mongo_uri):\n",
        "  \"\"\"Establish and validate connection to the MongoDB.\"\"\"\n",
        "\n",
        "  client = pymongo.MongoClient(mongo_uri, appname=\"devrel.showcase.quantized_embeddings_nomic.python\")\n",
        "\n",
        "  # Validate the connection\n",
        "  ping_result = client.admin.command('ping')\n",
        "  if ping_result.get('ok') == 1.0:\n",
        "    # Connection successful\n",
        "    print(\"Connection to MongoDB successful\")\n",
        "    return client\n",
        "  else:\n",
        "    print(\"Connection to MongoDB failed\")\n",
        "  return None\n",
        "\n",
        "MONGO_URI = os.environ['MONGO_URI']\n",
        "if not MONGO_URI:\n",
        "  print(\"MONGO_URI not set in environment variables\")"
      ]
    },
    {
      "cell_type": "code",
      "execution_count": 83,
      "metadata": {
        "colab": {
          "base_uri": "https://localhost:8080/"
        },
        "id": "SCw0DOdpqVDP",
        "outputId": "b992c23b-4b25-405c-cbf3-5a125a4e0d2c"
      },
      "outputs": [
        {
          "name": "stdout",
          "output_type": "stream",
          "text": [
            "Connection to MongoDB successful\n",
            "Collection 'pushing_to_the_front_orison_quantized' created successfully.\n"
          ]
        }
      ],
      "source": [
        "from pymongo.errors import CollectionInvalid\n",
        "\n",
        "mongo_client = get_mongo_client(MONGO_URI)\n",
        "\n",
        "DB_NAME = \"career_coach\"\n",
        "COLLECTION_NAME = \"pushing_to_the_front_orison_quantized\"\n",
        "\n",
        "# Create or get the database\n",
        "db = mongo_client[DB_NAME]\n",
        "\n",
        "# Check if the collection exists\n",
        "if COLLECTION_NAME not in db.list_collection_names():\n",
        "    try:\n",
        "        # Create the collection\n",
        "        db.create_collection(COLLECTION_NAME)\n",
        "        print(f\"Collection '{COLLECTION_NAME}' created successfully.\")\n",
        "    except CollectionInvalid as e:\n",
        "        print(f\"Error creating collection: {e}\")\n",
        "else:\n",
        "    print(f\"Collection '{COLLECTION_NAME}' already exists.\")\n",
        "\n",
        "# Assign the collection\n",
        "collection = db[COLLECTION_NAME]\n"
      ]
    },
    {
      "cell_type": "markdown",
      "metadata": {
        "id": "mJfggsulS0Lj"
      },
      "source": [
        "## Step 5: Data Ingestion"
      ]
    },
    {
      "cell_type": "code",
      "execution_count": 84,
      "metadata": {
        "colab": {
          "base_uri": "https://localhost:8080/"
        },
        "id": "pXKUZL8NRJvn",
        "outputId": "455fffb6-e480-4f75-db53-ea2bdb5e8f95"
      },
      "outputs": [
        {
          "data": {
            "text/plain": [
              "DeleteResult({'n': 0, 'electionId': ObjectId('7fffffff0000000000000039'), 'opTime': {'ts': Timestamp(1734322581, 1), 't': 57}, 'ok': 1.0, '$clusterTime': {'clusterTime': Timestamp(1734322581, 1), 'signature': {'hash': b'\\xd3\\xaeF\\x07\\xd0\\xf6\\xd7\\xe9C;\\xfe\\x88\\xed\\x13\\\\\\xd1\\x17\\x05\\x96\\xcc', 'keyId': 7390008424139849730}}, 'operationTime': Timestamp(1734322581, 1)}, acknowledged=True)"
            ]
          },
          "execution_count": 84,
          "metadata": {},
          "output_type": "execute_result"
        }
      ],
      "source": [
        "collection.delete_many({})"
      ]
    },
    {
      "cell_type": "code",
      "execution_count": 85,
      "metadata": {
        "colab": {
          "base_uri": "https://localhost:8080/"
        },
        "id": "qeRnaMjyqngL",
        "outputId": "f5e0cfb5-f9b2-48ca-e37c-2249d2ec2d12"
      },
      "outputs": [
        {
          "name": "stdout",
          "output_type": "stream",
          "text": [
            "Data ingestion into MongoDB completed\n"
          ]
        }
      ],
      "source": [
        "documents = dataset_df.to_dict('records')\n",
        "collection.insert_many(documents)\n",
        "\n",
        "print(\"Data ingestion into MongoDB completed\")"
      ]
    },
    {
      "cell_type": "markdown",
      "metadata": {
        "id": "nngpeSw2StLP"
      },
      "source": [
        "## Step 6: Vector Search Index Creation"
      ]
    },
    {
      "cell_type": "code",
      "execution_count": 86,
      "metadata": {
        "id": "iigtZEtKqo9F"
      },
      "outputs": [],
      "source": [
        "import time\n",
        "from pymongo.operations import SearchIndexModel\n",
        "\n",
        "def setup_vector_search_index(collection, index_definition, index_name=\"vector_index\"):\n",
        "  \"\"\"\n",
        "  Setup a vector search index for a MongoDB collection and wait for 30 seconds.\n",
        "\n",
        "  Args:\n",
        "  collection: MongoDB collection object\n",
        "  index_definition: Dictionary containing the index definition\n",
        "  index_name: Name of the index (default: \"vector_index\")\n",
        "  \"\"\"\n",
        "  new_vector_search_index_model = SearchIndexModel(\n",
        "      definition=index_definition,\n",
        "      name=index_name,\n",
        "      type=\"vectorSearch\"\n",
        "  )\n",
        "\n",
        "  # Create the new index\n",
        "  try:\n",
        "    result = collection.create_search_index(model=new_vector_search_index_model)\n",
        "    print(f\"Creating index '{index_name}'...\")\n",
        "\n",
        "    # Sleep for 60 seconds\n",
        "    print(f\"Waiting for 60 seconds to allow index '{index_name}' to be created...\")\n",
        "    time.sleep(60)\n",
        "\n",
        "    print(f\"60-second wait completed for index '{index_name}'.\")\n",
        "    return result\n",
        "\n",
        "  except Exception as e:\n",
        "    print(f\"Error creating new vector search index '{index_name}': {str(e)}\")\n",
        "    return None"
      ]
    },
    {
      "cell_type": "code",
      "execution_count": 98,
      "metadata": {
        "id": "MfciGsoKqz1H"
      },
      "outputs": [],
      "source": [
        "def create_vector_index_definition():\n",
        "    \"\"\"\n",
        "    Create a vector index definition with predefined quantization methods.\n",
        "\n",
        "    This function defines vector index fields with specific paths, dimensionalities,\n",
        "    and similarity metrics. It includes support for quantization methods:\n",
        "    - \"scalar\" quantization is applied to the \"int8_embedding\" field.\n",
        "    - \"binary\" quantization is applied to the \"binary_embedding\" field.\n",
        "    - No quantization is applied to the \"float32_embedding\" field.\n",
        "\n",
        "    Returns:\n",
        "      dict: A dictionary containing the vector index definition, including\n",
        "      fields with their respective paths, quantization methods, dimensions,\n",
        "      and similarity measures.\n",
        "    \"\"\"\n",
        "\n",
        "    # Define the field types\n",
        "    base_fields = [\n",
        "        {\n",
        "            \"type\": \"vector\",\n",
        "            \"path\": \"float32_embedding\",\n",
        "            \"numDimensions\": 768,\n",
        "            \"similarity\": \"cosine\"\n",
        "        },\n",
        "        {\n",
        "            \"type\": \"vector\",\n",
        "            \"path\": \"int8_embedding\",\n",
        "            \"quantization\": \"scalar\",\n",
        "            \"numDimensions\": 768,\n",
        "            \"similarity\": \"cosine\"\n",
        "        },\n",
        "        {\n",
        "            \"type\": \"vector\",\n",
        "            \"path\": \"binary_embedding\",\n",
        "            \"quantization\": \"binary\",\n",
        "            \"numDimensions\": 768,\n",
        "            \"similarity\": \"euclidean\"\n",
        "        }\n",
        "    ]\n",
        "\n",
        "    return {\n",
        "        \"fields\": base_fields\n",
        "    }"
      ]
    },
    {
      "cell_type": "code",
      "execution_count": 88,
      "metadata": {
        "id": "1lnvm7jzq3QN"
      },
      "outputs": [],
      "source": [
        "vector_index_definition = create_vector_index_definition()"
      ]
    },
    {
      "cell_type": "code",
      "execution_count": 89,
      "metadata": {
        "colab": {
          "base_uri": "https://localhost:8080/"
        },
        "id": "POSDFMQrPfzD",
        "outputId": "6426c270-f928-4693-cd79-4203595cc4be"
      },
      "outputs": [
        {
          "name": "stdout",
          "output_type": "stream",
          "text": [
            "{'fields': [{'type': 'vector', 'path': 'float32_embedding', 'numDimensions': 768, 'similarity': 'cosine'}, {'type': 'vector', 'path': 'int8_embedding', 'quantization': 'scalar', 'numDimensions': 768, 'similarity': 'cosine'}, {'type': 'vector', 'path': 'binary_embedding', 'quantization': 'binary', 'numDimensions': 768, 'similarity': 'cosine'}]}\n"
          ]
        }
      ],
      "source": [
        "print(vector_index_definition)"
      ]
    },
    {
      "cell_type": "code",
      "execution_count": 90,
      "metadata": {
        "colab": {
          "base_uri": "https://localhost:8080/",
          "height": 87
        },
        "id": "_HCZvktJq8HN",
        "outputId": "a9aec482-8384-434b-b5b9-e8f1244dfd5b"
      },
      "outputs": [
        {
          "name": "stdout",
          "output_type": "stream",
          "text": [
            "Creating index 'vector_index'...\n",
            "Waiting for 60 seconds to allow index 'vector_index' to be created...\n",
            "60-second wait completed for index 'vector_index'.\n"
          ]
        },
        {
          "data": {
            "application/vnd.google.colaboratory.intrinsic+json": {
              "type": "string"
            },
            "text/plain": [
              "'vector_index'"
            ]
          },
          "execution_count": 90,
          "metadata": {},
          "output_type": "execute_result"
        }
      ],
      "source": [
        "setup_vector_search_index(collection, vector_index_definition, \"vector_index\")"
      ]
    },
    {
      "cell_type": "markdown",
      "metadata": {
        "id": "kIz7BRFIS5LF"
      },
      "source": [
        "## Step 7: Vector Search Operation"
      ]
    },
    {
      "cell_type": "code",
      "execution_count": 99,
      "metadata": {
        "id": "vJj41wyfOegY"
      },
      "outputs": [],
      "source": [
        "def custom_vector_search(user_query, collection, embedding_path, vector_search_index_name=\"vector_index\"):\n",
        "    \"\"\"\n",
        "    Perform a vector search in the MongoDB collection based on the user query.\n",
        "\n",
        "    Args:\n",
        "        user_query (str): The user's query string.\n",
        "        collection (MongoCollection): The MongoDB collection to search.\n",
        "        embedding_path (str): The path of the embedding field in the documents.\n",
        "        vector_search_index_name (str): The name of the vector search index.\n",
        "\n",
        "    Returns:\n",
        "        list: A list of matching documents.\n",
        "    \"\"\"\n",
        "\n",
        "    # Generate embedding for the user query\n",
        "    query_embedding = get_embedding(user_query, task_prefix=\"search_query\")\n",
        "\n",
        "    if query_embedding is None:\n",
        "      return \"Invalid query or embedding generation failed.\"\n",
        "\n",
        "    # Define the vector search stage\n",
        "    vector_search_stage = {\n",
        "        \"$vectorSearch\": {\n",
        "            \"index\": vector_search_index_name,  # Specifies the index to use for the search\n",
        "            \"queryVector\": query_embedding,  # The vector representing the query\n",
        "            \"path\": embedding_path,  # Field in the documents containing the vectors to search against\n",
        "            \"numCandidates\": 6,  # Number of candidate matches to consider\n",
        "            \"limit\": 5  # Return top 5 matches\n",
        "        }\n",
        "    }\n",
        "\n",
        "    project_stage = {\n",
        "        \"$project\": {\n",
        "            \"_id\": 0,  # Exclude the _id field\n",
        "            \"chunk\": 1,\n",
        "            \"score\": {\n",
        "                \"$meta\": \"vectorSearchScore\"  # Include the search score\n",
        "            }\n",
        "        }\n",
        "    }\n",
        "\n",
        "    # Define the aggregate pipeline with the vector search stage and additional stages\n",
        "    pipeline = [vector_search_stage, project_stage]\n",
        "\n",
        "    # Execute the explain command\n",
        "    explain_result = collection.database.command(\n",
        "      'explain',\n",
        "      {\n",
        "        'aggregate': collection.name,\n",
        "        'pipeline': pipeline,\n",
        "        'cursor': {}\n",
        "      },\n",
        "      verbosity='executionStats'\n",
        "    )\n",
        "\n",
        "    # Extract the execution time\n",
        "    vector_search_explain = explain_result['stages'][0]['$vectorSearch']\n",
        "    execution_time_ms = vector_search_explain['explain']['query']['stats']['context']['millisElapsed']\n",
        "\n",
        "\n",
        "     # Execute the actual query\n",
        "    results = list(collection.aggregate(pipeline))\n",
        "\n",
        "    return results, execution_time_ms\n"
      ]
    },
    {
      "cell_type": "code",
      "execution_count": 100,
      "metadata": {
        "id": "ZdPmgxjKP6E3"
      },
      "outputs": [],
      "source": [
        "def run_vector_search_operations(user_query, collection, vector_search_index_name=\"vector_index\"):\n",
        "    \"\"\"\n",
        "    Run vector search operations for different embedding paths and store results in a DataFrame.\n",
        "\n",
        "    Args:\n",
        "        user_query (str): The user's query string.\n",
        "        collection (MongoCollection): The MongoDB collection to search.\n",
        "        vector_search_index_name (str): The name of the vector search index.\n",
        "\n",
        "    Returns:\n",
        "        pd.DataFrame: A DataFrame containing precision, retrieval latency, and query results.\n",
        "    \"\"\"\n",
        "    embedding_paths = [\"float32_embedding\", \"int8_embedding\", \"binary_embedding\"]\n",
        "    results_data = []\n",
        "\n",
        "    for path in embedding_paths:\n",
        "        # Perform vector search\n",
        "        try:\n",
        "            results, execution_time_ms = custom_vector_search(\n",
        "                user_query=user_query,\n",
        "                collection=collection,\n",
        "                embedding_path=path,\n",
        "                vector_search_index_name=vector_search_index_name\n",
        "            )\n",
        "\n",
        "            # Store the results in the data structure\n",
        "            results_data.append({\n",
        "                \"Precision (Data Type)\": path.split(\"_\")[0],\n",
        "                \"Retrieval Latency (ms)\": execution_time_ms,\n",
        "                \"Results\": results\n",
        "            })\n",
        "        except Exception as e:\n",
        "            # Handle errors\n",
        "            results_data.append({\n",
        "                \"Precision (Data Type)\": path.split(\"_\")[0],\n",
        "                \"Retrieval Latency (ms)\": \"Error\",\n",
        "                \"Results\": str(e)\n",
        "            })\n",
        "\n",
        "    results_df = pd.DataFrame(results_data)\n",
        "\n",
        "    return results_df"
      ]
    },
    {
      "cell_type": "markdown",
      "metadata": {
        "id": "k7PPDt-iTBIO"
      },
      "source": [
        "## Step 8: Retrieving Documents and Analysing Results"
      ]
    },
    {
      "cell_type": "code",
      "execution_count": 101,
      "metadata": {
        "id": "q-LnwhRyQkKH"
      },
      "outputs": [],
      "source": [
        "# Perform the vector search and visualize the results\n",
        "user_query = \"How do I increase my productivity for maximum output\"\n",
        "results_df = run_vector_search_operations(user_query, collection)"
      ]
    },
    {
      "cell_type": "code",
      "execution_count": 102,
      "metadata": {
        "colab": {
          "base_uri": "https://localhost:8080/",
          "height": 143
        },
        "id": "K6MiUemIQppq",
        "outputId": "02f0a2e3-7146-4380-ebd5-062899759719"
      },
      "outputs": [
        {
          "data": {
            "application/vnd.google.colaboratory.intrinsic+json": {
              "summary": "{\n  \"name\": \"results_df\",\n  \"rows\": 3,\n  \"fields\": [\n    {\n      \"column\": \"Precision (Data Type)\",\n      \"properties\": {\n        \"dtype\": \"string\",\n        \"num_unique_values\": 3,\n        \"samples\": [\n          \"float32\",\n          \"int8\",\n          \"binary\"\n        ],\n        \"semantic_type\": \"\",\n        \"description\": \"\"\n      }\n    },\n    {\n      \"column\": \"Retrieval Latency (ms)\",\n      \"properties\": {\n        \"dtype\": \"number\",\n        \"std\": 0.11404504230493027,\n        \"min\": 0.675838,\n        \"max\": 0.894696,\n        \"num_unique_values\": 3,\n        \"samples\": [\n          0.894696,\n          0.729637,\n          0.675838\n        ],\n        \"semantic_type\": \"\",\n        \"description\": \"\"\n      }\n    },\n    {\n      \"column\": \"Results\",\n      \"properties\": {\n        \"dtype\": \"object\",\n        \"semantic_type\": \"\",\n        \"description\": \"\"\n      }\n    }\n  ]\n}",
              "type": "dataframe",
              "variable_name": "results_df"
            },
            "text/html": [
              "\n",
              "  <div id=\"df-8cab56eb-36ac-4de6-8c5f-2d9ba96b25a2\" class=\"colab-df-container\">\n",
              "    <div>\n",
              "<style scoped>\n",
              "    .dataframe tbody tr th:only-of-type {\n",
              "        vertical-align: middle;\n",
              "    }\n",
              "\n",
              "    .dataframe tbody tr th {\n",
              "        vertical-align: top;\n",
              "    }\n",
              "\n",
              "    .dataframe thead th {\n",
              "        text-align: right;\n",
              "    }\n",
              "</style>\n",
              "<table border=\"1\" class=\"dataframe\">\n",
              "  <thead>\n",
              "    <tr style=\"text-align: right;\">\n",
              "      <th></th>\n",
              "      <th>Precision (Data Type)</th>\n",
              "      <th>Retrieval Latency (ms)</th>\n",
              "      <th>Results</th>\n",
              "    </tr>\n",
              "  </thead>\n",
              "  <tbody>\n",
              "    <tr>\n",
              "      <th>0</th>\n",
              "      <td>float32</td>\n",
              "      <td>0.894696</td>\n",
              "      <td>[{'chunk': 'With penetrating, almost clairvoya...</td>\n",
              "    </tr>\n",
              "    <tr>\n",
              "      <th>1</th>\n",
              "      <td>int8</td>\n",
              "      <td>0.729637</td>\n",
              "      <td>[{'chunk': 'With penetrating, almost clairvoya...</td>\n",
              "    </tr>\n",
              "    <tr>\n",
              "      <th>2</th>\n",
              "      <td>binary</td>\n",
              "      <td>0.675838</td>\n",
              "      <td>[{'chunk': '\"Success grows out of struggles to...</td>\n",
              "    </tr>\n",
              "  </tbody>\n",
              "</table>\n",
              "</div>\n",
              "    <div class=\"colab-df-buttons\">\n",
              "\n",
              "  <div class=\"colab-df-container\">\n",
              "    <button class=\"colab-df-convert\" onclick=\"convertToInteractive('df-8cab56eb-36ac-4de6-8c5f-2d9ba96b25a2')\"\n",
              "            title=\"Convert this dataframe to an interactive table.\"\n",
              "            style=\"display:none;\">\n",
              "\n",
              "  <svg xmlns=\"http://www.w3.org/2000/svg\" height=\"24px\" viewBox=\"0 -960 960 960\">\n",
              "    <path d=\"M120-120v-720h720v720H120Zm60-500h600v-160H180v160Zm220 220h160v-160H400v160Zm0 220h160v-160H400v160ZM180-400h160v-160H180v160Zm440 0h160v-160H620v160ZM180-180h160v-160H180v160Zm440 0h160v-160H620v160Z\"/>\n",
              "  </svg>\n",
              "    </button>\n",
              "\n",
              "  <style>\n",
              "    .colab-df-container {\n",
              "      display:flex;\n",
              "      gap: 12px;\n",
              "    }\n",
              "\n",
              "    .colab-df-convert {\n",
              "      background-color: #E8F0FE;\n",
              "      border: none;\n",
              "      border-radius: 50%;\n",
              "      cursor: pointer;\n",
              "      display: none;\n",
              "      fill: #1967D2;\n",
              "      height: 32px;\n",
              "      padding: 0 0 0 0;\n",
              "      width: 32px;\n",
              "    }\n",
              "\n",
              "    .colab-df-convert:hover {\n",
              "      background-color: #E2EBFA;\n",
              "      box-shadow: 0px 1px 2px rgba(60, 64, 67, 0.3), 0px 1px 3px 1px rgba(60, 64, 67, 0.15);\n",
              "      fill: #174EA6;\n",
              "    }\n",
              "\n",
              "    .colab-df-buttons div {\n",
              "      margin-bottom: 4px;\n",
              "    }\n",
              "\n",
              "    [theme=dark] .colab-df-convert {\n",
              "      background-color: #3B4455;\n",
              "      fill: #D2E3FC;\n",
              "    }\n",
              "\n",
              "    [theme=dark] .colab-df-convert:hover {\n",
              "      background-color: #434B5C;\n",
              "      box-shadow: 0px 1px 3px 1px rgba(0, 0, 0, 0.15);\n",
              "      filter: drop-shadow(0px 1px 2px rgba(0, 0, 0, 0.3));\n",
              "      fill: #FFFFFF;\n",
              "    }\n",
              "  </style>\n",
              "\n",
              "    <script>\n",
              "      const buttonEl =\n",
              "        document.querySelector('#df-8cab56eb-36ac-4de6-8c5f-2d9ba96b25a2 button.colab-df-convert');\n",
              "      buttonEl.style.display =\n",
              "        google.colab.kernel.accessAllowed ? 'block' : 'none';\n",
              "\n",
              "      async function convertToInteractive(key) {\n",
              "        const element = document.querySelector('#df-8cab56eb-36ac-4de6-8c5f-2d9ba96b25a2');\n",
              "        const dataTable =\n",
              "          await google.colab.kernel.invokeFunction('convertToInteractive',\n",
              "                                                    [key], {});\n",
              "        if (!dataTable) return;\n",
              "\n",
              "        const docLinkHtml = 'Like what you see? Visit the ' +\n",
              "          '<a target=\"_blank\" href=https://colab.research.google.com/notebooks/data_table.ipynb>data table notebook</a>'\n",
              "          + ' to learn more about interactive tables.';\n",
              "        element.innerHTML = '';\n",
              "        dataTable['output_type'] = 'display_data';\n",
              "        await google.colab.output.renderOutput(dataTable, element);\n",
              "        const docLink = document.createElement('div');\n",
              "        docLink.innerHTML = docLinkHtml;\n",
              "        element.appendChild(docLink);\n",
              "      }\n",
              "    </script>\n",
              "  </div>\n",
              "\n",
              "\n",
              "<div id=\"df-d5821320-3529-4fe8-8577-14efc1a5111f\">\n",
              "  <button class=\"colab-df-quickchart\" onclick=\"quickchart('df-d5821320-3529-4fe8-8577-14efc1a5111f')\"\n",
              "            title=\"Suggest charts\"\n",
              "            style=\"display:none;\">\n",
              "\n",
              "<svg xmlns=\"http://www.w3.org/2000/svg\" height=\"24px\"viewBox=\"0 0 24 24\"\n",
              "     width=\"24px\">\n",
              "    <g>\n",
              "        <path d=\"M19 3H5c-1.1 0-2 .9-2 2v14c0 1.1.9 2 2 2h14c1.1 0 2-.9 2-2V5c0-1.1-.9-2-2-2zM9 17H7v-7h2v7zm4 0h-2V7h2v10zm4 0h-2v-4h2v4z\"/>\n",
              "    </g>\n",
              "</svg>\n",
              "  </button>\n",
              "\n",
              "<style>\n",
              "  .colab-df-quickchart {\n",
              "      --bg-color: #E8F0FE;\n",
              "      --fill-color: #1967D2;\n",
              "      --hover-bg-color: #E2EBFA;\n",
              "      --hover-fill-color: #174EA6;\n",
              "      --disabled-fill-color: #AAA;\n",
              "      --disabled-bg-color: #DDD;\n",
              "  }\n",
              "\n",
              "  [theme=dark] .colab-df-quickchart {\n",
              "      --bg-color: #3B4455;\n",
              "      --fill-color: #D2E3FC;\n",
              "      --hover-bg-color: #434B5C;\n",
              "      --hover-fill-color: #FFFFFF;\n",
              "      --disabled-bg-color: #3B4455;\n",
              "      --disabled-fill-color: #666;\n",
              "  }\n",
              "\n",
              "  .colab-df-quickchart {\n",
              "    background-color: var(--bg-color);\n",
              "    border: none;\n",
              "    border-radius: 50%;\n",
              "    cursor: pointer;\n",
              "    display: none;\n",
              "    fill: var(--fill-color);\n",
              "    height: 32px;\n",
              "    padding: 0;\n",
              "    width: 32px;\n",
              "  }\n",
              "\n",
              "  .colab-df-quickchart:hover {\n",
              "    background-color: var(--hover-bg-color);\n",
              "    box-shadow: 0 1px 2px rgba(60, 64, 67, 0.3), 0 1px 3px 1px rgba(60, 64, 67, 0.15);\n",
              "    fill: var(--button-hover-fill-color);\n",
              "  }\n",
              "\n",
              "  .colab-df-quickchart-complete:disabled,\n",
              "  .colab-df-quickchart-complete:disabled:hover {\n",
              "    background-color: var(--disabled-bg-color);\n",
              "    fill: var(--disabled-fill-color);\n",
              "    box-shadow: none;\n",
              "  }\n",
              "\n",
              "  .colab-df-spinner {\n",
              "    border: 2px solid var(--fill-color);\n",
              "    border-color: transparent;\n",
              "    border-bottom-color: var(--fill-color);\n",
              "    animation:\n",
              "      spin 1s steps(1) infinite;\n",
              "  }\n",
              "\n",
              "  @keyframes spin {\n",
              "    0% {\n",
              "      border-color: transparent;\n",
              "      border-bottom-color: var(--fill-color);\n",
              "      border-left-color: var(--fill-color);\n",
              "    }\n",
              "    20% {\n",
              "      border-color: transparent;\n",
              "      border-left-color: var(--fill-color);\n",
              "      border-top-color: var(--fill-color);\n",
              "    }\n",
              "    30% {\n",
              "      border-color: transparent;\n",
              "      border-left-color: var(--fill-color);\n",
              "      border-top-color: var(--fill-color);\n",
              "      border-right-color: var(--fill-color);\n",
              "    }\n",
              "    40% {\n",
              "      border-color: transparent;\n",
              "      border-right-color: var(--fill-color);\n",
              "      border-top-color: var(--fill-color);\n",
              "    }\n",
              "    60% {\n",
              "      border-color: transparent;\n",
              "      border-right-color: var(--fill-color);\n",
              "    }\n",
              "    80% {\n",
              "      border-color: transparent;\n",
              "      border-right-color: var(--fill-color);\n",
              "      border-bottom-color: var(--fill-color);\n",
              "    }\n",
              "    90% {\n",
              "      border-color: transparent;\n",
              "      border-bottom-color: var(--fill-color);\n",
              "    }\n",
              "  }\n",
              "</style>\n",
              "\n",
              "  <script>\n",
              "    async function quickchart(key) {\n",
              "      const quickchartButtonEl =\n",
              "        document.querySelector('#' + key + ' button');\n",
              "      quickchartButtonEl.disabled = true;  // To prevent multiple clicks.\n",
              "      quickchartButtonEl.classList.add('colab-df-spinner');\n",
              "      try {\n",
              "        const charts = await google.colab.kernel.invokeFunction(\n",
              "            'suggestCharts', [key], {});\n",
              "      } catch (error) {\n",
              "        console.error('Error during call to suggestCharts:', error);\n",
              "      }\n",
              "      quickchartButtonEl.classList.remove('colab-df-spinner');\n",
              "      quickchartButtonEl.classList.add('colab-df-quickchart-complete');\n",
              "    }\n",
              "    (() => {\n",
              "      let quickchartButtonEl =\n",
              "        document.querySelector('#df-d5821320-3529-4fe8-8577-14efc1a5111f button');\n",
              "      quickchartButtonEl.style.display =\n",
              "        google.colab.kernel.accessAllowed ? 'block' : 'none';\n",
              "    })();\n",
              "  </script>\n",
              "</div>\n",
              "\n",
              "    </div>\n",
              "  </div>\n"
            ],
            "text/plain": [
              "  Precision (Data Type)  Retrieval Latency (ms)  \\\n",
              "0               float32                0.894696   \n",
              "1                  int8                0.729637   \n",
              "2                binary                0.675838   \n",
              "\n",
              "                                             Results  \n",
              "0  [{'chunk': 'With penetrating, almost clairvoya...  \n",
              "1  [{'chunk': 'With penetrating, almost clairvoya...  \n",
              "2  [{'chunk': '\"Success grows out of struggles to...  "
            ]
          },
          "execution_count": 102,
          "metadata": {},
          "output_type": "execute_result"
        }
      ],
      "source": [
        "results_df.head()"
      ]
    },
    {
      "cell_type": "code",
      "execution_count": null,
      "metadata": {
        "id": "8F2YgJj2s9Fk"
      },
      "outputs": [],
      "source": []
    }
  ],
  "metadata": {
    "colab": {
      "provenance": []
    },
    "kernelspec": {
      "display_name": "Python 3",
      "name": "python3"
    },
    "language_info": {
      "name": "python"
    }
  },
  "nbformat": 4,
  "nbformat_minor": 0
}
